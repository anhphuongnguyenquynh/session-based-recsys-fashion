{
  "cells": [
    {
      "cell_type": "markdown",
      "metadata": {
        "id": "RCXlB4ATo5ov"
      },
      "source": [
        "## Setup"
      ]
    },
    {
      "cell_type": "code",
      "execution_count": 1,
      "metadata": {
        "id": "4h4PLM3Zo5ov"
      },
      "outputs": [],
      "source": [
        "import os\n",
        "\n",
        "os.environ[\"KERAS_BACKEND\"] = \"tensorflow\"\n",
        "\n",
        "import math\n",
        "from zipfile import ZipFile\n",
        "from urllib.request import urlretrieve\n",
        "\n",
        "import keras\n",
        "import numpy as np\n",
        "import pandas as pd\n",
        "import tensorflow as tf\n",
        "from keras import layers\n",
        "from keras.layers import StringLookup\n"
      ]
    },
    {
      "cell_type": "code",
      "source": [
        "import tensorflow as tf\n",
        "from tensorflow.keras.preprocessing.text import Tokenizer"
      ],
      "metadata": {
        "id": "Jo0yWK0Ny7Q8"
      },
      "execution_count": 2,
      "outputs": []
    },
    {
      "cell_type": "code",
      "source": [
        "#import train test split\n",
        "from sklearn.model_selection import train_test_split\n",
        "import random"
      ],
      "metadata": {
        "id": "1mNPSE1_nWzg"
      },
      "execution_count": 3,
      "outputs": []
    },
    {
      "cell_type": "code",
      "source": [
        "!pip install -q keras-core\n",
        "import keras_core as keras_core"
      ],
      "metadata": {
        "id": "WPCd3TEHp9p5",
        "colab": {
          "base_uri": "https://localhost:8080/"
        },
        "outputId": "926453a5-c97e-464f-e0af-9ac8733dec0e"
      },
      "execution_count": 4,
      "outputs": [
        {
          "output_type": "stream",
          "name": "stdout",
          "text": [
            "Using TensorFlow backend\n"
          ]
        }
      ]
    },
    {
      "cell_type": "code",
      "source": [
        "!pip install --upgrade keras\n",
        "from keras import ops"
      ],
      "metadata": {
        "id": "U8kw5LKsrNSY",
        "colab": {
          "base_uri": "https://localhost:8080/"
        },
        "outputId": "1c8ba8f1-74c4-4c93-978f-8ac3721feb56"
      },
      "execution_count": 5,
      "outputs": [
        {
          "output_type": "stream",
          "name": "stdout",
          "text": [
            "Requirement already satisfied: keras in /usr/local/lib/python3.10/dist-packages (3.3.3)\n",
            "Requirement already satisfied: absl-py in /usr/local/lib/python3.10/dist-packages (from keras) (1.4.0)\n",
            "Requirement already satisfied: numpy in /usr/local/lib/python3.10/dist-packages (from keras) (1.25.2)\n",
            "Requirement already satisfied: rich in /usr/local/lib/python3.10/dist-packages (from keras) (13.7.1)\n",
            "Requirement already satisfied: namex in /usr/local/lib/python3.10/dist-packages (from keras) (0.0.8)\n",
            "Requirement already satisfied: h5py in /usr/local/lib/python3.10/dist-packages (from keras) (3.9.0)\n",
            "Requirement already satisfied: optree in /usr/local/lib/python3.10/dist-packages (from keras) (0.11.0)\n",
            "Requirement already satisfied: ml-dtypes in /usr/local/lib/python3.10/dist-packages (from keras) (0.2.0)\n",
            "Requirement already satisfied: typing-extensions>=4.0.0 in /usr/local/lib/python3.10/dist-packages (from optree->keras) (4.11.0)\n",
            "Requirement already satisfied: markdown-it-py>=2.2.0 in /usr/local/lib/python3.10/dist-packages (from rich->keras) (3.0.0)\n",
            "Requirement already satisfied: pygments<3.0.0,>=2.13.0 in /usr/local/lib/python3.10/dist-packages (from rich->keras) (2.16.1)\n",
            "Requirement already satisfied: mdurl~=0.1 in /usr/local/lib/python3.10/dist-packages (from markdown-it-py>=2.2.0->rich->keras) (0.1.2)\n"
          ]
        }
      ]
    },
    {
      "cell_type": "markdown",
      "metadata": {
        "id": "WBxgnpmwo5ow"
      },
      "source": [
        "## Prepare the data\n",
        "\n",
        "### Download and prepare the DataFrames"
      ]
    },
    {
      "cell_type": "code",
      "source": [
        "url = 'https://raw.githubusercontent.com/anhphuongnguyenquynh/session-based-recsys-fashion/main/dressipi_recsys2022_datasets.zip'\n",
        "!wget $url\n",
        "!unzip dressipi_recsys2022_datasets.zip"
      ],
      "metadata": {
        "id": "0BA7xB3y6y96",
        "colab": {
          "base_uri": "https://localhost:8080/"
        },
        "outputId": "f806636a-2cdb-4cfc-9617-0fdd8a46f823"
      },
      "execution_count": 6,
      "outputs": [
        {
          "output_type": "stream",
          "name": "stdout",
          "text": [
            "--2024-05-24 11:43:40--  https://raw.githubusercontent.com/anhphuongnguyenquynh/session-based-recsys-fashion/main/dressipi_recsys2022_datasets.zip\n",
            "Resolving raw.githubusercontent.com (raw.githubusercontent.com)... 185.199.108.133, 185.199.110.133, 185.199.111.133, ...\n",
            "Connecting to raw.githubusercontent.com (raw.githubusercontent.com)|185.199.108.133|:443... connected.\n",
            "HTTP request sent, awaiting response... 200 OK\n",
            "Length: 79384785 (76M) [application/zip]\n",
            "Saving to: ‘dressipi_recsys2022_datasets.zip’\n",
            "\n",
            "dressipi_recsys2022 100%[===================>]  75.71M   130MB/s    in 0.6s    \n",
            "\n",
            "2024-05-24 11:43:41 (130 MB/s) - ‘dressipi_recsys2022_datasets.zip’ saved [79384785/79384785]\n",
            "\n",
            "Archive:  dressipi_recsys2022_datasets.zip\n",
            "   creating: dressipi_recsys2022_dataset/\n",
            "  inflating: dressipi_recsys2022_dataset/README.txt  \n",
            "  inflating: dressipi_recsys2022_dataset/candidate_items.csv  \n",
            "  inflating: dressipi_recsys2022_dataset/item_features.csv  \n",
            "  inflating: dressipi_recsys2022_dataset/test_final_purchases.csv  \n",
            "  inflating: dressipi_recsys2022_dataset/test_final_sessions.csv  \n",
            "  inflating: dressipi_recsys2022_dataset/test_full_purchases.csv  \n",
            "  inflating: dressipi_recsys2022_dataset/test_full_sessions.csv  \n",
            "  inflating: dressipi_recsys2022_dataset/test_leaderboard_purchases.csv  \n",
            "  inflating: dressipi_recsys2022_dataset/test_leaderboard_sessions.csv  \n",
            "  inflating: dressipi_recsys2022_dataset/train_purchases.csv  \n",
            "  inflating: dressipi_recsys2022_dataset/train_sessions.csv  \n"
          ]
        }
      ]
    },
    {
      "cell_type": "code",
      "source": [
        "item_features = pd.read_csv('dressipi_recsys2022_dataset/item_features.csv')"
      ],
      "metadata": {
        "id": "peLs3xFV61Ao"
      },
      "execution_count": 7,
      "outputs": []
    },
    {
      "cell_type": "code",
      "source": [
        "candidate_items = pd.read_csv('dressipi_recsys2022_dataset/candidate_items.csv')"
      ],
      "metadata": {
        "id": "l5H-D-3JDrHA"
      },
      "execution_count": 8,
      "outputs": []
    },
    {
      "cell_type": "code",
      "source": [
        "#url = 'https://raw.githubusercontent.com/anhphuongnguyenquynh/session-based-recsys-fashion/main/dataset_filtered/train_sessions_duration003.csv'\n",
        "#train_session fraction 10% ~ 500.000\n",
        "url01 = 'https://raw.githubusercontent.com/anhphuongnguyenquynh/session-based-recsys-fashion/main/dataset_filtered/train_session01_seq.csv'"
      ],
      "metadata": {
        "id": "Up90vpHf64Cp"
      },
      "execution_count": 9,
      "outputs": []
    },
    {
      "cell_type": "code",
      "source": [
        "dataset01 = pd.read_csv(url01, index_col = 0, parse_dates=[\"date\"])\n",
        "dataset01 = dataset01.dropna()\n",
        "dataset01 = dataset01.reset_index()\n",
        "#fraction\n",
        "dataset = dataset01.sample(frac=0.6)"
      ],
      "metadata": {
        "id": "tDf2bVNb66W1"
      },
      "execution_count": 10,
      "outputs": []
    },
    {
      "cell_type": "code",
      "source": [
        "dataset.dtypes"
      ],
      "metadata": {
        "id": "pexY7_oQUGp1",
        "colab": {
          "base_uri": "https://localhost:8080/"
        },
        "outputId": "6d99bd75-5c9c-4b0a-a41b-682009d0a52f"
      },
      "execution_count": 11,
      "outputs": [
        {
          "output_type": "execute_result",
          "data": {
            "text/plain": [
              "session_id           float64\n",
              "item_id              float64\n",
              "date          datetime64[ns]\n",
              "timestamp            float64\n",
              "month                float64\n",
              "weekYear             float64\n",
              "season               float64\n",
              "duration             float64\n",
              "dtype: object"
            ]
          },
          "metadata": {},
          "execution_count": 11
        }
      ]
    },
    {
      "cell_type": "code",
      "source": [
        "dataset.shape"
      ],
      "metadata": {
        "colab": {
          "base_uri": "https://localhost:8080/"
        },
        "id": "lYXdoCahiecg",
        "outputId": "40be036f-5cd4-4780-c9c5-4078155ee900"
      },
      "execution_count": 12,
      "outputs": [
        {
          "output_type": "execute_result",
          "data": {
            "text/plain": [
              "(310166, 8)"
            ]
          },
          "metadata": {},
          "execution_count": 12
        }
      ]
    },
    {
      "cell_type": "code",
      "source": [
        "#Group by session_id after sort_values by timestamp\n",
        "sessions_groups = dataset.sort_values(by=[\"timestamp\"]).groupby(\"session_id\")\n",
        "sessions_train = pd.DataFrame(data = {\n",
        "        \"session_id\": list(sessions_groups.groups.keys()),\n",
        "        \"month\" : list(sessions_groups.month.unique().explode()),\n",
        "        \"weekYear\" : list(sessions_groups.weekYear.unique().explode()),\n",
        "        \"season\" : list(sessions_groups.season.unique().explode()),\n",
        "        \"item_ids\": list(sessions_groups.item_id.apply(list)),\n",
        "        \"durations\": list(sessions_groups.duration.apply(list)),\n",
        "        \"timestamps\": list(sessions_groups.timestamp.apply(list)),\n",
        "    })"
      ],
      "metadata": {
        "id": "GvjwV7G56-WG"
      },
      "execution_count": 13,
      "outputs": []
    },
    {
      "cell_type": "code",
      "source": [
        "#drop session has item_ids <2\n",
        "sessions_train = sessions_train[sessions_train.item_ids.apply(len) >= 2]"
      ],
      "metadata": {
        "id": "MxNWNWh57FOJ"
      },
      "execution_count": 14,
      "outputs": []
    },
    {
      "cell_type": "code",
      "source": [
        "sequence_length = 4\n",
        "step = 2\n",
        "def create_sequences(values, sequence, step):\n",
        "  start_idx = 0\n",
        "  sec_list = []\n",
        "  #Handle case < sequence:\n",
        "  if len(values) < sequence:\n",
        "    values = values * 2\n",
        "  #Handle case >= sequence:\n",
        "  while True:\n",
        "    end_idx = start_idx + sequence\n",
        "    sec = values[start_idx:end_idx]\n",
        "    start_idx += step\n",
        "    if end_idx >= len(values):\n",
        "      sec = values[-sequence:]\n",
        "      sec_list.append(sec)\n",
        "      break\n",
        "    sec_list.append(sec)\n",
        "  return sec_list"
      ],
      "metadata": {
        "id": "mQrh15Th7I6V"
      },
      "execution_count": 15,
      "outputs": []
    },
    {
      "cell_type": "code",
      "source": [
        "sessions_train[\"item_ids\"] = sessions_train[\"item_ids\"].apply(\n",
        "    lambda values: create_sequences(\n",
        "        values,sequence_length, step))\n",
        "\n",
        "sessions_train[\"durations\"] = sessions_train[\"durations\"].apply(\n",
        "    lambda values: create_sequences(\n",
        "        values,sequence_length, step))\n",
        "\n",
        "sessions_train = sessions_train.drop(columns = [\"timestamps\"])\n",
        "\n",
        "sessions_train = sessions_train.explode(column=[\"item_ids\", \"durations\"]).reset_index(drop=True)"
      ],
      "metadata": {
        "id": "ux28h7Gz7NEu"
      },
      "execution_count": 16,
      "outputs": []
    },
    {
      "cell_type": "code",
      "source": [
        "#remove '[' ']' in a sequence\n",
        "sessions_train.item_ids = sessions_train.item_ids.apply(\n",
        "    lambda x: \",\".join([str(v) for v in x]))\n",
        "\n",
        "sessions_train.durations = sessions_train.durations.apply(\n",
        "    lambda x: \",\".join([str(v) for v in x]))\n"
      ],
      "metadata": {
        "id": "Ik6mlbQH7Z9u"
      },
      "execution_count": 17,
      "outputs": []
    },
    {
      "cell_type": "code",
      "source": [
        "#drop weekYear and season\n",
        "#convert type column month to string\n",
        "sessions_train[\"month\"] = sessions_train[\"month\"].astype(str)\n",
        "sessions_train = sessions_train.drop(columns = [\"weekYear\", \"season\"])\n",
        "sessions_train.head(5)"
      ],
      "metadata": {
        "id": "616E3kW18Fnv",
        "colab": {
          "base_uri": "https://localhost:8080/",
          "height": 206
        },
        "outputId": "d580a413-82e3-410a-e4d3-e10f4b7ee8d7"
      },
      "execution_count": 18,
      "outputs": [
        {
          "output_type": "execute_result",
          "data": {
            "text/plain": [
              "   session_id month                         item_ids              durations\n",
              "0       108.0   6.0    4816.0,26130.0,4816.0,26130.0      1.0,67.0,1.0,67.0\n",
              "1       380.0   1.0  14208.0,19112.0,24730.0,14208.0        1.0,1.0,1.0,1.0\n",
              "2       380.0   1.0  24730.0,14208.0,19112.0,24730.0        1.0,1.0,1.0,1.0\n",
              "3       453.0   8.0  19974.0,11386.0,19974.0,11386.0        1.0,1.0,1.0,1.0\n",
              "4       499.0   8.0   13617.0,2570.0,13617.0,13617.0  1642.0,1.0,1.0,1642.0"
            ],
            "text/html": [
              "\n",
              "  <div id=\"df-51608957-569c-4a0c-b2e6-5bdd6b120ed5\" class=\"colab-df-container\">\n",
              "    <div>\n",
              "<style scoped>\n",
              "    .dataframe tbody tr th:only-of-type {\n",
              "        vertical-align: middle;\n",
              "    }\n",
              "\n",
              "    .dataframe tbody tr th {\n",
              "        vertical-align: top;\n",
              "    }\n",
              "\n",
              "    .dataframe thead th {\n",
              "        text-align: right;\n",
              "    }\n",
              "</style>\n",
              "<table border=\"1\" class=\"dataframe\">\n",
              "  <thead>\n",
              "    <tr style=\"text-align: right;\">\n",
              "      <th></th>\n",
              "      <th>session_id</th>\n",
              "      <th>month</th>\n",
              "      <th>item_ids</th>\n",
              "      <th>durations</th>\n",
              "    </tr>\n",
              "  </thead>\n",
              "  <tbody>\n",
              "    <tr>\n",
              "      <th>0</th>\n",
              "      <td>108.0</td>\n",
              "      <td>6.0</td>\n",
              "      <td>4816.0,26130.0,4816.0,26130.0</td>\n",
              "      <td>1.0,67.0,1.0,67.0</td>\n",
              "    </tr>\n",
              "    <tr>\n",
              "      <th>1</th>\n",
              "      <td>380.0</td>\n",
              "      <td>1.0</td>\n",
              "      <td>14208.0,19112.0,24730.0,14208.0</td>\n",
              "      <td>1.0,1.0,1.0,1.0</td>\n",
              "    </tr>\n",
              "    <tr>\n",
              "      <th>2</th>\n",
              "      <td>380.0</td>\n",
              "      <td>1.0</td>\n",
              "      <td>24730.0,14208.0,19112.0,24730.0</td>\n",
              "      <td>1.0,1.0,1.0,1.0</td>\n",
              "    </tr>\n",
              "    <tr>\n",
              "      <th>3</th>\n",
              "      <td>453.0</td>\n",
              "      <td>8.0</td>\n",
              "      <td>19974.0,11386.0,19974.0,11386.0</td>\n",
              "      <td>1.0,1.0,1.0,1.0</td>\n",
              "    </tr>\n",
              "    <tr>\n",
              "      <th>4</th>\n",
              "      <td>499.0</td>\n",
              "      <td>8.0</td>\n",
              "      <td>13617.0,2570.0,13617.0,13617.0</td>\n",
              "      <td>1642.0,1.0,1.0,1642.0</td>\n",
              "    </tr>\n",
              "  </tbody>\n",
              "</table>\n",
              "</div>\n",
              "    <div class=\"colab-df-buttons\">\n",
              "\n",
              "  <div class=\"colab-df-container\">\n",
              "    <button class=\"colab-df-convert\" onclick=\"convertToInteractive('df-51608957-569c-4a0c-b2e6-5bdd6b120ed5')\"\n",
              "            title=\"Convert this dataframe to an interactive table.\"\n",
              "            style=\"display:none;\">\n",
              "\n",
              "  <svg xmlns=\"http://www.w3.org/2000/svg\" height=\"24px\" viewBox=\"0 -960 960 960\">\n",
              "    <path d=\"M120-120v-720h720v720H120Zm60-500h600v-160H180v160Zm220 220h160v-160H400v160Zm0 220h160v-160H400v160ZM180-400h160v-160H180v160Zm440 0h160v-160H620v160ZM180-180h160v-160H180v160Zm440 0h160v-160H620v160Z\"/>\n",
              "  </svg>\n",
              "    </button>\n",
              "\n",
              "  <style>\n",
              "    .colab-df-container {\n",
              "      display:flex;\n",
              "      gap: 12px;\n",
              "    }\n",
              "\n",
              "    .colab-df-convert {\n",
              "      background-color: #E8F0FE;\n",
              "      border: none;\n",
              "      border-radius: 50%;\n",
              "      cursor: pointer;\n",
              "      display: none;\n",
              "      fill: #1967D2;\n",
              "      height: 32px;\n",
              "      padding: 0 0 0 0;\n",
              "      width: 32px;\n",
              "    }\n",
              "\n",
              "    .colab-df-convert:hover {\n",
              "      background-color: #E2EBFA;\n",
              "      box-shadow: 0px 1px 2px rgba(60, 64, 67, 0.3), 0px 1px 3px 1px rgba(60, 64, 67, 0.15);\n",
              "      fill: #174EA6;\n",
              "    }\n",
              "\n",
              "    .colab-df-buttons div {\n",
              "      margin-bottom: 4px;\n",
              "    }\n",
              "\n",
              "    [theme=dark] .colab-df-convert {\n",
              "      background-color: #3B4455;\n",
              "      fill: #D2E3FC;\n",
              "    }\n",
              "\n",
              "    [theme=dark] .colab-df-convert:hover {\n",
              "      background-color: #434B5C;\n",
              "      box-shadow: 0px 1px 3px 1px rgba(0, 0, 0, 0.15);\n",
              "      filter: drop-shadow(0px 1px 2px rgba(0, 0, 0, 0.3));\n",
              "      fill: #FFFFFF;\n",
              "    }\n",
              "  </style>\n",
              "\n",
              "    <script>\n",
              "      const buttonEl =\n",
              "        document.querySelector('#df-51608957-569c-4a0c-b2e6-5bdd6b120ed5 button.colab-df-convert');\n",
              "      buttonEl.style.display =\n",
              "        google.colab.kernel.accessAllowed ? 'block' : 'none';\n",
              "\n",
              "      async function convertToInteractive(key) {\n",
              "        const element = document.querySelector('#df-51608957-569c-4a0c-b2e6-5bdd6b120ed5');\n",
              "        const dataTable =\n",
              "          await google.colab.kernel.invokeFunction('convertToInteractive',\n",
              "                                                    [key], {});\n",
              "        if (!dataTable) return;\n",
              "\n",
              "        const docLinkHtml = 'Like what you see? Visit the ' +\n",
              "          '<a target=\"_blank\" href=https://colab.research.google.com/notebooks/data_table.ipynb>data table notebook</a>'\n",
              "          + ' to learn more about interactive tables.';\n",
              "        element.innerHTML = '';\n",
              "        dataTable['output_type'] = 'display_data';\n",
              "        await google.colab.output.renderOutput(dataTable, element);\n",
              "        const docLink = document.createElement('div');\n",
              "        docLink.innerHTML = docLinkHtml;\n",
              "        element.appendChild(docLink);\n",
              "      }\n",
              "    </script>\n",
              "  </div>\n",
              "\n",
              "\n",
              "<div id=\"df-59797345-8378-4665-918c-e03a60dbcb09\">\n",
              "  <button class=\"colab-df-quickchart\" onclick=\"quickchart('df-59797345-8378-4665-918c-e03a60dbcb09')\"\n",
              "            title=\"Suggest charts\"\n",
              "            style=\"display:none;\">\n",
              "\n",
              "<svg xmlns=\"http://www.w3.org/2000/svg\" height=\"24px\"viewBox=\"0 0 24 24\"\n",
              "     width=\"24px\">\n",
              "    <g>\n",
              "        <path d=\"M19 3H5c-1.1 0-2 .9-2 2v14c0 1.1.9 2 2 2h14c1.1 0 2-.9 2-2V5c0-1.1-.9-2-2-2zM9 17H7v-7h2v7zm4 0h-2V7h2v10zm4 0h-2v-4h2v4z\"/>\n",
              "    </g>\n",
              "</svg>\n",
              "  </button>\n",
              "\n",
              "<style>\n",
              "  .colab-df-quickchart {\n",
              "      --bg-color: #E8F0FE;\n",
              "      --fill-color: #1967D2;\n",
              "      --hover-bg-color: #E2EBFA;\n",
              "      --hover-fill-color: #174EA6;\n",
              "      --disabled-fill-color: #AAA;\n",
              "      --disabled-bg-color: #DDD;\n",
              "  }\n",
              "\n",
              "  [theme=dark] .colab-df-quickchart {\n",
              "      --bg-color: #3B4455;\n",
              "      --fill-color: #D2E3FC;\n",
              "      --hover-bg-color: #434B5C;\n",
              "      --hover-fill-color: #FFFFFF;\n",
              "      --disabled-bg-color: #3B4455;\n",
              "      --disabled-fill-color: #666;\n",
              "  }\n",
              "\n",
              "  .colab-df-quickchart {\n",
              "    background-color: var(--bg-color);\n",
              "    border: none;\n",
              "    border-radius: 50%;\n",
              "    cursor: pointer;\n",
              "    display: none;\n",
              "    fill: var(--fill-color);\n",
              "    height: 32px;\n",
              "    padding: 0;\n",
              "    width: 32px;\n",
              "  }\n",
              "\n",
              "  .colab-df-quickchart:hover {\n",
              "    background-color: var(--hover-bg-color);\n",
              "    box-shadow: 0 1px 2px rgba(60, 64, 67, 0.3), 0 1px 3px 1px rgba(60, 64, 67, 0.15);\n",
              "    fill: var(--button-hover-fill-color);\n",
              "  }\n",
              "\n",
              "  .colab-df-quickchart-complete:disabled,\n",
              "  .colab-df-quickchart-complete:disabled:hover {\n",
              "    background-color: var(--disabled-bg-color);\n",
              "    fill: var(--disabled-fill-color);\n",
              "    box-shadow: none;\n",
              "  }\n",
              "\n",
              "  .colab-df-spinner {\n",
              "    border: 2px solid var(--fill-color);\n",
              "    border-color: transparent;\n",
              "    border-bottom-color: var(--fill-color);\n",
              "    animation:\n",
              "      spin 1s steps(1) infinite;\n",
              "  }\n",
              "\n",
              "  @keyframes spin {\n",
              "    0% {\n",
              "      border-color: transparent;\n",
              "      border-bottom-color: var(--fill-color);\n",
              "      border-left-color: var(--fill-color);\n",
              "    }\n",
              "    20% {\n",
              "      border-color: transparent;\n",
              "      border-left-color: var(--fill-color);\n",
              "      border-top-color: var(--fill-color);\n",
              "    }\n",
              "    30% {\n",
              "      border-color: transparent;\n",
              "      border-left-color: var(--fill-color);\n",
              "      border-top-color: var(--fill-color);\n",
              "      border-right-color: var(--fill-color);\n",
              "    }\n",
              "    40% {\n",
              "      border-color: transparent;\n",
              "      border-right-color: var(--fill-color);\n",
              "      border-top-color: var(--fill-color);\n",
              "    }\n",
              "    60% {\n",
              "      border-color: transparent;\n",
              "      border-right-color: var(--fill-color);\n",
              "    }\n",
              "    80% {\n",
              "      border-color: transparent;\n",
              "      border-right-color: var(--fill-color);\n",
              "      border-bottom-color: var(--fill-color);\n",
              "    }\n",
              "    90% {\n",
              "      border-color: transparent;\n",
              "      border-bottom-color: var(--fill-color);\n",
              "    }\n",
              "  }\n",
              "</style>\n",
              "\n",
              "  <script>\n",
              "    async function quickchart(key) {\n",
              "      const quickchartButtonEl =\n",
              "        document.querySelector('#' + key + ' button');\n",
              "      quickchartButtonEl.disabled = true;  // To prevent multiple clicks.\n",
              "      quickchartButtonEl.classList.add('colab-df-spinner');\n",
              "      try {\n",
              "        const charts = await google.colab.kernel.invokeFunction(\n",
              "            'suggestCharts', [key], {});\n",
              "      } catch (error) {\n",
              "        console.error('Error during call to suggestCharts:', error);\n",
              "      }\n",
              "      quickchartButtonEl.classList.remove('colab-df-spinner');\n",
              "      quickchartButtonEl.classList.add('colab-df-quickchart-complete');\n",
              "    }\n",
              "    (() => {\n",
              "      let quickchartButtonEl =\n",
              "        document.querySelector('#df-59797345-8378-4665-918c-e03a60dbcb09 button');\n",
              "      quickchartButtonEl.style.display =\n",
              "        google.colab.kernel.accessAllowed ? 'block' : 'none';\n",
              "    })();\n",
              "  </script>\n",
              "</div>\n",
              "\n",
              "    </div>\n",
              "  </div>\n"
            ],
            "application/vnd.google.colaboratory.intrinsic+json": {
              "type": "dataframe",
              "variable_name": "sessions_train",
              "summary": "{\n  \"name\": \"sessions_train\",\n  \"rows\": 59375,\n  \"fields\": [\n    {\n      \"column\": \"session_id\",\n      \"properties\": {\n        \"dtype\": \"number\",\n        \"std\": 1284803.97734769,\n        \"min\": 108.0,\n        \"max\": 4439973.0,\n        \"num_unique_values\": 49197,\n        \"samples\": [\n          2598508.0,\n          1758011.0,\n          807562.0\n        ],\n        \"semantic_type\": \"\",\n        \"description\": \"\"\n      }\n    },\n    {\n      \"column\": \"month\",\n      \"properties\": {\n        \"dtype\": \"category\",\n        \"num_unique_values\": 12,\n        \"samples\": [\n          \"4.0\",\n          \"11.0\",\n          \"6.0\"\n        ],\n        \"semantic_type\": \"\",\n        \"description\": \"\"\n      }\n    },\n    {\n      \"column\": \"item_ids\",\n      \"properties\": {\n        \"dtype\": \"string\",\n        \"num_unique_values\": 58578,\n        \"samples\": [\n          \"17267.0,15709.0,15794.0,17267.0\",\n          \"1344.0,8618.0,9987.0,1344.0\",\n          \"20442.0,20798.0,26673.0,20442.0\"\n        ],\n        \"semantic_type\": \"\",\n        \"description\": \"\"\n      }\n    },\n    {\n      \"column\": \"durations\",\n      \"properties\": {\n        \"dtype\": \"category\",\n        \"num_unique_values\": 3858,\n        \"samples\": [\n          \"1.0,22628.0,1.0,22628.0\",\n          \"43.0,1225.0,43.0,1225.0\",\n          \"1.0,1.0,304.0,1.0\"\n        ],\n        \"semantic_type\": \"\",\n        \"description\": \"\"\n      }\n    }\n  ]\n}"
            }
          },
          "metadata": {},
          "execution_count": 18
        }
      ]
    },
    {
      "cell_type": "code",
      "source": [
        "sessions_train = sessions_train.rename(columns = {\"item_ids\": \"sequence_item_ids\",\n",
        "                                  \"durations\": \"sequence_durations\"})\n"
      ],
      "metadata": {
        "id": "nQkUKeyr-Vx2"
      },
      "execution_count": 19,
      "outputs": []
    },
    {
      "cell_type": "code",
      "source": [
        "sessions_train.shape"
      ],
      "metadata": {
        "id": "pKocz2zVtXjl",
        "colab": {
          "base_uri": "https://localhost:8080/"
        },
        "outputId": "48c1365d-dea0-4b6e-9f8d-416b5327c926"
      },
      "execution_count": 20,
      "outputs": [
        {
          "output_type": "execute_result",
          "data": {
            "text/plain": [
              "(59375, 4)"
            ]
          },
          "metadata": {},
          "execution_count": 20
        }
      ]
    },
    {
      "cell_type": "code",
      "source": [
        "#conunt unique item_id in dataset\n",
        "count_unique_item = len(item_features.item_id.unique())\n",
        "count_unique_item"
      ],
      "metadata": {
        "colab": {
          "base_uri": "https://localhost:8080/"
        },
        "id": "MvaCxcjEgcPJ",
        "outputId": "27434da2-4640-4b67-d387-11488e9b066c"
      },
      "execution_count": 21,
      "outputs": [
        {
          "output_type": "execute_result",
          "data": {
            "text/plain": [
              "23691"
            ]
          },
          "metadata": {},
          "execution_count": 21
        }
      ]
    },
    {
      "cell_type": "markdown",
      "source": [
        "##Find similar item by Skipgram Word2Vec"
      ],
      "metadata": {
        "id": "ZF_cbtg_GmSn"
      }
    },
    {
      "cell_type": "code",
      "source": [
        "#convert to string and store all the sequence_item_ids to a list\n",
        "all_sequence_items = []\n",
        "for i in range(len(sessions_train.index)):\n",
        "  list_seq = list(sessions_train.sequence_item_ids[i].split(\",\"))\n",
        "  all_sequence_items.append(list_seq)"
      ],
      "metadata": {
        "id": "_A_34ItJhs3A"
      },
      "execution_count": 22,
      "outputs": []
    },
    {
      "cell_type": "code",
      "source": [
        "all_sequence_items[:4]"
      ],
      "metadata": {
        "colab": {
          "base_uri": "https://localhost:8080/"
        },
        "id": "NqNWQPjalYkL",
        "outputId": "c7629d08-3222-46d9-fd14-2b78a80012fe"
      },
      "execution_count": null,
      "outputs": [
        {
          "output_type": "execute_result",
          "data": {
            "text/plain": [
              "[['20033.0', '6704.0', '20033.0', '6704.0'],\n",
              " ['21152.0', '27613.0', '21152.0', '27613.0'],\n",
              " ['14208.0', '19112.0', '14208.0', '19112.0'],\n",
              " ['19974.0', '3791.0', '19974.0', '3791.0']]"
            ]
          },
          "metadata": {},
          "execution_count": 48
        }
      ]
    },
    {
      "cell_type": "code",
      "source": [
        "len(all_sequence_items)"
      ],
      "metadata": {
        "colab": {
          "base_uri": "https://localhost:8080/"
        },
        "id": "Ap9vJiT_in-c",
        "outputId": "a4586d97-6ff8-4452-9690-23dc3210cda4"
      },
      "execution_count": 23,
      "outputs": [
        {
          "output_type": "execute_result",
          "data": {
            "text/plain": [
              "59375"
            ]
          },
          "metadata": {},
          "execution_count": 23
        }
      ]
    },
    {
      "cell_type": "code",
      "source": [
        "#just get 1/3 of all_sequence_items to check\n",
        "#len_sequence_items = len(all_sequence_items)/3\n",
        "#all_sequence_items = all_sequence_items[:int(len_sequence_items)]"
      ],
      "metadata": {
        "id": "rkQPyw9LOklO"
      },
      "execution_count": null,
      "outputs": []
    },
    {
      "cell_type": "code",
      "source": [
        "#Create a tokenizer and fit it on the sequence list\n",
        "tok_obj = Tokenizer()\n",
        "tok_obj.fit_on_texts(all_sequence_items)"
      ],
      "metadata": {
        "id": "UyH1I2rTOgZa"
      },
      "execution_count": 24,
      "outputs": []
    },
    {
      "cell_type": "code",
      "source": [
        "#Create mapping dictionaries for items to ids and ids to items\n",
        "item_to_id = tok_obj.word_index # Example output {'8060.0': 1, '26853.0': 2, '2447.0': 3, '17089.0': 4}\n",
        "id_to_item = {v:k for k, v in item_to_id.items()}"
      ],
      "metadata": {
        "id": "bDb--r_vOjJL"
      },
      "execution_count": 25,
      "outputs": []
    },
    {
      "cell_type": "code",
      "source": [
        "item_ids_list = [[item_to_id[w] for w in sequence] for sequence in all_sequence_items]"
      ],
      "metadata": {
        "id": "p2Z-DGENPh8S"
      },
      "execution_count": 26,
      "outputs": []
    },
    {
      "cell_type": "code",
      "source": [
        "item_ids_list[:4]"
      ],
      "metadata": {
        "colab": {
          "base_uri": "https://localhost:8080/"
        },
        "id": "pjwNXNTRlyXN",
        "outputId": "70d03732-baee-416b-af0a-2e5034235e13"
      },
      "execution_count": 27,
      "outputs": [
        {
          "output_type": "execute_result",
          "data": {
            "text/plain": [
              "[[3120, 1085, 3120, 1085],\n",
              " [708, 9298, 2315, 708],\n",
              " [2315, 708, 9298, 2315],\n",
              " [1086, 318, 1086, 318]]"
            ]
          },
          "metadata": {},
          "execution_count": 27
        }
      ]
    },
    {
      "cell_type": "code",
      "source": [
        "#check vocab_size\n",
        "vocab_size = len(item_to_id) + 1\n",
        "vocab_size"
      ],
      "metadata": {
        "colab": {
          "base_uri": "https://localhost:8080/"
        },
        "id": "P5OiHHp8Pohr",
        "outputId": "77210a87-a7c5-4e6c-da7c-ab1310a6cc8a"
      },
      "execution_count": 28,
      "outputs": [
        {
          "output_type": "execute_result",
          "data": {
            "text/plain": [
              "15919"
            ]
          },
          "metadata": {},
          "execution_count": 28
        }
      ]
    },
    {
      "cell_type": "markdown",
      "source": [
        "###Generate skip grams"
      ],
      "metadata": {
        "id": "yqvRkcLyl7FS"
      }
    },
    {
      "cell_type": "code",
      "source": [
        "#GENERATE SKIP GRAMS\n",
        "# generate skip-grams\n",
        "skip_grams = [tf.keras.preprocessing.sequence.skipgrams(wid, vocabulary_size=vocab_size,window_size=4, ) for wid in item_ids_list]\n",
        "# view sample skip-grams\n",
        "pairs, labels = skip_grams[0][0], skip_grams[0][1]"
      ],
      "metadata": {
        "id": "WctS2jk5Pt_S"
      },
      "execution_count": 29,
      "outputs": []
    },
    {
      "cell_type": "code",
      "source": [
        "len(skip_grams)"
      ],
      "metadata": {
        "colab": {
          "base_uri": "https://localhost:8080/"
        },
        "id": "yXrwOLbwmCic",
        "outputId": "f89ba385-a79f-4e49-b7dd-59d8339543b9"
      },
      "execution_count": 30,
      "outputs": [
        {
          "output_type": "execute_result",
          "data": {
            "text/plain": [
              "59375"
            ]
          },
          "metadata": {},
          "execution_count": 30
        }
      ]
    },
    {
      "cell_type": "code",
      "source": [
        "for i in range(4):\n",
        "    print(\"({:s} ({:d}), {:s} ({:d})) -> {:d}\".format(\n",
        "          id_to_item[pairs[i][0]], pairs[i][0],\n",
        "          id_to_item[pairs[i][1]], pairs[i][1],\n",
        "          labels[i]))"
      ],
      "metadata": {
        "colab": {
          "base_uri": "https://localhost:8080/"
        },
        "id": "jNkB-M7VrghT",
        "outputId": "fb0fd1f9-1b00-4c47-aaee-bef60b6ebe30"
      },
      "execution_count": 31,
      "outputs": [
        {
          "output_type": "stream",
          "name": "stdout",
          "text": [
            "(4816.0 (3120), 27664.0 (2183)) -> 0\n",
            "(26130.0 (1085), 26130.0 (1085)) -> 1\n",
            "(26130.0 (1085), 23233.0 (11639)) -> 0\n",
            "(26130.0 (1085), 9696.0 (12766)) -> 0\n"
          ]
        }
      ]
    },
    {
      "cell_type": "markdown",
      "source": [
        "###Model Architectures\n"
      ],
      "metadata": {
        "id": "RIXyb787rkN0"
      }
    },
    {
      "cell_type": "code",
      "source": [
        "embedding_size = 100\n",
        "from tensorflow.keras.layers import Concatenate, Dense, Embedding, Reshape\n",
        "from tensorflow.keras.models import Model\n",
        "\n",
        "# Define the input layers for the target and context words\n",
        "target_word_input = tf.keras.Input(shape=(1,))\n",
        "context_word_input = tf.keras.Input(shape=(1,))\n",
        "\n",
        "# Build skip-gram architecture\n",
        "target_word_model = Embedding(vocab_size, embedding_size,\n",
        "                              embeddings_initializer=\"glorot_uniform\")(target_word_input)\n",
        "target_word_model = Reshape((embedding_size,))(target_word_model)\n",
        "\n",
        "context_word_model = Embedding(vocab_size, embedding_size,\n",
        "                               embeddings_initializer=\"glorot_uniform\")(context_word_input)\n",
        "context_word_model = Reshape((embedding_size,))(context_word_model)\n",
        "\n",
        "# Concatenate the output of the target and context models\n",
        "merged = Concatenate(axis=1)([target_word_model, context_word_model])\n",
        "\n",
        "# Add a dense layer and sigmoid activation\n",
        "output = Dense(1, kernel_initializer=\"glorot_uniform\", activation=\"sigmoid\")(merged)\n",
        "\n",
        "# Define the model\n",
        "model_item2vec = Model(inputs=[target_word_input, context_word_input], outputs=output)\n",
        "\n",
        "# Compile the model\n",
        "model_item2vec.compile(loss=\"mean_squared_error\", optimizer=\"adam\")\n",
        "\n",
        "# View model summary\n",
        "print(model_item2vec.summary())"
      ],
      "metadata": {
        "colab": {
          "base_uri": "https://localhost:8080/",
          "height": 447
        },
        "id": "gWiBU3Jernc1",
        "outputId": "9575e622-e8da-4e80-efc2-fb3eb2c3fd2c"
      },
      "execution_count": 32,
      "outputs": [
        {
          "output_type": "display_data",
          "data": {
            "text/plain": [
              "\u001b[1mModel: \"functional_1\"\u001b[0m\n"
            ],
            "text/html": [
              "<pre style=\"white-space:pre;overflow-x:auto;line-height:normal;font-family:Menlo,'DejaVu Sans Mono',consolas,'Courier New',monospace\"><span style=\"font-weight: bold\">Model: \"functional_1\"</span>\n",
              "</pre>\n"
            ]
          },
          "metadata": {}
        },
        {
          "output_type": "display_data",
          "data": {
            "text/plain": [
              "┏━━━━━━━━━━━━━━━━━━━━━━━━━━━┳━━━━━━━━━━━━━━━━━━━━━━━━┳━━━━━━━━━━━━━━━━┳━━━━━━━━━━━━━━━━━━━━━━━━┓\n",
              "┃\u001b[1m \u001b[0m\u001b[1mLayer (type)             \u001b[0m\u001b[1m \u001b[0m┃\u001b[1m \u001b[0m\u001b[1mOutput Shape          \u001b[0m\u001b[1m \u001b[0m┃\u001b[1m \u001b[0m\u001b[1m       Param #\u001b[0m\u001b[1m \u001b[0m┃\u001b[1m \u001b[0m\u001b[1mConnected to          \u001b[0m\u001b[1m \u001b[0m┃\n",
              "┡━━━━━━━━━━━━━━━━━━━━━━━━━━━╇━━━━━━━━━━━━━━━━━━━━━━━━╇━━━━━━━━━━━━━━━━╇━━━━━━━━━━━━━━━━━━━━━━━━┩\n",
              "│ input_layer (\u001b[38;5;33mInputLayer\u001b[0m)  │ (\u001b[38;5;45mNone\u001b[0m, \u001b[38;5;34m1\u001b[0m)              │              \u001b[38;5;34m0\u001b[0m │ -                      │\n",
              "├───────────────────────────┼────────────────────────┼────────────────┼────────────────────────┤\n",
              "│ input_layer_1             │ (\u001b[38;5;45mNone\u001b[0m, \u001b[38;5;34m1\u001b[0m)              │              \u001b[38;5;34m0\u001b[0m │ -                      │\n",
              "│ (\u001b[38;5;33mInputLayer\u001b[0m)              │                        │                │                        │\n",
              "├───────────────────────────┼────────────────────────┼────────────────┼────────────────────────┤\n",
              "│ embedding (\u001b[38;5;33mEmbedding\u001b[0m)     │ (\u001b[38;5;45mNone\u001b[0m, \u001b[38;5;34m1\u001b[0m, \u001b[38;5;34m100\u001b[0m)         │      \u001b[38;5;34m1,591,900\u001b[0m │ input_layer[\u001b[38;5;34m0\u001b[0m][\u001b[38;5;34m0\u001b[0m]      │\n",
              "├───────────────────────────┼────────────────────────┼────────────────┼────────────────────────┤\n",
              "│ embedding_1 (\u001b[38;5;33mEmbedding\u001b[0m)   │ (\u001b[38;5;45mNone\u001b[0m, \u001b[38;5;34m1\u001b[0m, \u001b[38;5;34m100\u001b[0m)         │      \u001b[38;5;34m1,591,900\u001b[0m │ input_layer_1[\u001b[38;5;34m0\u001b[0m][\u001b[38;5;34m0\u001b[0m]    │\n",
              "├───────────────────────────┼────────────────────────┼────────────────┼────────────────────────┤\n",
              "│ reshape (\u001b[38;5;33mReshape\u001b[0m)         │ (\u001b[38;5;45mNone\u001b[0m, \u001b[38;5;34m100\u001b[0m)            │              \u001b[38;5;34m0\u001b[0m │ embedding[\u001b[38;5;34m0\u001b[0m][\u001b[38;5;34m0\u001b[0m]        │\n",
              "├───────────────────────────┼────────────────────────┼────────────────┼────────────────────────┤\n",
              "│ reshape_1 (\u001b[38;5;33mReshape\u001b[0m)       │ (\u001b[38;5;45mNone\u001b[0m, \u001b[38;5;34m100\u001b[0m)            │              \u001b[38;5;34m0\u001b[0m │ embedding_1[\u001b[38;5;34m0\u001b[0m][\u001b[38;5;34m0\u001b[0m]      │\n",
              "├───────────────────────────┼────────────────────────┼────────────────┼────────────────────────┤\n",
              "│ concatenate (\u001b[38;5;33mConcatenate\u001b[0m) │ (\u001b[38;5;45mNone\u001b[0m, \u001b[38;5;34m200\u001b[0m)            │              \u001b[38;5;34m0\u001b[0m │ reshape[\u001b[38;5;34m0\u001b[0m][\u001b[38;5;34m0\u001b[0m],         │\n",
              "│                           │                        │                │ reshape_1[\u001b[38;5;34m0\u001b[0m][\u001b[38;5;34m0\u001b[0m]        │\n",
              "├───────────────────────────┼────────────────────────┼────────────────┼────────────────────────┤\n",
              "│ dense (\u001b[38;5;33mDense\u001b[0m)             │ (\u001b[38;5;45mNone\u001b[0m, \u001b[38;5;34m1\u001b[0m)              │            \u001b[38;5;34m201\u001b[0m │ concatenate[\u001b[38;5;34m0\u001b[0m][\u001b[38;5;34m0\u001b[0m]      │\n",
              "└───────────────────────────┴────────────────────────┴────────────────┴────────────────────────┘\n"
            ],
            "text/html": [
              "<pre style=\"white-space:pre;overflow-x:auto;line-height:normal;font-family:Menlo,'DejaVu Sans Mono',consolas,'Courier New',monospace\">┏━━━━━━━━━━━━━━━━━━━━━━━━━━━┳━━━━━━━━━━━━━━━━━━━━━━━━┳━━━━━━━━━━━━━━━━┳━━━━━━━━━━━━━━━━━━━━━━━━┓\n",
              "┃<span style=\"font-weight: bold\"> Layer (type)              </span>┃<span style=\"font-weight: bold\"> Output Shape           </span>┃<span style=\"font-weight: bold\">        Param # </span>┃<span style=\"font-weight: bold\"> Connected to           </span>┃\n",
              "┡━━━━━━━━━━━━━━━━━━━━━━━━━━━╇━━━━━━━━━━━━━━━━━━━━━━━━╇━━━━━━━━━━━━━━━━╇━━━━━━━━━━━━━━━━━━━━━━━━┩\n",
              "│ input_layer (<span style=\"color: #0087ff; text-decoration-color: #0087ff\">InputLayer</span>)  │ (<span style=\"color: #00d7ff; text-decoration-color: #00d7ff\">None</span>, <span style=\"color: #00af00; text-decoration-color: #00af00\">1</span>)              │              <span style=\"color: #00af00; text-decoration-color: #00af00\">0</span> │ -                      │\n",
              "├───────────────────────────┼────────────────────────┼────────────────┼────────────────────────┤\n",
              "│ input_layer_1             │ (<span style=\"color: #00d7ff; text-decoration-color: #00d7ff\">None</span>, <span style=\"color: #00af00; text-decoration-color: #00af00\">1</span>)              │              <span style=\"color: #00af00; text-decoration-color: #00af00\">0</span> │ -                      │\n",
              "│ (<span style=\"color: #0087ff; text-decoration-color: #0087ff\">InputLayer</span>)              │                        │                │                        │\n",
              "├───────────────────────────┼────────────────────────┼────────────────┼────────────────────────┤\n",
              "│ embedding (<span style=\"color: #0087ff; text-decoration-color: #0087ff\">Embedding</span>)     │ (<span style=\"color: #00d7ff; text-decoration-color: #00d7ff\">None</span>, <span style=\"color: #00af00; text-decoration-color: #00af00\">1</span>, <span style=\"color: #00af00; text-decoration-color: #00af00\">100</span>)         │      <span style=\"color: #00af00; text-decoration-color: #00af00\">1,591,900</span> │ input_layer[<span style=\"color: #00af00; text-decoration-color: #00af00\">0</span>][<span style=\"color: #00af00; text-decoration-color: #00af00\">0</span>]      │\n",
              "├───────────────────────────┼────────────────────────┼────────────────┼────────────────────────┤\n",
              "│ embedding_1 (<span style=\"color: #0087ff; text-decoration-color: #0087ff\">Embedding</span>)   │ (<span style=\"color: #00d7ff; text-decoration-color: #00d7ff\">None</span>, <span style=\"color: #00af00; text-decoration-color: #00af00\">1</span>, <span style=\"color: #00af00; text-decoration-color: #00af00\">100</span>)         │      <span style=\"color: #00af00; text-decoration-color: #00af00\">1,591,900</span> │ input_layer_1[<span style=\"color: #00af00; text-decoration-color: #00af00\">0</span>][<span style=\"color: #00af00; text-decoration-color: #00af00\">0</span>]    │\n",
              "├───────────────────────────┼────────────────────────┼────────────────┼────────────────────────┤\n",
              "│ reshape (<span style=\"color: #0087ff; text-decoration-color: #0087ff\">Reshape</span>)         │ (<span style=\"color: #00d7ff; text-decoration-color: #00d7ff\">None</span>, <span style=\"color: #00af00; text-decoration-color: #00af00\">100</span>)            │              <span style=\"color: #00af00; text-decoration-color: #00af00\">0</span> │ embedding[<span style=\"color: #00af00; text-decoration-color: #00af00\">0</span>][<span style=\"color: #00af00; text-decoration-color: #00af00\">0</span>]        │\n",
              "├───────────────────────────┼────────────────────────┼────────────────┼────────────────────────┤\n",
              "│ reshape_1 (<span style=\"color: #0087ff; text-decoration-color: #0087ff\">Reshape</span>)       │ (<span style=\"color: #00d7ff; text-decoration-color: #00d7ff\">None</span>, <span style=\"color: #00af00; text-decoration-color: #00af00\">100</span>)            │              <span style=\"color: #00af00; text-decoration-color: #00af00\">0</span> │ embedding_1[<span style=\"color: #00af00; text-decoration-color: #00af00\">0</span>][<span style=\"color: #00af00; text-decoration-color: #00af00\">0</span>]      │\n",
              "├───────────────────────────┼────────────────────────┼────────────────┼────────────────────────┤\n",
              "│ concatenate (<span style=\"color: #0087ff; text-decoration-color: #0087ff\">Concatenate</span>) │ (<span style=\"color: #00d7ff; text-decoration-color: #00d7ff\">None</span>, <span style=\"color: #00af00; text-decoration-color: #00af00\">200</span>)            │              <span style=\"color: #00af00; text-decoration-color: #00af00\">0</span> │ reshape[<span style=\"color: #00af00; text-decoration-color: #00af00\">0</span>][<span style=\"color: #00af00; text-decoration-color: #00af00\">0</span>],         │\n",
              "│                           │                        │                │ reshape_1[<span style=\"color: #00af00; text-decoration-color: #00af00\">0</span>][<span style=\"color: #00af00; text-decoration-color: #00af00\">0</span>]        │\n",
              "├───────────────────────────┼────────────────────────┼────────────────┼────────────────────────┤\n",
              "│ dense (<span style=\"color: #0087ff; text-decoration-color: #0087ff\">Dense</span>)             │ (<span style=\"color: #00d7ff; text-decoration-color: #00d7ff\">None</span>, <span style=\"color: #00af00; text-decoration-color: #00af00\">1</span>)              │            <span style=\"color: #00af00; text-decoration-color: #00af00\">201</span> │ concatenate[<span style=\"color: #00af00; text-decoration-color: #00af00\">0</span>][<span style=\"color: #00af00; text-decoration-color: #00af00\">0</span>]      │\n",
              "└───────────────────────────┴────────────────────────┴────────────────┴────────────────────────┘\n",
              "</pre>\n"
            ]
          },
          "metadata": {}
        },
        {
          "output_type": "display_data",
          "data": {
            "text/plain": [
              "\u001b[1m Total params: \u001b[0m\u001b[38;5;34m3,184,001\u001b[0m (12.15 MB)\n"
            ],
            "text/html": [
              "<pre style=\"white-space:pre;overflow-x:auto;line-height:normal;font-family:Menlo,'DejaVu Sans Mono',consolas,'Courier New',monospace\"><span style=\"font-weight: bold\"> Total params: </span><span style=\"color: #00af00; text-decoration-color: #00af00\">3,184,001</span> (12.15 MB)\n",
              "</pre>\n"
            ]
          },
          "metadata": {}
        },
        {
          "output_type": "display_data",
          "data": {
            "text/plain": [
              "\u001b[1m Trainable params: \u001b[0m\u001b[38;5;34m3,184,001\u001b[0m (12.15 MB)\n"
            ],
            "text/html": [
              "<pre style=\"white-space:pre;overflow-x:auto;line-height:normal;font-family:Menlo,'DejaVu Sans Mono',consolas,'Courier New',monospace\"><span style=\"font-weight: bold\"> Trainable params: </span><span style=\"color: #00af00; text-decoration-color: #00af00\">3,184,001</span> (12.15 MB)\n",
              "</pre>\n"
            ]
          },
          "metadata": {}
        },
        {
          "output_type": "display_data",
          "data": {
            "text/plain": [
              "\u001b[1m Non-trainable params: \u001b[0m\u001b[38;5;34m0\u001b[0m (0.00 B)\n"
            ],
            "text/html": [
              "<pre style=\"white-space:pre;overflow-x:auto;line-height:normal;font-family:Menlo,'DejaVu Sans Mono',consolas,'Courier New',monospace\"><span style=\"font-weight: bold\"> Non-trainable params: </span><span style=\"color: #00af00; text-decoration-color: #00af00\">0</span> (0.00 B)\n",
              "</pre>\n"
            ]
          },
          "metadata": {}
        },
        {
          "output_type": "stream",
          "name": "stdout",
          "text": [
            "None\n"
          ]
        }
      ]
    },
    {
      "cell_type": "code",
      "source": [
        "skip_grams_train_test = skip_grams[:20000]\n",
        "frac_train_test = round(len(skip_grams_train_test)*0.7)"
      ],
      "metadata": {
        "id": "pETy1oYi_2d3"
      },
      "execution_count": 33,
      "outputs": []
    },
    {
      "cell_type": "code",
      "source": [
        "frac_train_test"
      ],
      "metadata": {
        "colab": {
          "base_uri": "https://localhost:8080/"
        },
        "id": "RMyC15kjAm9m",
        "outputId": "c1877014-b89a-4a82-e7a3-4b09c4f6bb30"
      },
      "execution_count": 34,
      "outputs": [
        {
          "output_type": "execute_result",
          "data": {
            "text/plain": [
              "70"
            ]
          },
          "metadata": {},
          "execution_count": 34
        }
      ]
    },
    {
      "cell_type": "code",
      "source": [
        "train_skip_grams = skip_grams[:frac_train_test]\n",
        "test_skip_grams = skip_grams[frac_train_test:]"
      ],
      "metadata": {
        "id": "XgrJC6SyADdH"
      },
      "execution_count": 35,
      "outputs": []
    },
    {
      "cell_type": "code",
      "source": [
        "#TRAIN THE MODEL\n",
        "# train the model on the skip-grams\n",
        "for epoch in range(1, 4):\n",
        "    total_loss = 0\n",
        "    for i, elem in enumerate(train_skip_grams):\n",
        "        #print('start', i)\n",
        "        skip_first_elem = np.array(list(zip(*elem[0]))[0], dtype='int32')\n",
        "        #print(skip_first_elem, 'skip_first_elem', i)\n",
        "        skip_second_elem = np.array(list(zip(*elem[0]))[1], dtype='int32')\n",
        "        #print(skip_second_elem, 'skip_second_elem', i)\n",
        "        labels = np.array(elem[1], dtype='int32')\n",
        "        #print(labels, 'labels', i)\n",
        "        X = [skip_first_elem, skip_second_elem]\n",
        "        #print(X, 'X', i)\n",
        "        Y = labels\n",
        "        #print(Y, 'Y', i)\n",
        "        if i % 1000 == 0:\n",
        "            print('Processed {} skip-gram pairs'.format(i))\n",
        "        total_loss += model_item2vec.train_on_batch(X,Y)\n",
        "        #print(total_loss, 'total_loss', i)\n",
        "\n",
        "    print('Epoch: {} Loss: {}'.format(epoch, total_loss))"
      ],
      "metadata": {
        "colab": {
          "base_uri": "https://localhost:8080/"
        },
        "id": "RVNoZlmmry9n",
        "outputId": "14ea3299-2a31-455f-d01d-768c6e3b6ef8"
      },
      "execution_count": 44,
      "outputs": [
        {
          "output_type": "stream",
          "name": "stdout",
          "text": [
            "Processed 0 skip-gram pairs\n",
            "Epoch: 1 Loss: 0.41003402695059776\n",
            "Processed 0 skip-gram pairs\n",
            "Epoch: 2 Loss: 0.3438945566304028\n",
            "Processed 0 skip-gram pairs\n",
            "Epoch: 3 Loss: 0.29670315282419324\n"
          ]
        }
      ]
    },
    {
      "cell_type": "code",
      "source": [
        "#TEST and EVALUATE THE MODEL\n",
        "# train the model on the skip-grams\n",
        "for epoch in range(1, 4):\n",
        "    for i, elem in enumerate(test_skip_grams[:100]):\n",
        "        #print('start', i)\n",
        "        skip_first_elem = np.array(list(zip(*elem[0]))[0], dtype='int32')\n",
        "        #print(skip_first_elem, 'skip_first_elem', i)\n",
        "        skip_second_elem = np.array(list(zip(*elem[0]))[1], dtype='int32')\n",
        "        #print(skip_second_elem, 'skip_second_elem', i)\n",
        "        labels = np.array(elem[1], dtype='int32')\n",
        "        #print(labels, 'labels', i)\n",
        "        X = [skip_first_elem, skip_second_elem]\n",
        "        #print(X, 'X', i)\n",
        "        Y = labels\n",
        "        #print(Y, 'Y', i)\n",
        "        if i % 1000 == 0:\n",
        "            print('Processed {} skip-gram pairs'.format(i))\n",
        "        score = model_item2vec.evaluate(X,Y, verbose=0)\n",
        "        print('Accuracy: %f' % (score*100))\n",
        "\n",
        "\n",
        "    print('Epoch: {} Loss: {}'.format(epoch, score))"
      ],
      "metadata": {
        "colab": {
          "base_uri": "https://localhost:8080/"
        },
        "id": "uaVBBjIVd7g7",
        "outputId": "9355f3cf-cf69-44f9-a214-c0be6951c3a1"
      },
      "execution_count": 48,
      "outputs": [
        {
          "output_type": "stream",
          "name": "stdout",
          "text": [
            "Processed 0 skip-gram pairs\n",
            "Accuracy: 25.581542\n",
            "Accuracy: 26.518360\n",
            "Accuracy: 25.424299\n",
            "Accuracy: 26.306868\n",
            "Accuracy: 26.488903\n",
            "Accuracy: 25.000510\n",
            "Accuracy: 37.700844\n",
            "Accuracy: 25.854763\n",
            "Accuracy: 25.144085\n",
            "Accuracy: 24.903637\n",
            "Accuracy: 26.466405\n",
            "Accuracy: 29.259261\n",
            "Accuracy: 24.478662\n",
            "Accuracy: 24.762607\n",
            "Accuracy: 25.629821\n",
            "Accuracy: 24.622326\n",
            "Accuracy: 26.300731\n",
            "Accuracy: 24.863531\n",
            "Accuracy: 26.037693\n",
            "Accuracy: 25.614110\n",
            "Accuracy: 25.854072\n",
            "Accuracy: 24.703749\n",
            "Accuracy: 24.534160\n",
            "Accuracy: 25.818694\n",
            "Accuracy: 29.070458\n",
            "Accuracy: 25.374892\n",
            "Accuracy: 24.984765\n",
            "Accuracy: 29.357505\n",
            "Accuracy: 26.003051\n",
            "Accuracy: 25.774643\n",
            "Accuracy: 25.913772\n",
            "Accuracy: 27.649054\n",
            "Accuracy: 37.226748\n",
            "Accuracy: 25.691095\n",
            "Accuracy: 26.636624\n",
            "Accuracy: 23.951511\n",
            "Accuracy: 25.885326\n",
            "Accuracy: 26.769474\n",
            "Accuracy: 26.571184\n",
            "Accuracy: 17.382030\n",
            "Accuracy: 26.002690\n",
            "Accuracy: 25.245181\n",
            "Accuracy: 21.364285\n",
            "Accuracy: 27.821547\n",
            "Accuracy: 25.965419\n",
            "Accuracy: 26.585507\n",
            "Accuracy: 27.712968\n",
            "Accuracy: 26.495120\n",
            "Accuracy: 25.869018\n",
            "Accuracy: 25.489613\n",
            "Accuracy: 35.270855\n",
            "Accuracy: 31.089070\n",
            "Accuracy: 26.081717\n",
            "Accuracy: 26.006687\n",
            "Accuracy: 25.769851\n",
            "Accuracy: 25.544804\n",
            "Accuracy: 25.624725\n",
            "Accuracy: 25.311771\n",
            "Accuracy: 25.492480\n",
            "Accuracy: 25.218835\n",
            "Accuracy: 26.113039\n",
            "Accuracy: 25.262272\n",
            "Accuracy: 26.034626\n",
            "Accuracy: 25.877208\n",
            "Accuracy: 25.577995\n",
            "Accuracy: 25.729221\n",
            "Accuracy: 26.322302\n",
            "Accuracy: 26.189721\n",
            "Accuracy: 26.506931\n",
            "Accuracy: 25.919729\n",
            "Accuracy: 29.178497\n",
            "Accuracy: 25.450504\n",
            "Accuracy: 26.892468\n",
            "Accuracy: 26.914018\n",
            "Accuracy: 26.238719\n",
            "Accuracy: 26.385844\n",
            "Accuracy: 27.230200\n",
            "Accuracy: 29.953894\n",
            "Accuracy: 26.060119\n",
            "Accuracy: 25.776762\n",
            "Accuracy: 25.575253\n",
            "Accuracy: 26.218551\n",
            "Accuracy: 26.136616\n",
            "Accuracy: 25.612375\n",
            "Accuracy: 25.840130\n",
            "Accuracy: 25.504184\n",
            "Accuracy: 25.438935\n",
            "Accuracy: 25.292665\n",
            "Accuracy: 24.839771\n",
            "Accuracy: 25.106770\n",
            "Accuracy: 25.715250\n",
            "Accuracy: 38.012376\n",
            "Accuracy: 26.628312\n",
            "Accuracy: 24.086694\n",
            "Accuracy: 24.733895\n",
            "Accuracy: 26.775983\n",
            "Accuracy: 26.642945\n",
            "Accuracy: 26.541850\n",
            "Accuracy: 25.911552\n",
            "Accuracy: 37.497425\n",
            "Epoch: 1 Loss: 0.37497425079345703\n",
            "Processed 0 skip-gram pairs\n",
            "Accuracy: 25.581542\n",
            "Accuracy: 26.518360\n",
            "Accuracy: 25.424299\n",
            "Accuracy: 26.306868\n",
            "Accuracy: 26.488903\n",
            "Accuracy: 25.000510\n",
            "Accuracy: 37.700844\n",
            "Accuracy: 25.854763\n",
            "Accuracy: 25.144085\n",
            "Accuracy: 24.903637\n",
            "Accuracy: 26.466405\n",
            "Accuracy: 29.259261\n",
            "Accuracy: 24.478662\n",
            "Accuracy: 24.762607\n",
            "Accuracy: 25.629821\n",
            "Accuracy: 24.622326\n",
            "Accuracy: 26.300731\n",
            "Accuracy: 24.863531\n",
            "Accuracy: 26.037693\n",
            "Accuracy: 25.614110\n",
            "Accuracy: 25.854072\n",
            "Accuracy: 24.703749\n",
            "Accuracy: 24.534160\n",
            "Accuracy: 25.818694\n",
            "Accuracy: 29.070458\n",
            "Accuracy: 25.374892\n",
            "Accuracy: 24.984765\n",
            "Accuracy: 29.357505\n",
            "Accuracy: 26.003051\n",
            "Accuracy: 25.774643\n",
            "Accuracy: 25.913772\n",
            "Accuracy: 27.649054\n",
            "Accuracy: 37.226748\n",
            "Accuracy: 25.691095\n",
            "Accuracy: 26.636624\n",
            "Accuracy: 23.951511\n",
            "Accuracy: 25.885326\n",
            "Accuracy: 26.769474\n",
            "Accuracy: 26.571184\n",
            "Accuracy: 17.382030\n",
            "Accuracy: 26.002690\n",
            "Accuracy: 25.245181\n",
            "Accuracy: 21.364285\n",
            "Accuracy: 27.821547\n",
            "Accuracy: 25.965419\n",
            "Accuracy: 26.585507\n",
            "Accuracy: 27.712968\n",
            "Accuracy: 26.495120\n",
            "Accuracy: 25.869018\n",
            "Accuracy: 25.489613\n",
            "Accuracy: 35.270855\n",
            "Accuracy: 31.089070\n",
            "Accuracy: 26.081717\n",
            "Accuracy: 26.006687\n",
            "Accuracy: 25.769851\n",
            "Accuracy: 25.544804\n",
            "Accuracy: 25.624725\n",
            "Accuracy: 25.311771\n",
            "Accuracy: 25.492480\n",
            "Accuracy: 25.218835\n",
            "Accuracy: 26.113039\n",
            "Accuracy: 25.262272\n",
            "Accuracy: 26.034626\n",
            "Accuracy: 25.877208\n",
            "Accuracy: 25.577995\n",
            "Accuracy: 25.729221\n",
            "Accuracy: 26.322302\n",
            "Accuracy: 26.189721\n",
            "Accuracy: 26.506931\n",
            "Accuracy: 25.919729\n",
            "Accuracy: 29.178497\n",
            "Accuracy: 25.450504\n",
            "Accuracy: 26.892468\n",
            "Accuracy: 26.914018\n",
            "Accuracy: 26.238719\n",
            "Accuracy: 26.385844\n",
            "Accuracy: 27.230200\n",
            "Accuracy: 29.953894\n",
            "Accuracy: 26.060119\n",
            "Accuracy: 25.776762\n",
            "Accuracy: 25.575253\n",
            "Accuracy: 26.218551\n",
            "Accuracy: 26.136616\n",
            "Accuracy: 25.612375\n",
            "Accuracy: 25.840130\n",
            "Accuracy: 25.504184\n",
            "Accuracy: 25.438935\n",
            "Accuracy: 25.292665\n",
            "Accuracy: 24.839771\n",
            "Accuracy: 25.106770\n",
            "Accuracy: 25.715250\n",
            "Accuracy: 38.012376\n",
            "Accuracy: 26.628312\n",
            "Accuracy: 24.086694\n",
            "Accuracy: 24.733895\n",
            "Accuracy: 26.775983\n",
            "Accuracy: 26.642945\n",
            "Accuracy: 26.541850\n",
            "Accuracy: 25.911552\n",
            "Accuracy: 37.497425\n",
            "Epoch: 2 Loss: 0.37497425079345703\n",
            "Processed 0 skip-gram pairs\n",
            "Accuracy: 25.581542\n",
            "Accuracy: 26.518360\n",
            "Accuracy: 25.424299\n",
            "Accuracy: 26.306868\n",
            "Accuracy: 26.488903\n",
            "Accuracy: 25.000510\n",
            "Accuracy: 37.700844\n",
            "Accuracy: 25.854763\n",
            "Accuracy: 25.144085\n",
            "Accuracy: 24.903637\n",
            "Accuracy: 26.466405\n",
            "Accuracy: 29.259261\n",
            "Accuracy: 24.478662\n",
            "Accuracy: 24.762607\n",
            "Accuracy: 25.629821\n",
            "Accuracy: 24.622326\n",
            "Accuracy: 26.300731\n",
            "Accuracy: 24.863531\n",
            "Accuracy: 26.037693\n",
            "Accuracy: 25.614110\n",
            "Accuracy: 25.854072\n",
            "Accuracy: 24.703749\n",
            "Accuracy: 24.534160\n",
            "Accuracy: 25.818694\n",
            "Accuracy: 29.070458\n",
            "Accuracy: 25.374892\n",
            "Accuracy: 24.984765\n",
            "Accuracy: 29.357505\n",
            "Accuracy: 26.003051\n",
            "Accuracy: 25.774643\n",
            "Accuracy: 25.913772\n",
            "Accuracy: 27.649054\n",
            "Accuracy: 37.226748\n",
            "Accuracy: 25.691095\n",
            "Accuracy: 26.636624\n",
            "Accuracy: 23.951511\n",
            "Accuracy: 25.885326\n",
            "Accuracy: 26.769474\n",
            "Accuracy: 26.571184\n",
            "Accuracy: 17.382030\n",
            "Accuracy: 26.002690\n",
            "Accuracy: 25.245181\n",
            "Accuracy: 21.364285\n",
            "Accuracy: 27.821547\n",
            "Accuracy: 25.965419\n",
            "Accuracy: 26.585507\n",
            "Accuracy: 27.712968\n",
            "Accuracy: 26.495120\n",
            "Accuracy: 25.869018\n",
            "Accuracy: 25.489613\n",
            "Accuracy: 35.270855\n",
            "Accuracy: 31.089070\n",
            "Accuracy: 26.081717\n",
            "Accuracy: 26.006687\n",
            "Accuracy: 25.769851\n",
            "Accuracy: 25.544804\n",
            "Accuracy: 25.624725\n",
            "Accuracy: 25.311771\n",
            "Accuracy: 25.492480\n",
            "Accuracy: 25.218835\n",
            "Accuracy: 26.113039\n",
            "Accuracy: 25.262272\n",
            "Accuracy: 26.034626\n",
            "Accuracy: 25.877208\n",
            "Accuracy: 25.577995\n",
            "Accuracy: 25.729221\n",
            "Accuracy: 26.322302\n",
            "Accuracy: 26.189721\n",
            "Accuracy: 26.506931\n",
            "Accuracy: 25.919729\n",
            "Accuracy: 29.178497\n",
            "Accuracy: 25.450504\n",
            "Accuracy: 26.892468\n",
            "Accuracy: 26.914018\n",
            "Accuracy: 26.238719\n",
            "Accuracy: 26.385844\n",
            "Accuracy: 27.230200\n",
            "Accuracy: 29.953894\n",
            "Accuracy: 26.060119\n",
            "Accuracy: 25.776762\n",
            "Accuracy: 25.575253\n",
            "Accuracy: 26.218551\n",
            "Accuracy: 26.136616\n",
            "Accuracy: 25.612375\n",
            "Accuracy: 25.840130\n",
            "Accuracy: 25.504184\n",
            "Accuracy: 25.438935\n",
            "Accuracy: 25.292665\n",
            "Accuracy: 24.839771\n",
            "Accuracy: 25.106770\n",
            "Accuracy: 25.715250\n",
            "Accuracy: 38.012376\n",
            "Accuracy: 26.628312\n",
            "Accuracy: 24.086694\n",
            "Accuracy: 24.733895\n",
            "Accuracy: 26.775983\n",
            "Accuracy: 26.642945\n",
            "Accuracy: 26.541850\n",
            "Accuracy: 25.911552\n",
            "Accuracy: 37.497425\n",
            "Epoch: 3 Loss: 0.37497425079345703\n"
          ]
        }
      ]
    },
    {
      "cell_type": "code",
      "source": [
        "import matplotlib.pyplot as plt\n",
        "plt.plot(model_item2vec.history['loss'])"
      ],
      "metadata": {
        "id": "7Ph55ACYIMmw",
        "colab": {
          "base_uri": "https://localhost:8080/",
          "height": 162
        },
        "outputId": "c74415b3-4827-4127-f029-b92fdecdf6b5"
      },
      "execution_count": 50,
      "outputs": [
        {
          "output_type": "error",
          "ename": "TypeError",
          "evalue": "'History' object is not subscriptable",
          "traceback": [
            "\u001b[0;31m---------------------------------------------------------------------------\u001b[0m",
            "\u001b[0;31mTypeError\u001b[0m                                 Traceback (most recent call last)",
            "\u001b[0;32m<ipython-input-50-f614d4b99b7e>\u001b[0m in \u001b[0;36m<cell line: 2>\u001b[0;34m()\u001b[0m\n\u001b[1;32m      1\u001b[0m \u001b[0;32mimport\u001b[0m \u001b[0mmatplotlib\u001b[0m\u001b[0;34m.\u001b[0m\u001b[0mpyplot\u001b[0m \u001b[0;32mas\u001b[0m \u001b[0mplt\u001b[0m\u001b[0;34m\u001b[0m\u001b[0;34m\u001b[0m\u001b[0m\n\u001b[0;32m----> 2\u001b[0;31m \u001b[0mplt\u001b[0m\u001b[0;34m.\u001b[0m\u001b[0mplot\u001b[0m\u001b[0;34m(\u001b[0m\u001b[0mmodel_item2vec\u001b[0m\u001b[0;34m.\u001b[0m\u001b[0mhistory\u001b[0m\u001b[0;34m[\u001b[0m\u001b[0;34m'loss'\u001b[0m\u001b[0;34m]\u001b[0m\u001b[0;34m)\u001b[0m\u001b[0;34m\u001b[0m\u001b[0;34m\u001b[0m\u001b[0m\n\u001b[0m",
            "\u001b[0;31mTypeError\u001b[0m: 'History' object is not subscriptable"
          ]
        }
      ]
    },
    {
      "cell_type": "markdown",
      "source": [
        "###Get word embeddings to find similar items"
      ],
      "metadata": {
        "id": "SGfe7Cgdjtqn"
      }
    },
    {
      "cell_type": "code",
      "source": [
        "#GET WORD EMBEDDINGS\n",
        "import matplotlib.pyplot as plt\n",
        "from sklearn.manifold import TSNE\n",
        "from sklearn.metrics.pairwise import euclidean_distances\n",
        "\n",
        "# get the embeddings for the words in the vocabulary\n",
        "#weights = model.layers[2].get_weights()[0]\n",
        "\n",
        "embeddings = model_item2vec.layers[2].get_weights()[0]\n",
        "\n",
        "\n",
        "# `embeddings` has a shape of (num_vocab, embedding_dim)\n",
        "\n",
        "# `word_to_index` is a mapping (i.e. dict) from words to their index, e.g. `love`: 69\n",
        "words_embeddings = {w:embeddings[idx] for w, idx in item_to_id.items()}"
      ],
      "metadata": {
        "id": "q1QO5S1bj0yx"
      },
      "execution_count": 53,
      "outputs": []
    },
    {
      "cell_type": "code",
      "source": [
        "#check embedding of example\n",
        "#print(words_embeddings['1084.0'])  # possible output: [0.21, 0.56, ..., 0.65, 0.10]"
      ],
      "metadata": {
        "id": "V1g-evoPkJQh"
      },
      "execution_count": 62,
      "outputs": []
    },
    {
      "cell_type": "code",
      "source": [
        "embeddings.shape"
      ],
      "metadata": {
        "colab": {
          "base_uri": "https://localhost:8080/"
        },
        "id": "SDsxNZWvkQBq",
        "outputId": "15568c08-3904-4aa3-c373-82975b380b80"
      },
      "execution_count": 55,
      "outputs": [
        {
          "output_type": "execute_result",
          "data": {
            "text/plain": [
              "(15919, 100)"
            ]
          },
          "metadata": {},
          "execution_count": 55
        }
      ]
    },
    {
      "cell_type": "code",
      "source": [
        "distance_matrix = euclidean_distances(embeddings)"
      ],
      "metadata": {
        "id": "E9yMxYzvkbQJ"
      },
      "execution_count": 56,
      "outputs": []
    },
    {
      "cell_type": "code",
      "source": [
        "distance_matrix.shape"
      ],
      "metadata": {
        "colab": {
          "base_uri": "https://localhost:8080/"
        },
        "id": "xLgKFheokc9K",
        "outputId": "b75ebeb6-4b7e-4c19-e165-42e34e616c50"
      },
      "execution_count": 57,
      "outputs": [
        {
          "output_type": "execute_result",
          "data": {
            "text/plain": [
              "(15919, 15919)"
            ]
          },
          "metadata": {},
          "execution_count": 57
        }
      ]
    },
    {
      "cell_type": "code",
      "source": [
        "#function to get similar item\n",
        "def similar_item(item):\n",
        "  list = []\n",
        "  if item in item_to_id.keys():\n",
        "    similar_items = {search_term: [id_to_item[idx] for idx in distance_matrix[item_to_id[search_term]-1].argsort()[1:11]+1]\n",
        "                   for search_term in [item]}\n",
        "    list = similar_items[item]\n",
        "  else:\n",
        "    list = [item]\n",
        "  return list"
      ],
      "metadata": {
        "id": "J7L8LrbaJPqp"
      },
      "execution_count": 67,
      "outputs": []
    },
    {
      "cell_type": "code",
      "source": [
        "similar_list_example = similar_item('1084.0')\n",
        "print(similar_list_example)"
      ],
      "metadata": {
        "colab": {
          "base_uri": "https://localhost:8080/"
        },
        "id": "RnRd_RDNJQXM",
        "outputId": "9e5616e5-fa3f-4c90-8623-a25a6b9cccb7"
      },
      "execution_count": 69,
      "outputs": [
        {
          "output_type": "stream",
          "name": "stdout",
          "text": [
            "['20234.0', '14654.0', '5956.0', '15795.0', '19708.0', '26386.0', '89.0', '23170.0', '7112.0', '13365.0']\n"
          ]
        }
      ]
    },
    {
      "cell_type": "markdown",
      "source": [
        "##DATA AUGMENTATION\n",
        "Applied data augmentation on train session only"
      ],
      "metadata": {
        "id": "AYFb1LkFeKxV"
      }
    },
    {
      "cell_type": "code",
      "source": [
        "#Synonym Replacement\n",
        "##Randomly choose an item in a sequence and replace it by a similar item\n",
        "def aug_edaSR(seq):\n",
        "  ##seq: item viewed in sequence\n",
        "  ##n: the number of times the process has to be repeated\n",
        "  ##itemList: danh sách unique các item - tương ứng với negative sample\n",
        "  ##List ra các item có trong seq này, thay thế random 1 item trong chuỗi bằng 1 random bất kì trong item này nhưng không phải là chính nó.\n",
        "\n",
        "  #convert string to list\n",
        "  def stringToListConvert(string):\n",
        "    li = list(string.split(\",\"))\n",
        "    return li\n",
        "  #convert string to list\n",
        "  seqList = stringToListConvert(seq)\n",
        "\n",
        "  randomIndex = random.choice(range(len(seqList)))\n",
        "  #find a similar item of seq(randomIndex)\n",
        "  list_similarItem = similar_item(seqList[randomIndex])\n",
        "\n",
        "  #replace an item in seq by an item in list_similarItem\n",
        "  itemReplace = random.choice(list_similarItem[:5]) #random in top 5\n",
        "  while itemReplace != seqList[randomIndex]:\n",
        "    seqList[randomIndex] = itemReplace\n",
        "  else:\n",
        "    itemReplace = random.choice(list_similarItem)\n",
        "\n",
        "  ##convert seq list to string\n",
        "  seqList = list(map(str, seqList))\n",
        "  seqString = ','.join(seqList)\n",
        "  return seqString"
      ],
      "metadata": {
        "id": "VZXClcnU-1q1"
      },
      "execution_count": 74,
      "outputs": []
    },
    {
      "cell_type": "code",
      "source": [
        "#Test Synonym Replacement function\n",
        "seqTest = '4816.0,26130.0,4816.0,26130.0'\n",
        "#itemList = [111,222,333,444,555,12,22,32,42,52]\n",
        "aug_edaSR(seqTest)\n"
      ],
      "metadata": {
        "colab": {
          "base_uri": "https://localhost:8080/",
          "height": 35
        },
        "id": "1Ykyn8XAo-6N",
        "outputId": "21f82575-4f6d-49f6-d111-fe5405784aa6"
      },
      "execution_count": 77,
      "outputs": [
        {
          "output_type": "execute_result",
          "data": {
            "text/plain": [
              "'4816.0,26130.0,18106.0,26130.0'"
            ],
            "application/vnd.google.colaboratory.intrinsic+json": {
              "type": "string"
            }
          },
          "metadata": {},
          "execution_count": 77
        }
      ]
    },
    {
      "cell_type": "code",
      "source": [
        "similar_4816 = similar_item('4816.0')\n",
        "similar_4816"
      ],
      "metadata": {
        "colab": {
          "base_uri": "https://localhost:8080/"
        },
        "id": "0RivxmYKpoZH",
        "outputId": "7ee10510-78a5-49b7-e029-81e233405d45"
      },
      "execution_count": 76,
      "outputs": [
        {
          "output_type": "execute_result",
          "data": {
            "text/plain": [
              "['6462.0',\n",
              " '12236.0',\n",
              " '18106.0',\n",
              " '24497.0',\n",
              " '17703.0',\n",
              " '22758.0',\n",
              " '27169.0',\n",
              " '2461.0',\n",
              " '26984.0',\n",
              " '2620.0']"
            ]
          },
          "metadata": {},
          "execution_count": 76
        }
      ]
    },
    {
      "cell_type": "code",
      "source": [
        "def buildAugDatasetRS(dataTrain, nAug, fraction, augMethod):\n",
        "  #get fraction of dataset for augmentation: fraction*dataset for augmentation, the rest is remain\n",
        "  ##dataFrac= dataTrain.sample(frac=fraction)\n",
        "  leftFrac, rightFrac = train_test_split(dataTrain, random_state = 104, test_size = fraction, shuffle = True)\n",
        "  #with every session in split_dataTrain -> Generate (N_aug-1) more session like that with one item swap/ random in aug strategy\n",
        "  rightFracLen = len(rightFrac.index)\n",
        "  ##print('check n',rightFracLen)\n",
        "  for i in range (rightFracLen):\n",
        "    currentRow = rightFrac.iloc[i]\n",
        "    ##print('check currentRow', currentRow)\n",
        "    for j in range (nAug-1):\n",
        "      duplicateRow = currentRow.copy()\n",
        "      duplicateRow['sequence_item_ids'] = augMethod(duplicateRow['sequence_item_ids'])\n",
        "      ##add row to rightFrac\n",
        "      rightFrac = pd.concat([rightFrac, duplicateRow.to_frame().T], ignore_index=True)\n",
        "      ##print('check rightFrac', rightFrac)\n",
        "\n",
        "  #check again\n",
        "  #after augment the fraction*dataset, boost the number of input dataset => combine with the rest\n",
        "  dataAug = pd.concat([rightFrac, leftFrac], ignore_index = True, sort = False)\n",
        "\n",
        "  return dataAug"
      ],
      "metadata": {
        "id": "-V3fGK_2-6v2"
      },
      "execution_count": 81,
      "outputs": []
    },
    {
      "cell_type": "markdown",
      "source": [
        "## Train Test Split (85%)"
      ],
      "metadata": {
        "id": "5NSR-DGTezbp"
      }
    },
    {
      "cell_type": "code",
      "source": [
        "random_selection = np.random.rand(len(sessions_train.index)) <= 0.85\n",
        "train_data = sessions_train[random_selection]\n",
        "test_data = sessions_train[~random_selection]"
      ],
      "metadata": {
        "id": "xhwoPuAu8QPI"
      },
      "execution_count": 102,
      "outputs": []
    },
    {
      "cell_type": "code",
      "source": [
        "dfAug = buildAugDatasetRS(train_data, 1, 0.1, aug_edaSR)"
      ],
      "metadata": {
        "id": "8EOymDcT-_Rv"
      },
      "execution_count": 83,
      "outputs": []
    },
    {
      "cell_type": "code",
      "source": [
        "train_data = dfAug"
      ],
      "metadata": {
        "id": "gN8Izpeb-2qB"
      },
      "execution_count": 84,
      "outputs": []
    },
    {
      "cell_type": "code",
      "source": [
        "train_data.to_csv(\"train_data.csv\", index=False, sep=\"|\", header=False)\n",
        "test_data.to_csv(\"test_data.csv\", index=False, sep=\"|\", header=False)"
      ],
      "metadata": {
        "id": "1YCoMpDWXZ0T"
      },
      "execution_count": 103,
      "outputs": []
    },
    {
      "cell_type": "code",
      "source": [
        "test_train_data = pd.read_csv('train_data.csv')"
      ],
      "metadata": {
        "id": "Xhv9fBSv-m60"
      },
      "execution_count": 104,
      "outputs": []
    },
    {
      "cell_type": "code",
      "source": [
        "test_train_data"
      ],
      "metadata": {
        "id": "9EITWmgy9rp2",
        "colab": {
          "base_uri": "https://localhost:8080/",
          "height": 424
        },
        "outputId": "0fb07d1c-8966-432a-a9ed-b22d00c4f419"
      },
      "execution_count": 105,
      "outputs": [
        {
          "output_type": "execute_result",
          "data": {
            "text/plain": [
              "             108.0|6.0|4816.0  26130.0   4816.0     26130.0|1.0    67.0  1.0  \\\n",
              "0           380.0|1.0|14208.0  19112.0  24730.0     14208.0|1.0     1.0  1.0   \n",
              "1           380.0|1.0|24730.0  14208.0  19112.0     24730.0|1.0     1.0  1.0   \n",
              "2           453.0|8.0|19974.0  11386.0  19974.0     11386.0|1.0     1.0  1.0   \n",
              "3           499.0|8.0|13617.0   2570.0  13617.0  13617.0|1642.0     1.0  1.0   \n",
              "4           499.0|8.0|13617.0  13617.0   2570.0     13617.0|1.0  1642.0  1.0   \n",
              "...                       ...      ...      ...             ...     ...  ...   \n",
              "50463   4439438.0|12.0|5182.0  14322.0   5182.0     14322.0|1.0     1.0  1.0   \n",
              "50464   4439473.0|6.0|11909.0   2083.0   1966.0     11909.0|1.0     1.0  1.0   \n",
              "50465    4439473.0|6.0|1966.0  11909.0   2083.0      1966.0|1.0     1.0  1.0   \n",
              "50466   4439488.0|5.0|13527.0  15678.0  24865.0     13527.0|1.0     1.0  1.0   \n",
              "50467  4439895.0|11.0|15715.0  18425.0   2507.0     15715.0|1.0     1.0  1.0   \n",
              "\n",
              "       67.0.1  \n",
              "0         1.0  \n",
              "1         1.0  \n",
              "2         1.0  \n",
              "3      1642.0  \n",
              "4         1.0  \n",
              "...       ...  \n",
              "50463     1.0  \n",
              "50464     1.0  \n",
              "50465     1.0  \n",
              "50466     1.0  \n",
              "50467     1.0  \n",
              "\n",
              "[50468 rows x 7 columns]"
            ],
            "text/html": [
              "\n",
              "  <div id=\"df-8d6052b9-92b4-422a-8fbf-e573e6b8a4fa\" class=\"colab-df-container\">\n",
              "    <div>\n",
              "<style scoped>\n",
              "    .dataframe tbody tr th:only-of-type {\n",
              "        vertical-align: middle;\n",
              "    }\n",
              "\n",
              "    .dataframe tbody tr th {\n",
              "        vertical-align: top;\n",
              "    }\n",
              "\n",
              "    .dataframe thead th {\n",
              "        text-align: right;\n",
              "    }\n",
              "</style>\n",
              "<table border=\"1\" class=\"dataframe\">\n",
              "  <thead>\n",
              "    <tr style=\"text-align: right;\">\n",
              "      <th></th>\n",
              "      <th>108.0|6.0|4816.0</th>\n",
              "      <th>26130.0</th>\n",
              "      <th>4816.0</th>\n",
              "      <th>26130.0|1.0</th>\n",
              "      <th>67.0</th>\n",
              "      <th>1.0</th>\n",
              "      <th>67.0.1</th>\n",
              "    </tr>\n",
              "  </thead>\n",
              "  <tbody>\n",
              "    <tr>\n",
              "      <th>0</th>\n",
              "      <td>380.0|1.0|14208.0</td>\n",
              "      <td>19112.0</td>\n",
              "      <td>24730.0</td>\n",
              "      <td>14208.0|1.0</td>\n",
              "      <td>1.0</td>\n",
              "      <td>1.0</td>\n",
              "      <td>1.0</td>\n",
              "    </tr>\n",
              "    <tr>\n",
              "      <th>1</th>\n",
              "      <td>380.0|1.0|24730.0</td>\n",
              "      <td>14208.0</td>\n",
              "      <td>19112.0</td>\n",
              "      <td>24730.0|1.0</td>\n",
              "      <td>1.0</td>\n",
              "      <td>1.0</td>\n",
              "      <td>1.0</td>\n",
              "    </tr>\n",
              "    <tr>\n",
              "      <th>2</th>\n",
              "      <td>453.0|8.0|19974.0</td>\n",
              "      <td>11386.0</td>\n",
              "      <td>19974.0</td>\n",
              "      <td>11386.0|1.0</td>\n",
              "      <td>1.0</td>\n",
              "      <td>1.0</td>\n",
              "      <td>1.0</td>\n",
              "    </tr>\n",
              "    <tr>\n",
              "      <th>3</th>\n",
              "      <td>499.0|8.0|13617.0</td>\n",
              "      <td>2570.0</td>\n",
              "      <td>13617.0</td>\n",
              "      <td>13617.0|1642.0</td>\n",
              "      <td>1.0</td>\n",
              "      <td>1.0</td>\n",
              "      <td>1642.0</td>\n",
              "    </tr>\n",
              "    <tr>\n",
              "      <th>4</th>\n",
              "      <td>499.0|8.0|13617.0</td>\n",
              "      <td>13617.0</td>\n",
              "      <td>2570.0</td>\n",
              "      <td>13617.0|1.0</td>\n",
              "      <td>1642.0</td>\n",
              "      <td>1.0</td>\n",
              "      <td>1.0</td>\n",
              "    </tr>\n",
              "    <tr>\n",
              "      <th>...</th>\n",
              "      <td>...</td>\n",
              "      <td>...</td>\n",
              "      <td>...</td>\n",
              "      <td>...</td>\n",
              "      <td>...</td>\n",
              "      <td>...</td>\n",
              "      <td>...</td>\n",
              "    </tr>\n",
              "    <tr>\n",
              "      <th>50463</th>\n",
              "      <td>4439438.0|12.0|5182.0</td>\n",
              "      <td>14322.0</td>\n",
              "      <td>5182.0</td>\n",
              "      <td>14322.0|1.0</td>\n",
              "      <td>1.0</td>\n",
              "      <td>1.0</td>\n",
              "      <td>1.0</td>\n",
              "    </tr>\n",
              "    <tr>\n",
              "      <th>50464</th>\n",
              "      <td>4439473.0|6.0|11909.0</td>\n",
              "      <td>2083.0</td>\n",
              "      <td>1966.0</td>\n",
              "      <td>11909.0|1.0</td>\n",
              "      <td>1.0</td>\n",
              "      <td>1.0</td>\n",
              "      <td>1.0</td>\n",
              "    </tr>\n",
              "    <tr>\n",
              "      <th>50465</th>\n",
              "      <td>4439473.0|6.0|1966.0</td>\n",
              "      <td>11909.0</td>\n",
              "      <td>2083.0</td>\n",
              "      <td>1966.0|1.0</td>\n",
              "      <td>1.0</td>\n",
              "      <td>1.0</td>\n",
              "      <td>1.0</td>\n",
              "    </tr>\n",
              "    <tr>\n",
              "      <th>50466</th>\n",
              "      <td>4439488.0|5.0|13527.0</td>\n",
              "      <td>15678.0</td>\n",
              "      <td>24865.0</td>\n",
              "      <td>13527.0|1.0</td>\n",
              "      <td>1.0</td>\n",
              "      <td>1.0</td>\n",
              "      <td>1.0</td>\n",
              "    </tr>\n",
              "    <tr>\n",
              "      <th>50467</th>\n",
              "      <td>4439895.0|11.0|15715.0</td>\n",
              "      <td>18425.0</td>\n",
              "      <td>2507.0</td>\n",
              "      <td>15715.0|1.0</td>\n",
              "      <td>1.0</td>\n",
              "      <td>1.0</td>\n",
              "      <td>1.0</td>\n",
              "    </tr>\n",
              "  </tbody>\n",
              "</table>\n",
              "<p>50468 rows × 7 columns</p>\n",
              "</div>\n",
              "    <div class=\"colab-df-buttons\">\n",
              "\n",
              "  <div class=\"colab-df-container\">\n",
              "    <button class=\"colab-df-convert\" onclick=\"convertToInteractive('df-8d6052b9-92b4-422a-8fbf-e573e6b8a4fa')\"\n",
              "            title=\"Convert this dataframe to an interactive table.\"\n",
              "            style=\"display:none;\">\n",
              "\n",
              "  <svg xmlns=\"http://www.w3.org/2000/svg\" height=\"24px\" viewBox=\"0 -960 960 960\">\n",
              "    <path d=\"M120-120v-720h720v720H120Zm60-500h600v-160H180v160Zm220 220h160v-160H400v160Zm0 220h160v-160H400v160ZM180-400h160v-160H180v160Zm440 0h160v-160H620v160ZM180-180h160v-160H180v160Zm440 0h160v-160H620v160Z\"/>\n",
              "  </svg>\n",
              "    </button>\n",
              "\n",
              "  <style>\n",
              "    .colab-df-container {\n",
              "      display:flex;\n",
              "      gap: 12px;\n",
              "    }\n",
              "\n",
              "    .colab-df-convert {\n",
              "      background-color: #E8F0FE;\n",
              "      border: none;\n",
              "      border-radius: 50%;\n",
              "      cursor: pointer;\n",
              "      display: none;\n",
              "      fill: #1967D2;\n",
              "      height: 32px;\n",
              "      padding: 0 0 0 0;\n",
              "      width: 32px;\n",
              "    }\n",
              "\n",
              "    .colab-df-convert:hover {\n",
              "      background-color: #E2EBFA;\n",
              "      box-shadow: 0px 1px 2px rgba(60, 64, 67, 0.3), 0px 1px 3px 1px rgba(60, 64, 67, 0.15);\n",
              "      fill: #174EA6;\n",
              "    }\n",
              "\n",
              "    .colab-df-buttons div {\n",
              "      margin-bottom: 4px;\n",
              "    }\n",
              "\n",
              "    [theme=dark] .colab-df-convert {\n",
              "      background-color: #3B4455;\n",
              "      fill: #D2E3FC;\n",
              "    }\n",
              "\n",
              "    [theme=dark] .colab-df-convert:hover {\n",
              "      background-color: #434B5C;\n",
              "      box-shadow: 0px 1px 3px 1px rgba(0, 0, 0, 0.15);\n",
              "      filter: drop-shadow(0px 1px 2px rgba(0, 0, 0, 0.3));\n",
              "      fill: #FFFFFF;\n",
              "    }\n",
              "  </style>\n",
              "\n",
              "    <script>\n",
              "      const buttonEl =\n",
              "        document.querySelector('#df-8d6052b9-92b4-422a-8fbf-e573e6b8a4fa button.colab-df-convert');\n",
              "      buttonEl.style.display =\n",
              "        google.colab.kernel.accessAllowed ? 'block' : 'none';\n",
              "\n",
              "      async function convertToInteractive(key) {\n",
              "        const element = document.querySelector('#df-8d6052b9-92b4-422a-8fbf-e573e6b8a4fa');\n",
              "        const dataTable =\n",
              "          await google.colab.kernel.invokeFunction('convertToInteractive',\n",
              "                                                    [key], {});\n",
              "        if (!dataTable) return;\n",
              "\n",
              "        const docLinkHtml = 'Like what you see? Visit the ' +\n",
              "          '<a target=\"_blank\" href=https://colab.research.google.com/notebooks/data_table.ipynb>data table notebook</a>'\n",
              "          + ' to learn more about interactive tables.';\n",
              "        element.innerHTML = '';\n",
              "        dataTable['output_type'] = 'display_data';\n",
              "        await google.colab.output.renderOutput(dataTable, element);\n",
              "        const docLink = document.createElement('div');\n",
              "        docLink.innerHTML = docLinkHtml;\n",
              "        element.appendChild(docLink);\n",
              "      }\n",
              "    </script>\n",
              "  </div>\n",
              "\n",
              "\n",
              "<div id=\"df-2901d8f0-b6b7-4e27-9df8-4d3b8d28ea32\">\n",
              "  <button class=\"colab-df-quickchart\" onclick=\"quickchart('df-2901d8f0-b6b7-4e27-9df8-4d3b8d28ea32')\"\n",
              "            title=\"Suggest charts\"\n",
              "            style=\"display:none;\">\n",
              "\n",
              "<svg xmlns=\"http://www.w3.org/2000/svg\" height=\"24px\"viewBox=\"0 0 24 24\"\n",
              "     width=\"24px\">\n",
              "    <g>\n",
              "        <path d=\"M19 3H5c-1.1 0-2 .9-2 2v14c0 1.1.9 2 2 2h14c1.1 0 2-.9 2-2V5c0-1.1-.9-2-2-2zM9 17H7v-7h2v7zm4 0h-2V7h2v10zm4 0h-2v-4h2v4z\"/>\n",
              "    </g>\n",
              "</svg>\n",
              "  </button>\n",
              "\n",
              "<style>\n",
              "  .colab-df-quickchart {\n",
              "      --bg-color: #E8F0FE;\n",
              "      --fill-color: #1967D2;\n",
              "      --hover-bg-color: #E2EBFA;\n",
              "      --hover-fill-color: #174EA6;\n",
              "      --disabled-fill-color: #AAA;\n",
              "      --disabled-bg-color: #DDD;\n",
              "  }\n",
              "\n",
              "  [theme=dark] .colab-df-quickchart {\n",
              "      --bg-color: #3B4455;\n",
              "      --fill-color: #D2E3FC;\n",
              "      --hover-bg-color: #434B5C;\n",
              "      --hover-fill-color: #FFFFFF;\n",
              "      --disabled-bg-color: #3B4455;\n",
              "      --disabled-fill-color: #666;\n",
              "  }\n",
              "\n",
              "  .colab-df-quickchart {\n",
              "    background-color: var(--bg-color);\n",
              "    border: none;\n",
              "    border-radius: 50%;\n",
              "    cursor: pointer;\n",
              "    display: none;\n",
              "    fill: var(--fill-color);\n",
              "    height: 32px;\n",
              "    padding: 0;\n",
              "    width: 32px;\n",
              "  }\n",
              "\n",
              "  .colab-df-quickchart:hover {\n",
              "    background-color: var(--hover-bg-color);\n",
              "    box-shadow: 0 1px 2px rgba(60, 64, 67, 0.3), 0 1px 3px 1px rgba(60, 64, 67, 0.15);\n",
              "    fill: var(--button-hover-fill-color);\n",
              "  }\n",
              "\n",
              "  .colab-df-quickchart-complete:disabled,\n",
              "  .colab-df-quickchart-complete:disabled:hover {\n",
              "    background-color: var(--disabled-bg-color);\n",
              "    fill: var(--disabled-fill-color);\n",
              "    box-shadow: none;\n",
              "  }\n",
              "\n",
              "  .colab-df-spinner {\n",
              "    border: 2px solid var(--fill-color);\n",
              "    border-color: transparent;\n",
              "    border-bottom-color: var(--fill-color);\n",
              "    animation:\n",
              "      spin 1s steps(1) infinite;\n",
              "  }\n",
              "\n",
              "  @keyframes spin {\n",
              "    0% {\n",
              "      border-color: transparent;\n",
              "      border-bottom-color: var(--fill-color);\n",
              "      border-left-color: var(--fill-color);\n",
              "    }\n",
              "    20% {\n",
              "      border-color: transparent;\n",
              "      border-left-color: var(--fill-color);\n",
              "      border-top-color: var(--fill-color);\n",
              "    }\n",
              "    30% {\n",
              "      border-color: transparent;\n",
              "      border-left-color: var(--fill-color);\n",
              "      border-top-color: var(--fill-color);\n",
              "      border-right-color: var(--fill-color);\n",
              "    }\n",
              "    40% {\n",
              "      border-color: transparent;\n",
              "      border-right-color: var(--fill-color);\n",
              "      border-top-color: var(--fill-color);\n",
              "    }\n",
              "    60% {\n",
              "      border-color: transparent;\n",
              "      border-right-color: var(--fill-color);\n",
              "    }\n",
              "    80% {\n",
              "      border-color: transparent;\n",
              "      border-right-color: var(--fill-color);\n",
              "      border-bottom-color: var(--fill-color);\n",
              "    }\n",
              "    90% {\n",
              "      border-color: transparent;\n",
              "      border-bottom-color: var(--fill-color);\n",
              "    }\n",
              "  }\n",
              "</style>\n",
              "\n",
              "  <script>\n",
              "    async function quickchart(key) {\n",
              "      const quickchartButtonEl =\n",
              "        document.querySelector('#' + key + ' button');\n",
              "      quickchartButtonEl.disabled = true;  // To prevent multiple clicks.\n",
              "      quickchartButtonEl.classList.add('colab-df-spinner');\n",
              "      try {\n",
              "        const charts = await google.colab.kernel.invokeFunction(\n",
              "            'suggestCharts', [key], {});\n",
              "      } catch (error) {\n",
              "        console.error('Error during call to suggestCharts:', error);\n",
              "      }\n",
              "      quickchartButtonEl.classList.remove('colab-df-spinner');\n",
              "      quickchartButtonEl.classList.add('colab-df-quickchart-complete');\n",
              "    }\n",
              "    (() => {\n",
              "      let quickchartButtonEl =\n",
              "        document.querySelector('#df-2901d8f0-b6b7-4e27-9df8-4d3b8d28ea32 button');\n",
              "      quickchartButtonEl.style.display =\n",
              "        google.colab.kernel.accessAllowed ? 'block' : 'none';\n",
              "    })();\n",
              "  </script>\n",
              "</div>\n",
              "\n",
              "  <div id=\"id_e502b540-268b-4353-9ddb-404dc29b1766\">\n",
              "    <style>\n",
              "      .colab-df-generate {\n",
              "        background-color: #E8F0FE;\n",
              "        border: none;\n",
              "        border-radius: 50%;\n",
              "        cursor: pointer;\n",
              "        display: none;\n",
              "        fill: #1967D2;\n",
              "        height: 32px;\n",
              "        padding: 0 0 0 0;\n",
              "        width: 32px;\n",
              "      }\n",
              "\n",
              "      .colab-df-generate:hover {\n",
              "        background-color: #E2EBFA;\n",
              "        box-shadow: 0px 1px 2px rgba(60, 64, 67, 0.3), 0px 1px 3px 1px rgba(60, 64, 67, 0.15);\n",
              "        fill: #174EA6;\n",
              "      }\n",
              "\n",
              "      [theme=dark] .colab-df-generate {\n",
              "        background-color: #3B4455;\n",
              "        fill: #D2E3FC;\n",
              "      }\n",
              "\n",
              "      [theme=dark] .colab-df-generate:hover {\n",
              "        background-color: #434B5C;\n",
              "        box-shadow: 0px 1px 3px 1px rgba(0, 0, 0, 0.15);\n",
              "        filter: drop-shadow(0px 1px 2px rgba(0, 0, 0, 0.3));\n",
              "        fill: #FFFFFF;\n",
              "      }\n",
              "    </style>\n",
              "    <button class=\"colab-df-generate\" onclick=\"generateWithVariable('test_train_data')\"\n",
              "            title=\"Generate code using this dataframe.\"\n",
              "            style=\"display:none;\">\n",
              "\n",
              "  <svg xmlns=\"http://www.w3.org/2000/svg\" height=\"24px\"viewBox=\"0 0 24 24\"\n",
              "       width=\"24px\">\n",
              "    <path d=\"M7,19H8.4L18.45,9,17,7.55,7,17.6ZM5,21V16.75L18.45,3.32a2,2,0,0,1,2.83,0l1.4,1.43a1.91,1.91,0,0,1,.58,1.4,1.91,1.91,0,0,1-.58,1.4L9.25,21ZM18.45,9,17,7.55Zm-12,3A5.31,5.31,0,0,0,4.9,8.1,5.31,5.31,0,0,0,1,6.5,5.31,5.31,0,0,0,4.9,4.9,5.31,5.31,0,0,0,6.5,1,5.31,5.31,0,0,0,8.1,4.9,5.31,5.31,0,0,0,12,6.5,5.46,5.46,0,0,0,6.5,12Z\"/>\n",
              "  </svg>\n",
              "    </button>\n",
              "    <script>\n",
              "      (() => {\n",
              "      const buttonEl =\n",
              "        document.querySelector('#id_e502b540-268b-4353-9ddb-404dc29b1766 button.colab-df-generate');\n",
              "      buttonEl.style.display =\n",
              "        google.colab.kernel.accessAllowed ? 'block' : 'none';\n",
              "\n",
              "      buttonEl.onclick = () => {\n",
              "        google.colab.notebook.generateWithVariable('test_train_data');\n",
              "      }\n",
              "      })();\n",
              "    </script>\n",
              "  </div>\n",
              "\n",
              "    </div>\n",
              "  </div>\n"
            ],
            "application/vnd.google.colaboratory.intrinsic+json": {
              "type": "dataframe",
              "variable_name": "test_train_data",
              "summary": "{\n  \"name\": \"test_train_data\",\n  \"rows\": 50468,\n  \"fields\": [\n    {\n      \"column\": \"108.0|6.0|4816.0\",\n      \"properties\": {\n        \"dtype\": \"string\",\n        \"num_unique_values\": 50337,\n        \"samples\": [\n          \"752087.0|8.0|13897.0\",\n          \"1209024.0|5.0|19143.0\",\n          \"4406344.0|8.0|23056.0\"\n        ],\n        \"semantic_type\": \"\",\n        \"description\": \"\"\n      }\n    },\n    {\n      \"column\": \"26130.0\",\n      \"properties\": {\n        \"dtype\": \"number\",\n        \"std\": 8134.196452868316,\n        \"min\": 3.0,\n        \"max\": 28141.0,\n        \"num_unique_values\": 13198,\n        \"samples\": [\n          11631.0,\n          6203.0,\n          3360.0\n        ],\n        \"semantic_type\": \"\",\n        \"description\": \"\"\n      }\n    },\n    {\n      \"column\": \"4816.0\",\n      \"properties\": {\n        \"dtype\": \"number\",\n        \"std\": 8176.625525327261,\n        \"min\": 3.0,\n        \"max\": 28141.0,\n        \"num_unique_values\": 13100,\n        \"samples\": [\n          26893.0,\n          20773.0,\n          16667.0\n        ],\n        \"semantic_type\": \"\",\n        \"description\": \"\"\n      }\n    },\n    {\n      \"column\": \"26130.0|1.0\",\n      \"properties\": {\n        \"dtype\": \"category\",\n        \"num_unique_values\": 15038,\n        \"samples\": [\n          \"19736.0|1.0\",\n          \"20508.0|1.0\",\n          \"15540.0|1.0\"\n        ],\n        \"semantic_type\": \"\",\n        \"description\": \"\"\n      }\n    },\n    {\n      \"column\": \"67.0\",\n      \"properties\": {\n        \"dtype\": \"number\",\n        \"std\": 1617.77404966829,\n        \"min\": 0.0,\n        \"max\": 76807.0,\n        \"num_unique_values\": 1156,\n        \"samples\": [\n          613.0,\n          297.0,\n          1194.0\n        ],\n        \"semantic_type\": \"\",\n        \"description\": \"\"\n      }\n    },\n    {\n      \"column\": \"1.0\",\n      \"properties\": {\n        \"dtype\": \"number\",\n        \"std\": 1201.4793296862372,\n        \"min\": 0.0,\n        \"max\": 78274.0,\n        \"num_unique_values\": 976,\n        \"samples\": [\n          23.0,\n          759.0,\n          49.0\n        ],\n        \"semantic_type\": \"\",\n        \"description\": \"\"\n      }\n    },\n    {\n      \"column\": \"67.0.1\",\n      \"properties\": {\n        \"dtype\": \"number\",\n        \"std\": 1643.495119808376,\n        \"min\": 0.0,\n        \"max\": 78274.0,\n        \"num_unique_values\": 1225,\n        \"samples\": [\n          106.0,\n          1222.0,\n          1039.0\n        ],\n        \"semantic_type\": \"\",\n        \"description\": \"\"\n      }\n    }\n  ]\n}"
            }
          },
          "metadata": {},
          "execution_count": 105
        }
      ]
    },
    {
      "cell_type": "markdown",
      "metadata": {
        "id": "pBqbNsk8o5oz"
      },
      "source": [
        "## Define metadata"
      ]
    },
    {
      "cell_type": "code",
      "execution_count": 106,
      "metadata": {
        "id": "J2V1frhUo5oz"
      },
      "outputs": [],
      "source": [
        "CSV_HEADER = list(sessions_train.columns)\n",
        "\n",
        "CATEGORICAL_FEATURES_WITH_VOCABULARY = {\n",
        "    \"session_id\": list(sessions_train.session_id.unique()),\n",
        "    \"item_id\": list(item_features.item_id.unique()),\n",
        "    \"item_category\": list(item_features.feature_category_id.unique()),\n",
        "    \"item_category_value\": list(item_features.feature_value_id.unique()),\n",
        "    \"month\": list(sessions_train.month.unique())\n",
        "}\n",
        "\n",
        "OTHER_FEATURES = [\"month\"]\n",
        "\n",
        "ITEM_FEATURES = [\"item_category\", \"item_category_value\"]"
      ]
    },
    {
      "cell_type": "code",
      "source": [
        "CSV_HEADER"
      ],
      "metadata": {
        "id": "kh2IfDmBWocY",
        "colab": {
          "base_uri": "https://localhost:8080/"
        },
        "outputId": "38075555-f4c7-4c43-e3d8-73543e232e12"
      },
      "execution_count": 107,
      "outputs": [
        {
          "output_type": "execute_result",
          "data": {
            "text/plain": [
              "['session_id', 'month', 'sequence_item_ids', 'sequence_durations']"
            ]
          },
          "metadata": {},
          "execution_count": 107
        }
      ]
    },
    {
      "cell_type": "markdown",
      "metadata": {
        "id": "Yr4Oxvx9o5oz"
      },
      "source": [
        "## Create `tf.data.Dataset` for training and evaluation"
      ]
    },
    {
      "cell_type": "code",
      "execution_count": 108,
      "metadata": {
        "id": "2eAG7KDYo5oz"
      },
      "outputs": [],
      "source": [
        "def get_dataset_from_csv(csv_file_path, shuffle=False, batch_size=128):\n",
        "    def process(features):\n",
        "        item_ids_string = features[\"sequence_item_ids\"]\n",
        "        sequence_item_ids = tf.strings.split(item_ids_string, \",\").to_tensor()\n",
        "\n",
        "        # The last movie id in the sequence is the target movie.\n",
        "        features[\"target_item_id\"] = sequence_item_ids[:, -1]\n",
        "        features[\"sequence_item_ids\"] = sequence_item_ids[:, :-1]\n",
        "\n",
        "        durations_string = features[\"sequence_durations\"]\n",
        "        sequence_durations = tf.strings.to_number(\n",
        "            tf.strings.split(durations_string, \",\"), tf.dtypes.float32\n",
        "        ).to_tensor()\n",
        "\n",
        "        # The last durations in the sequence is the target for the model to predict.\n",
        "        target = sequence_durations[:, -1]\n",
        "        features[\"sequence_durations\"] = sequence_durations[:, :-1]\n",
        "\n",
        "        return features, target\n",
        "\n",
        "    dataset = tf.data.experimental.make_csv_dataset(\n",
        "        csv_file_path,\n",
        "        batch_size=batch_size,\n",
        "        column_names=CSV_HEADER,\n",
        "        num_epochs=1,\n",
        "        header=False,\n",
        "        field_delim=\"|\",\n",
        "        shuffle=shuffle,\n",
        "    ).map(process)\n",
        "\n",
        "    return dataset\n"
      ]
    },
    {
      "cell_type": "code",
      "source": [
        "train_dataset = get_dataset_from_csv(\"train_data.csv\", shuffle=True, batch_size=265)"
      ],
      "metadata": {
        "id": "fgheH6C8XgMC"
      },
      "execution_count": 109,
      "outputs": []
    },
    {
      "cell_type": "code",
      "source": [
        "train_dataset"
      ],
      "metadata": {
        "id": "Lx6MpPcDYBpv",
        "colab": {
          "base_uri": "https://localhost:8080/"
        },
        "outputId": "3510239e-f75f-4d35-bb6b-c776822b009d"
      },
      "execution_count": 110,
      "outputs": [
        {
          "output_type": "execute_result",
          "data": {
            "text/plain": [
              "<_MapDataset element_spec=(OrderedDict([('session_id', TensorSpec(shape=(None,), dtype=tf.float32, name=None)), ('month', TensorSpec(shape=(None,), dtype=tf.float32, name=None)), ('sequence_item_ids', TensorSpec(shape=(None, None), dtype=tf.string, name=None)), ('sequence_durations', TensorSpec(shape=(None, None), dtype=tf.float32, name=None)), ('target_item_id', TensorSpec(shape=(None,), dtype=tf.string, name=None))]), TensorSpec(shape=(None,), dtype=tf.float32, name=None))>"
            ]
          },
          "metadata": {},
          "execution_count": 110
        }
      ]
    },
    {
      "cell_type": "markdown",
      "metadata": {
        "id": "CV-jhvbMo5oz"
      },
      "source": [
        "## Create model inputs"
      ]
    },
    {
      "cell_type": "code",
      "source": [
        "def create_model_inputs(): #to transform tensor-like object\n",
        "    return {\n",
        "        \"session_id\": keras.Input(name=\"session_id\", shape=(1,), dtype=\"string\"),\n",
        "        \"sequence_item_ids\": keras.Input(\n",
        "            name=\"sequence_item_ids\", shape=(sequence_length - 1,), dtype=\"string\"\n",
        "        ),\n",
        "        \"target_item_id\": keras.Input(\n",
        "            name=\"target_item_id\", shape=(1,), dtype=\"string\"\n",
        "        ),\n",
        "        \"sequence_durations\": keras.Input(\n",
        "            name=\"sequence_durations\", shape=(sequence_length - 1,), dtype=tf.float32\n",
        "        ),\n",
        "        \"month\": keras.Input(name=\"month\", shape=(1,), dtype=\"string\"),\n",
        "    }"
      ],
      "metadata": {
        "id": "BTLAbMenYJou"
      },
      "execution_count": 111,
      "outputs": []
    },
    {
      "cell_type": "code",
      "source": [
        "#Build vocabulary of item features\n",
        "#filter a subset of item_features table just from item from data train\n",
        "dataset = dataset[dataset[\"item_id\"].notnull()]\n",
        "item_features_filtered = item_features.loc[dataset[\"item_id\"]]"
      ],
      "metadata": {
        "id": "bDKFSj0OY21a"
      },
      "execution_count": 112,
      "outputs": []
    },
    {
      "cell_type": "code",
      "source": [
        "item_features_filtered = item_features_filtered.drop(columns = ['feature_value_id'])"
      ],
      "metadata": {
        "id": "FKOsi-aJZgUI"
      },
      "execution_count": 113,
      "outputs": []
    },
    {
      "cell_type": "code",
      "source": [
        "#create one-hot encoding for items(feature_category_id)\n",
        "one_hot_item_features_filtered = pd.get_dummies(item_features_filtered, prefix = 'feature_', columns = ['item_id', 'feature_category_id'])"
      ],
      "metadata": {
        "id": "Gm04ec1vaB9T"
      },
      "execution_count": 114,
      "outputs": []
    },
    {
      "cell_type": "code",
      "source": [
        "one_hot_item_features_filtered.info()"
      ],
      "metadata": {
        "id": "6nDjSyq4aF3B",
        "colab": {
          "base_uri": "https://localhost:8080/"
        },
        "outputId": "66a4e9bc-56d0-4a25-82c4-afc76831c231"
      },
      "execution_count": 115,
      "outputs": [
        {
          "output_type": "stream",
          "name": "stdout",
          "text": [
            "<class 'pandas.core.frame.DataFrame'>\n",
            "Index: 310166 entries, 11693 to 2675\n",
            "Columns: 1487 entries, feature__2 to feature__73\n",
            "dtypes: bool(1487)\n",
            "memory usage: 442.2 MB\n"
          ]
        }
      ]
    },
    {
      "cell_type": "markdown",
      "metadata": {
        "id": "7BYgzavpo5oz"
      },
      "source": [
        "## Encode input features\n",
        "\n",
        "The `encode_input_features` method works as follows:\n",
        "\n",
        "1. Each categorical other feature (month) is encoded using `layers.Embedding`, with embedding\n",
        "dimension equals to the square root of the vocabulary size of the feature.\n",
        "The embeddings of these features are concatenated to form a single input tensor.\n",
        "\n",
        "2. Each item in the item sequence and the target item is encoded `layers.Embedding`,\n",
        "where the dimension size is the square root of the number of items.\n",
        "\n",
        "3. A multi-hot cates vector for each item is concatenated with its embedding vector,\n",
        "and processed using a non-linear `layers.Dense` to output a vector of the same item\n",
        "embedding dimensions.\n",
        "\n",
        "4. A positional embedding is added to each item embedding in the sequence, and then\n",
        "multiplied by its durations from the durations sequence.\n",
        "\n",
        "5. The target item embedding is concatenated to the sequence item embeddings, producing\n",
        "a tensor with the shape of `[batch size, sequence length, embedding size]`, as expected\n",
        "by the attention layer for the transformer architecture.\n",
        "\n",
        "6. The method returns a tuple of two elements:  `encoded_transformer_features` and\n",
        "`encoded_other_features`."
      ]
    },
    {
      "cell_type": "code",
      "execution_count": 116,
      "metadata": {
        "id": "yfLpgwFjo5oz"
      },
      "outputs": [],
      "source": [
        "def encode_input_features(\n",
        "    inputs,\n",
        "    include_session_id=False,\n",
        "    include_other_features=False,\n",
        "    include_item_features=True,\n",
        "):\n",
        "    encoded_transformer_features = []\n",
        "    encoded_other_features = []\n",
        "\n",
        "    other_feature_names = []\n",
        "    if include_session_id:\n",
        "        other_feature_names.append(\"session_id\")\n",
        "    if include_other_features:\n",
        "        other_feature_names.extend(OTHER_FEATURES) #extend to add item in a list of other features\n",
        "\n",
        "    ## Encode other features\n",
        "    for feature_name in other_feature_names:\n",
        "        # Convert the string input values into integer indices.\n",
        "        vocabulary = [str(i) for i in CATEGORICAL_FEATURES_WITH_VOCABULARY[feature_name]] #add item in a list of other features\n",
        "        print(vocabulary)\n",
        "        idx = StringLookup(vocabulary=vocabulary,\n",
        "                           mask_token=None,\n",
        "                           num_oov_indices=1,\n",
        "                           )(inputs[feature_name])\n",
        "        # Compute embedding dimensions\n",
        "        embedding_dims = int(math.sqrt(len(vocabulary)))\n",
        "        # Create an embedding layer with the specified dimensions.\n",
        "        embedding_encoder = layers.Embedding(\n",
        "            input_dim=len(vocabulary),\n",
        "            output_dim=embedding_dims,\n",
        "            name=f\"{feature_name}_embedding\",\n",
        "        )\n",
        "        # Convert the index values to embedding representations.\n",
        "        encoded_other_features.append(embedding_encoder(idx))\n",
        "\n",
        "    ## Create a single embedding vector for the session features ##Skip\n",
        "    if len(encoded_other_features) > 1:\n",
        "        encoded_other_features = layers.concatenate(encoded_other_features)\n",
        "    elif len(encoded_other_features) == 1:\n",
        "        encoded_other_features = encoded_other_features[0]\n",
        "    else:\n",
        "        encoded_other_features = None\n",
        "\n",
        "    ## Create a item embedding encoder\n",
        "    item_vocabulary = [str(i) for i in CATEGORICAL_FEATURES_WITH_VOCABULARY['item_id']]\n",
        "                      #tf.strings.as_string(CATEGORICAL_FEATURES_WITH_VOCABULARY[\"item_id\"])\n",
        "    item_embedding_dims = int(math.sqrt(len(item_vocabulary)))\n",
        "    #print(item_vocabulary, 'item_vocabulary')\n",
        "    # Create a lookup to convert string values to integer indices.\n",
        "    item_index_lookup = StringLookup(\n",
        "        vocabulary=item_vocabulary,\n",
        "        mask_token=None,\n",
        "        num_oov_indices=1,\n",
        "        name=\"item_index_lookup\",\n",
        "    )\n",
        "    # Create an item embedding layer with the specified dimensions.\n",
        "    item_embedding_encoder = layers.Embedding(\n",
        "        input_dim=len(item_vocabulary),\n",
        "        output_dim=item_embedding_dims,\n",
        "        name=f\"item_embedding\",\n",
        "    )\n",
        "    # Create a vector lookup for item category\n",
        "    #cate_vectors present one-hot-encoding\n",
        "    #input_dim presents a len of unique item_id and output_dim presents a len of unique\n",
        "    cate_vectors = one_hot_item_features_filtered.to_numpy()\n",
        "    # Create a lookup to convert string values to integer indices.\n",
        "    item_cate_lookup = layers.Embedding(\n",
        "        input_dim=cate_vectors.shape[0],\n",
        "        output_dim=cate_vectors.shape[1],\n",
        "        embeddings_initializer=keras.initializers.Constant(cate_vectors),\n",
        "        trainable=False,\n",
        "        name=\"cate_vector\",\n",
        "    )\n",
        "    # Create a processing layer for cate.\n",
        "    item_embedding_dims_embedding_processor = layers.Dense(\n",
        "        units=item_embedding_dims,\n",
        "        activation=\"relu\",\n",
        "        name=\"process_item_embedding_with_cate\",\n",
        "    )\n",
        "\n",
        "    ## Define a function to encode a given item id.\n",
        "    def encode_item(item_id):\n",
        "        # Convert the string input values into integer indices.\n",
        "        item_idx = item_index_lookup(item_id)\n",
        "        # Item embedding\n",
        "        item_embedding = item_embedding_encoder(item_idx)\n",
        "        encoded_item = item_embedding\n",
        "        if include_item_features:\n",
        "            item_cate_vector = item_cate_lookup(item_idx)\n",
        "            encoded_item = item_embedding_dims_embedding_processor (\n",
        "                layers.concatenate([item_embedding, item_cate_vector])\n",
        "            )\n",
        "        return encoded_item\n",
        "\n",
        "    ## Encoding target_item_id\n",
        "    target_item_id = inputs[\"target_item_id\"]\n",
        "    encoded_target_item = encode_item(target_item_id)\n",
        "\n",
        "    ## Encoding sequence item_ids.\n",
        "    sequence_item_ids = inputs[\"sequence_item_ids\"]\n",
        "    encoded_sequence_items = encode_item(sequence_item_ids)\n",
        "    # Create positional embedding.\n",
        "    position_embedding_encoder = layers.Embedding(\n",
        "        input_dim=sequence_length,\n",
        "        output_dim=item_embedding_dims,\n",
        "        name=\"position_embedding\",\n",
        "    )\n",
        "    positions = tf.range(start=0, limit=sequence_length - 1, delta=1)\n",
        "    encodded_positions = position_embedding_encoder(positions)\n",
        "    # Retrieve sequence durations to incorporate them into the encoding of the item.\n",
        "    sequence_durations = inputs[\"sequence_durations\"]\n",
        "    sequence_durations = keras.ops.expand_dims(sequence_durations, -1)\n",
        "    # Add the positional encoding to the item encodings and multiply them by rating.\n",
        "    encoded_sequence_items_with_position_and_rating = layers.Multiply()(\n",
        "        [(encoded_sequence_items + encodded_positions), sequence_durations]\n",
        "    )\n",
        "\n",
        "    # Construct the transformer inputs.\n",
        "    for i in range(sequence_length - 1):\n",
        "        feature = encoded_sequence_items_with_position_and_rating[:, i, ...]\n",
        "        feature = keras.ops.expand_dims(feature, 1)\n",
        "        encoded_transformer_features.append(feature)\n",
        "    encoded_transformer_features.append(encoded_target_item)\n",
        "\n",
        "    encoded_transformer_features = layers.concatenate(\n",
        "        encoded_transformer_features, axis=1\n",
        "    )\n",
        "\n",
        "    return encoded_transformer_features, encoded_other_features\n"
      ]
    },
    {
      "cell_type": "markdown",
      "metadata": {
        "id": "7QGKKydwo5o0"
      },
      "source": [
        "## Create a BST model"
      ]
    },
    {
      "cell_type": "code",
      "execution_count": 117,
      "metadata": {
        "id": "64vsuHOTo5o0"
      },
      "outputs": [],
      "source": [
        "include_session_id = False\n",
        "include_other_features = False\n",
        "include_item_features = True\n",
        "\n",
        "hidden_units = [256, 128]\n",
        "dropout_rate = 0.1\n",
        "num_heads = 3\n",
        "\n",
        "\n",
        "def create_model():\n",
        "    inputs = create_model_inputs()\n",
        "    transformer_features, other_features = encode_input_features(\n",
        "        inputs, include_session_id, include_other_features, include_item_features\n",
        "    )\n",
        "\n",
        "    # Create a multi-headed attention layer.\n",
        "    attention_output = layers.MultiHeadAttention(\n",
        "        num_heads=num_heads, key_dim=transformer_features.shape[2], dropout=dropout_rate\n",
        "    )(transformer_features, transformer_features)\n",
        "\n",
        "    # Transformer block.\n",
        "    attention_output = layers.Dropout(dropout_rate)(attention_output)\n",
        "    x1 = layers.Add()([transformer_features, attention_output])\n",
        "    x1 = layers.LayerNormalization()(x1)\n",
        "    x2 = layers.LeakyReLU()(x1)\n",
        "    x2 = layers.Dense(units=x2.shape[-1])(x2)\n",
        "    x2 = layers.Dropout(dropout_rate)(x2)\n",
        "    transformer_features = layers.Add()([x1, x2])\n",
        "    transformer_features = layers.LayerNormalization()(transformer_features)\n",
        "    features = layers.Flatten()(transformer_features)\n",
        "\n",
        "    # Included the other features.\n",
        "    if other_features is not None:\n",
        "        features = layers.concatenate(\n",
        "            [features, layers.Reshape([other_features.shape[-1]])(other_features)]\n",
        "        )\n",
        "\n",
        "    # Fully-connected layers.\n",
        "    for num_units in hidden_units:\n",
        "        features = layers.Dense(num_units)(features)\n",
        "        features = layers.BatchNormalization()(features)\n",
        "        features = layers.LeakyReLU()(features)\n",
        "        features = layers.Dropout(dropout_rate)(features)\n",
        "\n",
        "    outputs = layers.Dense(units=1)(features)\n",
        "    model = keras.Model(inputs=inputs, outputs=outputs)\n",
        "    return model\n",
        "\n",
        "\n",
        "model = create_model()"
      ]
    },
    {
      "cell_type": "markdown",
      "metadata": {
        "id": "ZU9dj6Zio5o0"
      },
      "source": [
        "## Run training and evaluation experiment"
      ]
    },
    {
      "cell_type": "code",
      "source": [
        "from keras import losses"
      ],
      "metadata": {
        "id": "EzvY1cADAKzd"
      },
      "execution_count": 118,
      "outputs": []
    },
    {
      "cell_type": "code",
      "execution_count": 119,
      "metadata": {
        "id": "D2APw2g-o5o0",
        "colab": {
          "base_uri": "https://localhost:8080/"
        },
        "outputId": "0849e71e-3759-4d6d-a905-03463138e06f"
      },
      "outputs": [
        {
          "output_type": "stream",
          "name": "stdout",
          "text": [
            "Epoch 1/5\n"
          ]
        },
        {
          "output_type": "stream",
          "name": "stderr",
          "text": [
            "/usr/local/lib/python3.10/dist-packages/keras/src/losses/losses.py:22: SyntaxWarning: In loss categorical_crossentropy, expected y_pred.shape to be (batch_size, num_classes) with num_classes > 1. Received: y_pred.shape=(None, 1). Consider using 'binary_crossentropy' if you only have 2 classes.\n",
            "  return self.fn(y_true, y_pred, **self._fn_kwargs)\n"
          ]
        },
        {
          "output_type": "stream",
          "name": "stdout",
          "text": [
            "\u001b[1m191/191\u001b[0m \u001b[32m━━━━━━━━━━━━━━━━━━━━\u001b[0m\u001b[37m\u001b[0m \u001b[1m9s\u001b[0m 27ms/step - loss: 2.0318e-05 - precision: 0.9999 - recall: 0.2494\n",
            "Epoch 2/5\n",
            "\u001b[1m  1/191\u001b[0m \u001b[37m━━━━━━━━━━━━━━━━━━━━\u001b[0m \u001b[1m27s\u001b[0m 144ms/step - loss: 2.2856e-05 - precision: 1.0000 - recall: 0.2264"
          ]
        },
        {
          "output_type": "stream",
          "name": "stderr",
          "text": [
            "/usr/lib/python3.10/contextlib.py:153: UserWarning: Your input ran out of data; interrupting training. Make sure that your dataset or generator can generate at least `steps_per_epoch * epochs` batches. You may need to use the `.repeat()` function when building your dataset.\n",
            "  self.gen.throw(typ, value, traceback)\n"
          ]
        },
        {
          "output_type": "stream",
          "name": "stdout",
          "text": [
            "\u001b[1m191/191\u001b[0m \u001b[32m━━━━━━━━━━━━━━━━━━━━\u001b[0m\u001b[37m\u001b[0m \u001b[1m6s\u001b[0m 31ms/step - loss: 2.2793e-05 - precision: 0.9993 - recall: 0.2521\n",
            "Epoch 3/5\n",
            "\u001b[1m191/191\u001b[0m \u001b[32m━━━━━━━━━━━━━━━━━━━━\u001b[0m\u001b[37m\u001b[0m \u001b[1m5s\u001b[0m 27ms/step - loss: 2.2235e-05 - precision: 0.9997 - recall: 0.2494\n",
            "Epoch 4/5\n",
            "\u001b[1m191/191\u001b[0m \u001b[32m━━━━━━━━━━━━━━━━━━━━\u001b[0m\u001b[37m\u001b[0m \u001b[1m11s\u001b[0m 28ms/step - loss: 2.2995e-05 - precision: 0.9999 - recall: 0.2488\n",
            "Epoch 5/5\n",
            "\u001b[1m191/191\u001b[0m \u001b[32m━━━━━━━━━━━━━━━━━━━━\u001b[0m\u001b[37m\u001b[0m \u001b[1m11s\u001b[0m 31ms/step - loss: 2.3230e-05 - precision: 0.9994 - recall: 0.2498\n",
            "Test recall: 0.019\n"
          ]
        }
      ],
      "source": [
        "# Compile the model.\n",
        "model.compile(\n",
        "    optimizer=keras.optimizers.Adagrad(learning_rate=0.01),\n",
        "    loss=keras.losses.CategoricalCrossentropy(label_smoothing=0.1),\n",
        "    metrics=[keras.metrics.Precision(name = 'precision'),\n",
        "             keras.metrics.Recall(name = 'recall')]\n",
        ")\n",
        "\n",
        "# Read the training data.\n",
        "train_dataset = get_dataset_from_csv(\"train_data.csv\", shuffle=True, batch_size=265)\n",
        "\n",
        "# Fit the model with the training data.\n",
        "model.fit(train_dataset, epochs=5)\n",
        "\n",
        "# Read the test data.\n",
        "test_dataset = get_dataset_from_csv(\"test_data.csv\", batch_size=265)\n",
        "\n",
        "# Evaluate the model on the test data.\n",
        "\n",
        "_, precision, recall = model.evaluate(test_dataset, verbose=0)\n",
        "print(f\"Test recall: {round(recall, 3)}\")"
      ]
    }
  ],
  "metadata": {
    "accelerator": "GPU",
    "colab": {
      "provenance": [],
      "toc_visible": true,
      "collapsed_sections": [
        "RCXlB4ATo5ov",
        "WBxgnpmwo5ow"
      ]
    },
    "kernelspec": {
      "display_name": "Python 3",
      "language": "python",
      "name": "python3"
    },
    "language_info": {
      "codemirror_mode": {
        "name": "ipython",
        "version": 3
      },
      "file_extension": ".py",
      "mimetype": "text/x-python",
      "name": "python",
      "nbconvert_exporter": "python",
      "pygments_lexer": "ipython3",
      "version": "3.7.0"
    }
  },
  "nbformat": 4,
  "nbformat_minor": 0
}