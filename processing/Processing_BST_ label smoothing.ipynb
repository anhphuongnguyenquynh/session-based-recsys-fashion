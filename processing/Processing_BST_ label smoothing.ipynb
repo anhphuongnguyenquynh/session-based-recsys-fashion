{
  "cells": [
    {
      "cell_type": "markdown",
      "metadata": {
        "id": "RCXlB4ATo5ov"
      },
      "source": [
        "## Setup"
      ]
    },
    {
      "cell_type": "code",
      "execution_count": 1,
      "metadata": {
        "id": "4h4PLM3Zo5ov"
      },
      "outputs": [],
      "source": [
        "import os\n",
        "\n",
        "os.environ[\"KERAS_BACKEND\"] = \"tensorflow\"\n",
        "\n",
        "import math\n",
        "from zipfile import ZipFile\n",
        "from urllib.request import urlretrieve\n",
        "\n",
        "import keras\n",
        "import numpy as np\n",
        "import pandas as pd\n",
        "import tensorflow as tf\n",
        "from keras import layers\n",
        "from keras.layers import StringLookup"
      ]
    },
    {
      "cell_type": "code",
      "source": [
        "#import train test split\n",
        "from sklearn.model_selection import train_test_split\n",
        "import random"
      ],
      "metadata": {
        "id": "1mNPSE1_nWzg"
      },
      "execution_count": 2,
      "outputs": []
    },
    {
      "cell_type": "code",
      "source": [
        "!pip install -q keras-core\n",
        "import keras_core as keras_core"
      ],
      "metadata": {
        "colab": {
          "base_uri": "https://localhost:8080/"
        },
        "id": "WPCd3TEHp9p5",
        "outputId": "17ead2ca-1ba6-4b2c-c38e-d1477a128f2e"
      },
      "execution_count": 3,
      "outputs": [
        {
          "output_type": "stream",
          "name": "stdout",
          "text": [
            "Using TensorFlow backend\n"
          ]
        }
      ]
    },
    {
      "cell_type": "code",
      "source": [
        "!pip install --upgrade keras\n",
        "from keras import ops"
      ],
      "metadata": {
        "colab": {
          "base_uri": "https://localhost:8080/"
        },
        "id": "U8kw5LKsrNSY",
        "outputId": "81cf1f83-c320-4432-c7e6-b0ee6cebba1f"
      },
      "execution_count": 4,
      "outputs": [
        {
          "output_type": "stream",
          "name": "stdout",
          "text": [
            "Requirement already satisfied: keras in /usr/local/lib/python3.10/dist-packages (3.3.3)\n",
            "Requirement already satisfied: absl-py in /usr/local/lib/python3.10/dist-packages (from keras) (1.4.0)\n",
            "Requirement already satisfied: numpy in /usr/local/lib/python3.10/dist-packages (from keras) (1.25.2)\n",
            "Requirement already satisfied: rich in /usr/local/lib/python3.10/dist-packages (from keras) (13.7.1)\n",
            "Requirement already satisfied: namex in /usr/local/lib/python3.10/dist-packages (from keras) (0.0.8)\n",
            "Requirement already satisfied: h5py in /usr/local/lib/python3.10/dist-packages (from keras) (3.9.0)\n",
            "Requirement already satisfied: optree in /usr/local/lib/python3.10/dist-packages (from keras) (0.11.0)\n",
            "Requirement already satisfied: ml-dtypes in /usr/local/lib/python3.10/dist-packages (from keras) (0.2.0)\n",
            "Requirement already satisfied: typing-extensions>=4.0.0 in /usr/local/lib/python3.10/dist-packages (from optree->keras) (4.11.0)\n",
            "Requirement already satisfied: markdown-it-py>=2.2.0 in /usr/local/lib/python3.10/dist-packages (from rich->keras) (3.0.0)\n",
            "Requirement already satisfied: pygments<3.0.0,>=2.13.0 in /usr/local/lib/python3.10/dist-packages (from rich->keras) (2.16.1)\n",
            "Requirement already satisfied: mdurl~=0.1 in /usr/local/lib/python3.10/dist-packages (from markdown-it-py>=2.2.0->rich->keras) (0.1.2)\n"
          ]
        }
      ]
    },
    {
      "cell_type": "markdown",
      "metadata": {
        "id": "WBxgnpmwo5ow"
      },
      "source": [
        "## Prepare the data\n",
        "\n",
        "### Download and prepare the DataFrames"
      ]
    },
    {
      "cell_type": "code",
      "source": [
        "url = 'https://raw.githubusercontent.com/anhphuongnguyenquynh/session-based-recsys-fashion/main/dressipi_recsys2022_datasets.zip'\n",
        "!wget $url\n",
        "!unzip dressipi_recsys2022_datasets.zip"
      ],
      "metadata": {
        "id": "0BA7xB3y6y96",
        "colab": {
          "base_uri": "https://localhost:8080/"
        },
        "outputId": "a45598a3-d554-408a-82e6-b3c607513b89"
      },
      "execution_count": 5,
      "outputs": [
        {
          "output_type": "stream",
          "name": "stdout",
          "text": [
            "--2024-05-14 09:53:50--  https://raw.githubusercontent.com/anhphuongnguyenquynh/session-based-recsys-fashion/main/dressipi_recsys2022_datasets.zip\n",
            "Resolving raw.githubusercontent.com (raw.githubusercontent.com)... 185.199.108.133, 185.199.109.133, 185.199.110.133, ...\n",
            "Connecting to raw.githubusercontent.com (raw.githubusercontent.com)|185.199.108.133|:443... connected.\n",
            "HTTP request sent, awaiting response... 200 OK\n",
            "Length: 79384785 (76M) [application/zip]\n",
            "Saving to: ‘dressipi_recsys2022_datasets.zip’\n",
            "\n",
            "dressipi_recsys2022 100%[===================>]  75.71M   180MB/s    in 0.4s    \n",
            "\n",
            "2024-05-14 09:53:52 (180 MB/s) - ‘dressipi_recsys2022_datasets.zip’ saved [79384785/79384785]\n",
            "\n",
            "Archive:  dressipi_recsys2022_datasets.zip\n",
            "   creating: dressipi_recsys2022_dataset/\n",
            "  inflating: dressipi_recsys2022_dataset/README.txt  \n",
            "  inflating: dressipi_recsys2022_dataset/candidate_items.csv  \n",
            "  inflating: dressipi_recsys2022_dataset/item_features.csv  \n",
            "  inflating: dressipi_recsys2022_dataset/test_final_purchases.csv  \n",
            "  inflating: dressipi_recsys2022_dataset/test_final_sessions.csv  \n",
            "  inflating: dressipi_recsys2022_dataset/test_full_purchases.csv  \n",
            "  inflating: dressipi_recsys2022_dataset/test_full_sessions.csv  \n",
            "  inflating: dressipi_recsys2022_dataset/test_leaderboard_purchases.csv  \n",
            "  inflating: dressipi_recsys2022_dataset/test_leaderboard_sessions.csv  \n",
            "  inflating: dressipi_recsys2022_dataset/train_purchases.csv  \n",
            "  inflating: dressipi_recsys2022_dataset/train_sessions.csv  \n"
          ]
        }
      ]
    },
    {
      "cell_type": "code",
      "source": [
        "item_features = pd.read_csv('dressipi_recsys2022_dataset/item_features.csv')"
      ],
      "metadata": {
        "id": "peLs3xFV61Ao"
      },
      "execution_count": 6,
      "outputs": []
    },
    {
      "cell_type": "code",
      "source": [
        "candidate_items = pd.read_csv('dressipi_recsys2022_dataset/candidate_items.csv')"
      ],
      "metadata": {
        "id": "l5H-D-3JDrHA"
      },
      "execution_count": 7,
      "outputs": []
    },
    {
      "cell_type": "code",
      "source": [
        "#url = 'https://raw.githubusercontent.com/anhphuongnguyenquynh/session-based-recsys-fashion/main/dataset_filtered/train_sessions_duration003.csv'\n",
        "#train_session fraction 10% ~ 500.000\n",
        "url01 = 'https://raw.githubusercontent.com/anhphuongnguyenquynh/session-based-recsys-fashion/main/dataset_filtered/train_session01_seq.csv'"
      ],
      "metadata": {
        "id": "Up90vpHf64Cp"
      },
      "execution_count": 8,
      "outputs": []
    },
    {
      "cell_type": "code",
      "source": [
        "dataset01 = pd.read_csv(url01, index_col = 0, parse_dates=[\"date\"])\n",
        "dataset01 = dataset01.dropna()\n",
        "dataset01 = dataset01.reset_index()\n",
        "#fraction\n",
        "dataset = dataset01.sample(frac=0.6)"
      ],
      "metadata": {
        "id": "tDf2bVNb66W1"
      },
      "execution_count": 12,
      "outputs": []
    },
    {
      "cell_type": "code",
      "source": [
        "dataset.dtypes"
      ],
      "metadata": {
        "id": "pexY7_oQUGp1",
        "colab": {
          "base_uri": "https://localhost:8080/"
        },
        "outputId": "23bd53eb-8c27-4b97-9766-b16921e05a08"
      },
      "execution_count": 13,
      "outputs": [
        {
          "output_type": "execute_result",
          "data": {
            "text/plain": [
              "session_id           float64\n",
              "item_id              float64\n",
              "date          datetime64[ns]\n",
              "timestamp            float64\n",
              "month                float64\n",
              "weekYear             float64\n",
              "season               float64\n",
              "duration             float64\n",
              "dtype: object"
            ]
          },
          "metadata": {},
          "execution_count": 13
        }
      ]
    },
    {
      "cell_type": "code",
      "source": [
        "dataset.shape"
      ],
      "metadata": {
        "colab": {
          "base_uri": "https://localhost:8080/"
        },
        "id": "lYXdoCahiecg",
        "outputId": "3c6eb626-3d4d-442e-bc27-c2f2b706d0a6"
      },
      "execution_count": 14,
      "outputs": [
        {
          "output_type": "execute_result",
          "data": {
            "text/plain": [
              "(310166, 8)"
            ]
          },
          "metadata": {},
          "execution_count": 14
        }
      ]
    },
    {
      "cell_type": "code",
      "source": [
        "#Group by session_id after sort_values by timestamp\n",
        "sessions_groups = dataset.sort_values(by=[\"timestamp\"]).groupby(\"session_id\")\n",
        "sessions_train = pd.DataFrame(data = {\n",
        "        \"session_id\": list(sessions_groups.groups.keys()),\n",
        "        \"month\" : list(sessions_groups.month.unique().explode()),\n",
        "        \"weekYear\" : list(sessions_groups.weekYear.unique().explode()),\n",
        "        \"season\" : list(sessions_groups.season.unique().explode()),\n",
        "        \"item_ids\": list(sessions_groups.item_id.apply(list)),\n",
        "        \"durations\": list(sessions_groups.duration.apply(list)),\n",
        "        \"timestamps\": list(sessions_groups.timestamp.apply(list)),\n",
        "    })"
      ],
      "metadata": {
        "id": "GvjwV7G56-WG"
      },
      "execution_count": 15,
      "outputs": []
    },
    {
      "cell_type": "code",
      "source": [
        "#drop session has item_ids <2\n",
        "sessions_train = sessions_train[sessions_train.item_ids.apply(len) >= 2]"
      ],
      "metadata": {
        "id": "MxNWNWh57FOJ"
      },
      "execution_count": 16,
      "outputs": []
    },
    {
      "cell_type": "code",
      "source": [
        "sequence_length = 4\n",
        "step = 2\n",
        "def create_sequences(values, sequence, step):\n",
        "  start_idx = 0\n",
        "  sec_list = []\n",
        "  #Handle case < sequence:\n",
        "  if len(values) < sequence:\n",
        "    values = values * 2\n",
        "  #Handle case >= sequence:\n",
        "  while True:\n",
        "    end_idx = start_idx + sequence\n",
        "    sec = values[start_idx:end_idx]\n",
        "    start_idx += step\n",
        "    if end_idx >= len(values):\n",
        "      sec = values[-sequence:]\n",
        "      sec_list.append(sec)\n",
        "      break\n",
        "    sec_list.append(sec)\n",
        "  return sec_list"
      ],
      "metadata": {
        "id": "mQrh15Th7I6V"
      },
      "execution_count": 17,
      "outputs": []
    },
    {
      "cell_type": "code",
      "source": [
        "sessions_train[\"item_ids\"] = sessions_train[\"item_ids\"].apply(\n",
        "    lambda values: create_sequences(\n",
        "        values,sequence_length, step))\n",
        "\n",
        "sessions_train[\"durations\"] = sessions_train[\"durations\"].apply(\n",
        "    lambda values: create_sequences(\n",
        "        values,sequence_length, step))\n",
        "\n",
        "sessions_train = sessions_train.drop(columns = [\"timestamps\"])\n",
        "\n",
        "sessions_train = sessions_train.explode(column=[\"item_ids\", \"durations\"]).reset_index(drop=True)"
      ],
      "metadata": {
        "id": "ux28h7Gz7NEu"
      },
      "execution_count": 18,
      "outputs": []
    },
    {
      "cell_type": "code",
      "source": [
        "#remove '[' ']' in a sequence\n",
        "sessions_train.item_ids = sessions_train.item_ids.apply(\n",
        "    lambda x: \",\".join([str(v) for v in x]))\n",
        "\n",
        "sessions_train.durations = sessions_train.durations.apply(\n",
        "    lambda x: \",\".join([str(v) for v in x]))\n"
      ],
      "metadata": {
        "id": "Ik6mlbQH7Z9u"
      },
      "execution_count": 19,
      "outputs": []
    },
    {
      "cell_type": "code",
      "source": [
        "#drop weekYear and season\n",
        "#convert type column month to string\n",
        "sessions_train[\"month\"] = sessions_train[\"month\"].astype(str)\n",
        "sessions_train = sessions_train.drop(columns = [\"weekYear\", \"season\"])\n",
        "sessions_train.head(5)"
      ],
      "metadata": {
        "id": "616E3kW18Fnv",
        "colab": {
          "base_uri": "https://localhost:8080/",
          "height": 206
        },
        "outputId": "67f46339-9051-46c1-ebbb-c93b5e29c8d9"
      },
      "execution_count": 20,
      "outputs": [
        {
          "output_type": "execute_result",
          "data": {
            "text/plain": [
              "   session_id month                         item_ids          durations\n",
              "0        19.0  11.0    20033.0,6704.0,20033.0,6704.0    1.0,1.0,1.0,1.0\n",
              "1       108.0   6.0    4816.0,13885.0,26130.0,4816.0   1.0,1.0,67.0,1.0\n",
              "2       108.0   6.0   26130.0,4816.0,13885.0,26130.0  67.0,1.0,1.0,67.0\n",
              "3       380.0   1.0  19112.0,24730.0,19112.0,24730.0    1.0,1.0,1.0,1.0\n",
              "4       428.0  11.0    1720.0,14376.0,1720.0,14376.0    1.0,1.0,1.0,1.0"
            ],
            "text/html": [
              "\n",
              "  <div id=\"df-056dc745-6cd5-4911-b241-41539c52aa0b\" class=\"colab-df-container\">\n",
              "    <div>\n",
              "<style scoped>\n",
              "    .dataframe tbody tr th:only-of-type {\n",
              "        vertical-align: middle;\n",
              "    }\n",
              "\n",
              "    .dataframe tbody tr th {\n",
              "        vertical-align: top;\n",
              "    }\n",
              "\n",
              "    .dataframe thead th {\n",
              "        text-align: right;\n",
              "    }\n",
              "</style>\n",
              "<table border=\"1\" class=\"dataframe\">\n",
              "  <thead>\n",
              "    <tr style=\"text-align: right;\">\n",
              "      <th></th>\n",
              "      <th>session_id</th>\n",
              "      <th>month</th>\n",
              "      <th>item_ids</th>\n",
              "      <th>durations</th>\n",
              "    </tr>\n",
              "  </thead>\n",
              "  <tbody>\n",
              "    <tr>\n",
              "      <th>0</th>\n",
              "      <td>19.0</td>\n",
              "      <td>11.0</td>\n",
              "      <td>20033.0,6704.0,20033.0,6704.0</td>\n",
              "      <td>1.0,1.0,1.0,1.0</td>\n",
              "    </tr>\n",
              "    <tr>\n",
              "      <th>1</th>\n",
              "      <td>108.0</td>\n",
              "      <td>6.0</td>\n",
              "      <td>4816.0,13885.0,26130.0,4816.0</td>\n",
              "      <td>1.0,1.0,67.0,1.0</td>\n",
              "    </tr>\n",
              "    <tr>\n",
              "      <th>2</th>\n",
              "      <td>108.0</td>\n",
              "      <td>6.0</td>\n",
              "      <td>26130.0,4816.0,13885.0,26130.0</td>\n",
              "      <td>67.0,1.0,1.0,67.0</td>\n",
              "    </tr>\n",
              "    <tr>\n",
              "      <th>3</th>\n",
              "      <td>380.0</td>\n",
              "      <td>1.0</td>\n",
              "      <td>19112.0,24730.0,19112.0,24730.0</td>\n",
              "      <td>1.0,1.0,1.0,1.0</td>\n",
              "    </tr>\n",
              "    <tr>\n",
              "      <th>4</th>\n",
              "      <td>428.0</td>\n",
              "      <td>11.0</td>\n",
              "      <td>1720.0,14376.0,1720.0,14376.0</td>\n",
              "      <td>1.0,1.0,1.0,1.0</td>\n",
              "    </tr>\n",
              "  </tbody>\n",
              "</table>\n",
              "</div>\n",
              "    <div class=\"colab-df-buttons\">\n",
              "\n",
              "  <div class=\"colab-df-container\">\n",
              "    <button class=\"colab-df-convert\" onclick=\"convertToInteractive('df-056dc745-6cd5-4911-b241-41539c52aa0b')\"\n",
              "            title=\"Convert this dataframe to an interactive table.\"\n",
              "            style=\"display:none;\">\n",
              "\n",
              "  <svg xmlns=\"http://www.w3.org/2000/svg\" height=\"24px\" viewBox=\"0 -960 960 960\">\n",
              "    <path d=\"M120-120v-720h720v720H120Zm60-500h600v-160H180v160Zm220 220h160v-160H400v160Zm0 220h160v-160H400v160ZM180-400h160v-160H180v160Zm440 0h160v-160H620v160ZM180-180h160v-160H180v160Zm440 0h160v-160H620v160Z\"/>\n",
              "  </svg>\n",
              "    </button>\n",
              "\n",
              "  <style>\n",
              "    .colab-df-container {\n",
              "      display:flex;\n",
              "      gap: 12px;\n",
              "    }\n",
              "\n",
              "    .colab-df-convert {\n",
              "      background-color: #E8F0FE;\n",
              "      border: none;\n",
              "      border-radius: 50%;\n",
              "      cursor: pointer;\n",
              "      display: none;\n",
              "      fill: #1967D2;\n",
              "      height: 32px;\n",
              "      padding: 0 0 0 0;\n",
              "      width: 32px;\n",
              "    }\n",
              "\n",
              "    .colab-df-convert:hover {\n",
              "      background-color: #E2EBFA;\n",
              "      box-shadow: 0px 1px 2px rgba(60, 64, 67, 0.3), 0px 1px 3px 1px rgba(60, 64, 67, 0.15);\n",
              "      fill: #174EA6;\n",
              "    }\n",
              "\n",
              "    .colab-df-buttons div {\n",
              "      margin-bottom: 4px;\n",
              "    }\n",
              "\n",
              "    [theme=dark] .colab-df-convert {\n",
              "      background-color: #3B4455;\n",
              "      fill: #D2E3FC;\n",
              "    }\n",
              "\n",
              "    [theme=dark] .colab-df-convert:hover {\n",
              "      background-color: #434B5C;\n",
              "      box-shadow: 0px 1px 3px 1px rgba(0, 0, 0, 0.15);\n",
              "      filter: drop-shadow(0px 1px 2px rgba(0, 0, 0, 0.3));\n",
              "      fill: #FFFFFF;\n",
              "    }\n",
              "  </style>\n",
              "\n",
              "    <script>\n",
              "      const buttonEl =\n",
              "        document.querySelector('#df-056dc745-6cd5-4911-b241-41539c52aa0b button.colab-df-convert');\n",
              "      buttonEl.style.display =\n",
              "        google.colab.kernel.accessAllowed ? 'block' : 'none';\n",
              "\n",
              "      async function convertToInteractive(key) {\n",
              "        const element = document.querySelector('#df-056dc745-6cd5-4911-b241-41539c52aa0b');\n",
              "        const dataTable =\n",
              "          await google.colab.kernel.invokeFunction('convertToInteractive',\n",
              "                                                    [key], {});\n",
              "        if (!dataTable) return;\n",
              "\n",
              "        const docLinkHtml = 'Like what you see? Visit the ' +\n",
              "          '<a target=\"_blank\" href=https://colab.research.google.com/notebooks/data_table.ipynb>data table notebook</a>'\n",
              "          + ' to learn more about interactive tables.';\n",
              "        element.innerHTML = '';\n",
              "        dataTable['output_type'] = 'display_data';\n",
              "        await google.colab.output.renderOutput(dataTable, element);\n",
              "        const docLink = document.createElement('div');\n",
              "        docLink.innerHTML = docLinkHtml;\n",
              "        element.appendChild(docLink);\n",
              "      }\n",
              "    </script>\n",
              "  </div>\n",
              "\n",
              "\n",
              "<div id=\"df-6b4a8de8-7811-4b9e-b4ea-1686d25fae11\">\n",
              "  <button class=\"colab-df-quickchart\" onclick=\"quickchart('df-6b4a8de8-7811-4b9e-b4ea-1686d25fae11')\"\n",
              "            title=\"Suggest charts\"\n",
              "            style=\"display:none;\">\n",
              "\n",
              "<svg xmlns=\"http://www.w3.org/2000/svg\" height=\"24px\"viewBox=\"0 0 24 24\"\n",
              "     width=\"24px\">\n",
              "    <g>\n",
              "        <path d=\"M19 3H5c-1.1 0-2 .9-2 2v14c0 1.1.9 2 2 2h14c1.1 0 2-.9 2-2V5c0-1.1-.9-2-2-2zM9 17H7v-7h2v7zm4 0h-2V7h2v10zm4 0h-2v-4h2v4z\"/>\n",
              "    </g>\n",
              "</svg>\n",
              "  </button>\n",
              "\n",
              "<style>\n",
              "  .colab-df-quickchart {\n",
              "      --bg-color: #E8F0FE;\n",
              "      --fill-color: #1967D2;\n",
              "      --hover-bg-color: #E2EBFA;\n",
              "      --hover-fill-color: #174EA6;\n",
              "      --disabled-fill-color: #AAA;\n",
              "      --disabled-bg-color: #DDD;\n",
              "  }\n",
              "\n",
              "  [theme=dark] .colab-df-quickchart {\n",
              "      --bg-color: #3B4455;\n",
              "      --fill-color: #D2E3FC;\n",
              "      --hover-bg-color: #434B5C;\n",
              "      --hover-fill-color: #FFFFFF;\n",
              "      --disabled-bg-color: #3B4455;\n",
              "      --disabled-fill-color: #666;\n",
              "  }\n",
              "\n",
              "  .colab-df-quickchart {\n",
              "    background-color: var(--bg-color);\n",
              "    border: none;\n",
              "    border-radius: 50%;\n",
              "    cursor: pointer;\n",
              "    display: none;\n",
              "    fill: var(--fill-color);\n",
              "    height: 32px;\n",
              "    padding: 0;\n",
              "    width: 32px;\n",
              "  }\n",
              "\n",
              "  .colab-df-quickchart:hover {\n",
              "    background-color: var(--hover-bg-color);\n",
              "    box-shadow: 0 1px 2px rgba(60, 64, 67, 0.3), 0 1px 3px 1px rgba(60, 64, 67, 0.15);\n",
              "    fill: var(--button-hover-fill-color);\n",
              "  }\n",
              "\n",
              "  .colab-df-quickchart-complete:disabled,\n",
              "  .colab-df-quickchart-complete:disabled:hover {\n",
              "    background-color: var(--disabled-bg-color);\n",
              "    fill: var(--disabled-fill-color);\n",
              "    box-shadow: none;\n",
              "  }\n",
              "\n",
              "  .colab-df-spinner {\n",
              "    border: 2px solid var(--fill-color);\n",
              "    border-color: transparent;\n",
              "    border-bottom-color: var(--fill-color);\n",
              "    animation:\n",
              "      spin 1s steps(1) infinite;\n",
              "  }\n",
              "\n",
              "  @keyframes spin {\n",
              "    0% {\n",
              "      border-color: transparent;\n",
              "      border-bottom-color: var(--fill-color);\n",
              "      border-left-color: var(--fill-color);\n",
              "    }\n",
              "    20% {\n",
              "      border-color: transparent;\n",
              "      border-left-color: var(--fill-color);\n",
              "      border-top-color: var(--fill-color);\n",
              "    }\n",
              "    30% {\n",
              "      border-color: transparent;\n",
              "      border-left-color: var(--fill-color);\n",
              "      border-top-color: var(--fill-color);\n",
              "      border-right-color: var(--fill-color);\n",
              "    }\n",
              "    40% {\n",
              "      border-color: transparent;\n",
              "      border-right-color: var(--fill-color);\n",
              "      border-top-color: var(--fill-color);\n",
              "    }\n",
              "    60% {\n",
              "      border-color: transparent;\n",
              "      border-right-color: var(--fill-color);\n",
              "    }\n",
              "    80% {\n",
              "      border-color: transparent;\n",
              "      border-right-color: var(--fill-color);\n",
              "      border-bottom-color: var(--fill-color);\n",
              "    }\n",
              "    90% {\n",
              "      border-color: transparent;\n",
              "      border-bottom-color: var(--fill-color);\n",
              "    }\n",
              "  }\n",
              "</style>\n",
              "\n",
              "  <script>\n",
              "    async function quickchart(key) {\n",
              "      const quickchartButtonEl =\n",
              "        document.querySelector('#' + key + ' button');\n",
              "      quickchartButtonEl.disabled = true;  // To prevent multiple clicks.\n",
              "      quickchartButtonEl.classList.add('colab-df-spinner');\n",
              "      try {\n",
              "        const charts = await google.colab.kernel.invokeFunction(\n",
              "            'suggestCharts', [key], {});\n",
              "      } catch (error) {\n",
              "        console.error('Error during call to suggestCharts:', error);\n",
              "      }\n",
              "      quickchartButtonEl.classList.remove('colab-df-spinner');\n",
              "      quickchartButtonEl.classList.add('colab-df-quickchart-complete');\n",
              "    }\n",
              "    (() => {\n",
              "      let quickchartButtonEl =\n",
              "        document.querySelector('#df-6b4a8de8-7811-4b9e-b4ea-1686d25fae11 button');\n",
              "      quickchartButtonEl.style.display =\n",
              "        google.colab.kernel.accessAllowed ? 'block' : 'none';\n",
              "    })();\n",
              "  </script>\n",
              "</div>\n",
              "\n",
              "    </div>\n",
              "  </div>\n"
            ],
            "application/vnd.google.colaboratory.intrinsic+json": {
              "type": "dataframe",
              "variable_name": "sessions_train",
              "summary": "{\n  \"name\": \"sessions_train\",\n  \"rows\": 59325,\n  \"fields\": [\n    {\n      \"column\": \"session_id\",\n      \"properties\": {\n        \"dtype\": \"number\",\n        \"std\": 1278315.016081185,\n        \"min\": 19.0,\n        \"max\": 4440001.0,\n        \"num_unique_values\": 49342,\n        \"samples\": [\n          3166400.0,\n          347823.0,\n          93928.0\n        ],\n        \"semantic_type\": \"\",\n        \"description\": \"\"\n      }\n    },\n    {\n      \"column\": \"month\",\n      \"properties\": {\n        \"dtype\": \"category\",\n        \"num_unique_values\": 12,\n        \"samples\": [\n          \"12.0\",\n          \"9.0\",\n          \"11.0\"\n        ],\n        \"semantic_type\": \"\",\n        \"description\": \"\"\n      }\n    },\n    {\n      \"column\": \"item_ids\",\n      \"properties\": {\n        \"dtype\": \"string\",\n        \"num_unique_values\": 58513,\n        \"samples\": [\n          \"16404.0,3946.0,16404.0,3946.0\",\n          \"19514.0,2752.0,13084.0,19514.0\",\n          \"20720.0,8819.0,20720.0,8819.0\"\n        ],\n        \"semantic_type\": \"\",\n        \"description\": \"\"\n      }\n    },\n    {\n      \"column\": \"durations\",\n      \"properties\": {\n        \"dtype\": \"category\",\n        \"num_unique_values\": 3683,\n        \"samples\": [\n          \"547.0,1.0,547.0,1.0\",\n          \"1.0,118.0,9854.0,1.0\",\n          \"1.0,584.0,1.0,584.0\"\n        ],\n        \"semantic_type\": \"\",\n        \"description\": \"\"\n      }\n    }\n  ]\n}"
            }
          },
          "metadata": {},
          "execution_count": 20
        }
      ]
    },
    {
      "cell_type": "code",
      "source": [
        "sessions_train = sessions_train.rename(columns = {\"item_ids\": \"sequence_item_ids\",\n",
        "                                  \"durations\": \"sequence_durations\"})\n"
      ],
      "metadata": {
        "id": "nQkUKeyr-Vx2"
      },
      "execution_count": 21,
      "outputs": []
    },
    {
      "cell_type": "code",
      "source": [
        "sessions_train.shape"
      ],
      "metadata": {
        "id": "pKocz2zVtXjl",
        "colab": {
          "base_uri": "https://localhost:8080/"
        },
        "outputId": "8198b5c8-6661-4b52-f1d8-645b0db2565c"
      },
      "execution_count": 22,
      "outputs": [
        {
          "output_type": "execute_result",
          "data": {
            "text/plain": [
              "(59325, 4)"
            ]
          },
          "metadata": {},
          "execution_count": 22
        }
      ]
    },
    {
      "cell_type": "markdown",
      "source": [
        "##DATA AUGMENTATION"
      ],
      "metadata": {
        "id": "AYFb1LkFeKxV"
      }
    },
    {
      "cell_type": "code",
      "source": [
        "import random"
      ],
      "metadata": {
        "id": "x17xR00mCCXP"
      },
      "execution_count": 23,
      "outputs": []
    },
    {
      "cell_type": "code",
      "source": [
        "#Swap random 2 items in a sequences\n",
        "def swap_item(seq):\n",
        "  #convert string to list\n",
        "  def stringToListConvert(string):\n",
        "    li = list(string.split(\",\"))\n",
        "    return li\n",
        "  #convert string to list\n",
        "  seqList = stringToListConvert(seq)\n",
        "\n",
        "  random_idx_1 = random.randint(0, len(seqList)-1)\n",
        "  random_idx_2 = random_idx_1\n",
        "  counter = 0\n",
        "\n",
        "  while random_idx_2 == random_idx_1:\n",
        "    random_idx_2 = random.randint(0, len(seqList)-1)\n",
        "    counter += 1\n",
        "    if counter > 3:\n",
        "      return seq\n",
        "  seqList[random_idx_1], seqList[random_idx_2] = seqList[random_idx_2], seqList[random_idx_1]\n",
        "\n",
        "  ##convert seq list to string\n",
        "  seqString = ','.join(seqList)\n",
        "  return seqString"
      ],
      "metadata": {
        "id": "VZXClcnU-1q1"
      },
      "execution_count": null,
      "outputs": []
    },
    {
      "cell_type": "code",
      "source": [
        "def buildAugDatasetRI(dataTrain, nAug, fraction, augMethod):\n",
        "  #get fraction of dataset for augmentation: fraction*dataset for augmentation, the rest is remain\n",
        "  ##dataFrac= dataTrain.sample(frac=fraction)\n",
        "  leftFrac, rightFrac = train_test_split(dataTrain, random_state = 104, test_size = fraction, shuffle = True)\n",
        "  #with every session in split_dataTrain -> Generate (N_aug-1) more session like that with one item swap/ random in aug strategy\n",
        "  rightFracLen = len(rightFrac.index)\n",
        "  ##print('check n',rightFracLen)\n",
        "  for i in range (rightFracLen):\n",
        "    currentRow = rightFrac.iloc[i]\n",
        "    ##print('check currentRow', currentRow)\n",
        "    for j in range (nAug-1):\n",
        "      duplicateRow = currentRow.copy()\n",
        "      duplicateRow['sequence_item_ids'] = augMethod(duplicateRow['sequence_item_ids'])\n",
        "      ##add row to rightFrac\n",
        "      rightFrac = pd.concat([rightFrac, duplicateRow.to_frame().T], ignore_index=True)\n",
        "      ##print('check rightFrac', rightFrac)\n",
        "\n",
        "  #check again\n",
        "  #after augment the fraction*dataset, boost the number of input dataset => combine with the rest\n",
        "  dataAug = pd.concat([rightFrac, leftFrac], ignore_index = True, sort = False)\n",
        "\n",
        "  return dataAug"
      ],
      "metadata": {
        "id": "-V3fGK_2-6v2"
      },
      "execution_count": null,
      "outputs": []
    },
    {
      "cell_type": "code",
      "source": [],
      "metadata": {
        "id": "8EOymDcT-_Rv"
      },
      "execution_count": null,
      "outputs": []
    },
    {
      "cell_type": "markdown",
      "source": [
        "## Train Test Split (85%)"
      ],
      "metadata": {
        "id": "5NSR-DGTezbp"
      }
    },
    {
      "cell_type": "code",
      "source": [
        "dfAug = sessions_train"
      ],
      "metadata": {
        "id": "gN8Izpeb-2qB"
      },
      "execution_count": 24,
      "outputs": []
    },
    {
      "cell_type": "code",
      "source": [
        "random_selection = np.random.rand(len(dfAug.index)) <= 0.85\n",
        "train_data = dfAug[random_selection]\n",
        "test_data = dfAug[~random_selection]"
      ],
      "metadata": {
        "id": "xhwoPuAu8QPI"
      },
      "execution_count": 25,
      "outputs": []
    },
    {
      "cell_type": "code",
      "source": [
        "train_data.to_csv(\"train_data.csv\", index=False, sep=\"|\", header=False)\n",
        "test_data.to_csv(\"test_data.csv\", index=False, sep=\"|\", header=False)"
      ],
      "metadata": {
        "id": "1YCoMpDWXZ0T"
      },
      "execution_count": 26,
      "outputs": []
    },
    {
      "cell_type": "code",
      "source": [
        "test_train_data = pd.read_csv('train_data.csv')"
      ],
      "metadata": {
        "id": "Xhv9fBSv-m60"
      },
      "execution_count": 27,
      "outputs": []
    },
    {
      "cell_type": "code",
      "source": [
        "test_train_data"
      ],
      "metadata": {
        "id": "9EITWmgy9rp2",
        "colab": {
          "base_uri": "https://localhost:8080/",
          "height": 424
        },
        "outputId": "bee1f2dd-722e-48e0-88a7-21238d417037"
      },
      "execution_count": 28,
      "outputs": [
        {
          "output_type": "execute_result",
          "data": {
            "text/plain": [
              "            19.0|11.0|20033.0   6704.0  20033.0    6704.0|1.0  1.0  1.0.1  \\\n",
              "0            108.0|6.0|4816.0  13885.0  26130.0    4816.0|1.0  1.0   67.0   \n",
              "1           108.0|6.0|26130.0   4816.0  13885.0  26130.0|67.0  1.0    1.0   \n",
              "2           380.0|1.0|19112.0  24730.0  19112.0   24730.0|1.0  1.0    1.0   \n",
              "3           428.0|11.0|1720.0  14376.0   1720.0   14376.0|1.0  1.0    1.0   \n",
              "4           453.0|8.0|19974.0  11386.0   3791.0   19974.0|1.0  1.0   32.0   \n",
              "...                       ...      ...      ...           ...  ...    ...   \n",
              "50499   4439964.0|3.0|11397.0  10093.0  11397.0   10093.0|1.0  1.0    1.0   \n",
              "50500   4439973.0|10.0|1648.0  21328.0   1648.0   21328.0|1.0  1.0    1.0   \n",
              "50501   4439990.0|8.0|17429.0  22093.0  17429.0   22093.0|1.0  1.0    1.0   \n",
              "50502  4440001.0|10.0|25129.0  26870.0  23303.0   25129.0|1.0  1.0    1.0   \n",
              "50503  4440001.0|10.0|23303.0  25129.0  26870.0   23303.0|1.0  1.0    1.0   \n",
              "\n",
              "       1.0.2  \n",
              "0        1.0  \n",
              "1       67.0  \n",
              "2        1.0  \n",
              "3        1.0  \n",
              "4        1.0  \n",
              "...      ...  \n",
              "50499    1.0  \n",
              "50500    1.0  \n",
              "50501    1.0  \n",
              "50502    1.0  \n",
              "50503    1.0  \n",
              "\n",
              "[50504 rows x 7 columns]"
            ],
            "text/html": [
              "\n",
              "  <div id=\"df-fc527723-2a99-41d8-83a5-23339342d602\" class=\"colab-df-container\">\n",
              "    <div>\n",
              "<style scoped>\n",
              "    .dataframe tbody tr th:only-of-type {\n",
              "        vertical-align: middle;\n",
              "    }\n",
              "\n",
              "    .dataframe tbody tr th {\n",
              "        vertical-align: top;\n",
              "    }\n",
              "\n",
              "    .dataframe thead th {\n",
              "        text-align: right;\n",
              "    }\n",
              "</style>\n",
              "<table border=\"1\" class=\"dataframe\">\n",
              "  <thead>\n",
              "    <tr style=\"text-align: right;\">\n",
              "      <th></th>\n",
              "      <th>19.0|11.0|20033.0</th>\n",
              "      <th>6704.0</th>\n",
              "      <th>20033.0</th>\n",
              "      <th>6704.0|1.0</th>\n",
              "      <th>1.0</th>\n",
              "      <th>1.0.1</th>\n",
              "      <th>1.0.2</th>\n",
              "    </tr>\n",
              "  </thead>\n",
              "  <tbody>\n",
              "    <tr>\n",
              "      <th>0</th>\n",
              "      <td>108.0|6.0|4816.0</td>\n",
              "      <td>13885.0</td>\n",
              "      <td>26130.0</td>\n",
              "      <td>4816.0|1.0</td>\n",
              "      <td>1.0</td>\n",
              "      <td>67.0</td>\n",
              "      <td>1.0</td>\n",
              "    </tr>\n",
              "    <tr>\n",
              "      <th>1</th>\n",
              "      <td>108.0|6.0|26130.0</td>\n",
              "      <td>4816.0</td>\n",
              "      <td>13885.0</td>\n",
              "      <td>26130.0|67.0</td>\n",
              "      <td>1.0</td>\n",
              "      <td>1.0</td>\n",
              "      <td>67.0</td>\n",
              "    </tr>\n",
              "    <tr>\n",
              "      <th>2</th>\n",
              "      <td>380.0|1.0|19112.0</td>\n",
              "      <td>24730.0</td>\n",
              "      <td>19112.0</td>\n",
              "      <td>24730.0|1.0</td>\n",
              "      <td>1.0</td>\n",
              "      <td>1.0</td>\n",
              "      <td>1.0</td>\n",
              "    </tr>\n",
              "    <tr>\n",
              "      <th>3</th>\n",
              "      <td>428.0|11.0|1720.0</td>\n",
              "      <td>14376.0</td>\n",
              "      <td>1720.0</td>\n",
              "      <td>14376.0|1.0</td>\n",
              "      <td>1.0</td>\n",
              "      <td>1.0</td>\n",
              "      <td>1.0</td>\n",
              "    </tr>\n",
              "    <tr>\n",
              "      <th>4</th>\n",
              "      <td>453.0|8.0|19974.0</td>\n",
              "      <td>11386.0</td>\n",
              "      <td>3791.0</td>\n",
              "      <td>19974.0|1.0</td>\n",
              "      <td>1.0</td>\n",
              "      <td>32.0</td>\n",
              "      <td>1.0</td>\n",
              "    </tr>\n",
              "    <tr>\n",
              "      <th>...</th>\n",
              "      <td>...</td>\n",
              "      <td>...</td>\n",
              "      <td>...</td>\n",
              "      <td>...</td>\n",
              "      <td>...</td>\n",
              "      <td>...</td>\n",
              "      <td>...</td>\n",
              "    </tr>\n",
              "    <tr>\n",
              "      <th>50499</th>\n",
              "      <td>4439964.0|3.0|11397.0</td>\n",
              "      <td>10093.0</td>\n",
              "      <td>11397.0</td>\n",
              "      <td>10093.0|1.0</td>\n",
              "      <td>1.0</td>\n",
              "      <td>1.0</td>\n",
              "      <td>1.0</td>\n",
              "    </tr>\n",
              "    <tr>\n",
              "      <th>50500</th>\n",
              "      <td>4439973.0|10.0|1648.0</td>\n",
              "      <td>21328.0</td>\n",
              "      <td>1648.0</td>\n",
              "      <td>21328.0|1.0</td>\n",
              "      <td>1.0</td>\n",
              "      <td>1.0</td>\n",
              "      <td>1.0</td>\n",
              "    </tr>\n",
              "    <tr>\n",
              "      <th>50501</th>\n",
              "      <td>4439990.0|8.0|17429.0</td>\n",
              "      <td>22093.0</td>\n",
              "      <td>17429.0</td>\n",
              "      <td>22093.0|1.0</td>\n",
              "      <td>1.0</td>\n",
              "      <td>1.0</td>\n",
              "      <td>1.0</td>\n",
              "    </tr>\n",
              "    <tr>\n",
              "      <th>50502</th>\n",
              "      <td>4440001.0|10.0|25129.0</td>\n",
              "      <td>26870.0</td>\n",
              "      <td>23303.0</td>\n",
              "      <td>25129.0|1.0</td>\n",
              "      <td>1.0</td>\n",
              "      <td>1.0</td>\n",
              "      <td>1.0</td>\n",
              "    </tr>\n",
              "    <tr>\n",
              "      <th>50503</th>\n",
              "      <td>4440001.0|10.0|23303.0</td>\n",
              "      <td>25129.0</td>\n",
              "      <td>26870.0</td>\n",
              "      <td>23303.0|1.0</td>\n",
              "      <td>1.0</td>\n",
              "      <td>1.0</td>\n",
              "      <td>1.0</td>\n",
              "    </tr>\n",
              "  </tbody>\n",
              "</table>\n",
              "<p>50504 rows × 7 columns</p>\n",
              "</div>\n",
              "    <div class=\"colab-df-buttons\">\n",
              "\n",
              "  <div class=\"colab-df-container\">\n",
              "    <button class=\"colab-df-convert\" onclick=\"convertToInteractive('df-fc527723-2a99-41d8-83a5-23339342d602')\"\n",
              "            title=\"Convert this dataframe to an interactive table.\"\n",
              "            style=\"display:none;\">\n",
              "\n",
              "  <svg xmlns=\"http://www.w3.org/2000/svg\" height=\"24px\" viewBox=\"0 -960 960 960\">\n",
              "    <path d=\"M120-120v-720h720v720H120Zm60-500h600v-160H180v160Zm220 220h160v-160H400v160Zm0 220h160v-160H400v160ZM180-400h160v-160H180v160Zm440 0h160v-160H620v160ZM180-180h160v-160H180v160Zm440 0h160v-160H620v160Z\"/>\n",
              "  </svg>\n",
              "    </button>\n",
              "\n",
              "  <style>\n",
              "    .colab-df-container {\n",
              "      display:flex;\n",
              "      gap: 12px;\n",
              "    }\n",
              "\n",
              "    .colab-df-convert {\n",
              "      background-color: #E8F0FE;\n",
              "      border: none;\n",
              "      border-radius: 50%;\n",
              "      cursor: pointer;\n",
              "      display: none;\n",
              "      fill: #1967D2;\n",
              "      height: 32px;\n",
              "      padding: 0 0 0 0;\n",
              "      width: 32px;\n",
              "    }\n",
              "\n",
              "    .colab-df-convert:hover {\n",
              "      background-color: #E2EBFA;\n",
              "      box-shadow: 0px 1px 2px rgba(60, 64, 67, 0.3), 0px 1px 3px 1px rgba(60, 64, 67, 0.15);\n",
              "      fill: #174EA6;\n",
              "    }\n",
              "\n",
              "    .colab-df-buttons div {\n",
              "      margin-bottom: 4px;\n",
              "    }\n",
              "\n",
              "    [theme=dark] .colab-df-convert {\n",
              "      background-color: #3B4455;\n",
              "      fill: #D2E3FC;\n",
              "    }\n",
              "\n",
              "    [theme=dark] .colab-df-convert:hover {\n",
              "      background-color: #434B5C;\n",
              "      box-shadow: 0px 1px 3px 1px rgba(0, 0, 0, 0.15);\n",
              "      filter: drop-shadow(0px 1px 2px rgba(0, 0, 0, 0.3));\n",
              "      fill: #FFFFFF;\n",
              "    }\n",
              "  </style>\n",
              "\n",
              "    <script>\n",
              "      const buttonEl =\n",
              "        document.querySelector('#df-fc527723-2a99-41d8-83a5-23339342d602 button.colab-df-convert');\n",
              "      buttonEl.style.display =\n",
              "        google.colab.kernel.accessAllowed ? 'block' : 'none';\n",
              "\n",
              "      async function convertToInteractive(key) {\n",
              "        const element = document.querySelector('#df-fc527723-2a99-41d8-83a5-23339342d602');\n",
              "        const dataTable =\n",
              "          await google.colab.kernel.invokeFunction('convertToInteractive',\n",
              "                                                    [key], {});\n",
              "        if (!dataTable) return;\n",
              "\n",
              "        const docLinkHtml = 'Like what you see? Visit the ' +\n",
              "          '<a target=\"_blank\" href=https://colab.research.google.com/notebooks/data_table.ipynb>data table notebook</a>'\n",
              "          + ' to learn more about interactive tables.';\n",
              "        element.innerHTML = '';\n",
              "        dataTable['output_type'] = 'display_data';\n",
              "        await google.colab.output.renderOutput(dataTable, element);\n",
              "        const docLink = document.createElement('div');\n",
              "        docLink.innerHTML = docLinkHtml;\n",
              "        element.appendChild(docLink);\n",
              "      }\n",
              "    </script>\n",
              "  </div>\n",
              "\n",
              "\n",
              "<div id=\"df-18cea3a1-333b-4069-85ae-ee48c782b25e\">\n",
              "  <button class=\"colab-df-quickchart\" onclick=\"quickchart('df-18cea3a1-333b-4069-85ae-ee48c782b25e')\"\n",
              "            title=\"Suggest charts\"\n",
              "            style=\"display:none;\">\n",
              "\n",
              "<svg xmlns=\"http://www.w3.org/2000/svg\" height=\"24px\"viewBox=\"0 0 24 24\"\n",
              "     width=\"24px\">\n",
              "    <g>\n",
              "        <path d=\"M19 3H5c-1.1 0-2 .9-2 2v14c0 1.1.9 2 2 2h14c1.1 0 2-.9 2-2V5c0-1.1-.9-2-2-2zM9 17H7v-7h2v7zm4 0h-2V7h2v10zm4 0h-2v-4h2v4z\"/>\n",
              "    </g>\n",
              "</svg>\n",
              "  </button>\n",
              "\n",
              "<style>\n",
              "  .colab-df-quickchart {\n",
              "      --bg-color: #E8F0FE;\n",
              "      --fill-color: #1967D2;\n",
              "      --hover-bg-color: #E2EBFA;\n",
              "      --hover-fill-color: #174EA6;\n",
              "      --disabled-fill-color: #AAA;\n",
              "      --disabled-bg-color: #DDD;\n",
              "  }\n",
              "\n",
              "  [theme=dark] .colab-df-quickchart {\n",
              "      --bg-color: #3B4455;\n",
              "      --fill-color: #D2E3FC;\n",
              "      --hover-bg-color: #434B5C;\n",
              "      --hover-fill-color: #FFFFFF;\n",
              "      --disabled-bg-color: #3B4455;\n",
              "      --disabled-fill-color: #666;\n",
              "  }\n",
              "\n",
              "  .colab-df-quickchart {\n",
              "    background-color: var(--bg-color);\n",
              "    border: none;\n",
              "    border-radius: 50%;\n",
              "    cursor: pointer;\n",
              "    display: none;\n",
              "    fill: var(--fill-color);\n",
              "    height: 32px;\n",
              "    padding: 0;\n",
              "    width: 32px;\n",
              "  }\n",
              "\n",
              "  .colab-df-quickchart:hover {\n",
              "    background-color: var(--hover-bg-color);\n",
              "    box-shadow: 0 1px 2px rgba(60, 64, 67, 0.3), 0 1px 3px 1px rgba(60, 64, 67, 0.15);\n",
              "    fill: var(--button-hover-fill-color);\n",
              "  }\n",
              "\n",
              "  .colab-df-quickchart-complete:disabled,\n",
              "  .colab-df-quickchart-complete:disabled:hover {\n",
              "    background-color: var(--disabled-bg-color);\n",
              "    fill: var(--disabled-fill-color);\n",
              "    box-shadow: none;\n",
              "  }\n",
              "\n",
              "  .colab-df-spinner {\n",
              "    border: 2px solid var(--fill-color);\n",
              "    border-color: transparent;\n",
              "    border-bottom-color: var(--fill-color);\n",
              "    animation:\n",
              "      spin 1s steps(1) infinite;\n",
              "  }\n",
              "\n",
              "  @keyframes spin {\n",
              "    0% {\n",
              "      border-color: transparent;\n",
              "      border-bottom-color: var(--fill-color);\n",
              "      border-left-color: var(--fill-color);\n",
              "    }\n",
              "    20% {\n",
              "      border-color: transparent;\n",
              "      border-left-color: var(--fill-color);\n",
              "      border-top-color: var(--fill-color);\n",
              "    }\n",
              "    30% {\n",
              "      border-color: transparent;\n",
              "      border-left-color: var(--fill-color);\n",
              "      border-top-color: var(--fill-color);\n",
              "      border-right-color: var(--fill-color);\n",
              "    }\n",
              "    40% {\n",
              "      border-color: transparent;\n",
              "      border-right-color: var(--fill-color);\n",
              "      border-top-color: var(--fill-color);\n",
              "    }\n",
              "    60% {\n",
              "      border-color: transparent;\n",
              "      border-right-color: var(--fill-color);\n",
              "    }\n",
              "    80% {\n",
              "      border-color: transparent;\n",
              "      border-right-color: var(--fill-color);\n",
              "      border-bottom-color: var(--fill-color);\n",
              "    }\n",
              "    90% {\n",
              "      border-color: transparent;\n",
              "      border-bottom-color: var(--fill-color);\n",
              "    }\n",
              "  }\n",
              "</style>\n",
              "\n",
              "  <script>\n",
              "    async function quickchart(key) {\n",
              "      const quickchartButtonEl =\n",
              "        document.querySelector('#' + key + ' button');\n",
              "      quickchartButtonEl.disabled = true;  // To prevent multiple clicks.\n",
              "      quickchartButtonEl.classList.add('colab-df-spinner');\n",
              "      try {\n",
              "        const charts = await google.colab.kernel.invokeFunction(\n",
              "            'suggestCharts', [key], {});\n",
              "      } catch (error) {\n",
              "        console.error('Error during call to suggestCharts:', error);\n",
              "      }\n",
              "      quickchartButtonEl.classList.remove('colab-df-spinner');\n",
              "      quickchartButtonEl.classList.add('colab-df-quickchart-complete');\n",
              "    }\n",
              "    (() => {\n",
              "      let quickchartButtonEl =\n",
              "        document.querySelector('#df-18cea3a1-333b-4069-85ae-ee48c782b25e button');\n",
              "      quickchartButtonEl.style.display =\n",
              "        google.colab.kernel.accessAllowed ? 'block' : 'none';\n",
              "    })();\n",
              "  </script>\n",
              "</div>\n",
              "\n",
              "  <div id=\"id_6df8e853-6852-4dc2-ae42-1b4f8ce46f5b\">\n",
              "    <style>\n",
              "      .colab-df-generate {\n",
              "        background-color: #E8F0FE;\n",
              "        border: none;\n",
              "        border-radius: 50%;\n",
              "        cursor: pointer;\n",
              "        display: none;\n",
              "        fill: #1967D2;\n",
              "        height: 32px;\n",
              "        padding: 0 0 0 0;\n",
              "        width: 32px;\n",
              "      }\n",
              "\n",
              "      .colab-df-generate:hover {\n",
              "        background-color: #E2EBFA;\n",
              "        box-shadow: 0px 1px 2px rgba(60, 64, 67, 0.3), 0px 1px 3px 1px rgba(60, 64, 67, 0.15);\n",
              "        fill: #174EA6;\n",
              "      }\n",
              "\n",
              "      [theme=dark] .colab-df-generate {\n",
              "        background-color: #3B4455;\n",
              "        fill: #D2E3FC;\n",
              "      }\n",
              "\n",
              "      [theme=dark] .colab-df-generate:hover {\n",
              "        background-color: #434B5C;\n",
              "        box-shadow: 0px 1px 3px 1px rgba(0, 0, 0, 0.15);\n",
              "        filter: drop-shadow(0px 1px 2px rgba(0, 0, 0, 0.3));\n",
              "        fill: #FFFFFF;\n",
              "      }\n",
              "    </style>\n",
              "    <button class=\"colab-df-generate\" onclick=\"generateWithVariable('test_train_data')\"\n",
              "            title=\"Generate code using this dataframe.\"\n",
              "            style=\"display:none;\">\n",
              "\n",
              "  <svg xmlns=\"http://www.w3.org/2000/svg\" height=\"24px\"viewBox=\"0 0 24 24\"\n",
              "       width=\"24px\">\n",
              "    <path d=\"M7,19H8.4L18.45,9,17,7.55,7,17.6ZM5,21V16.75L18.45,3.32a2,2,0,0,1,2.83,0l1.4,1.43a1.91,1.91,0,0,1,.58,1.4,1.91,1.91,0,0,1-.58,1.4L9.25,21ZM18.45,9,17,7.55Zm-12,3A5.31,5.31,0,0,0,4.9,8.1,5.31,5.31,0,0,0,1,6.5,5.31,5.31,0,0,0,4.9,4.9,5.31,5.31,0,0,0,6.5,1,5.31,5.31,0,0,0,8.1,4.9,5.31,5.31,0,0,0,12,6.5,5.46,5.46,0,0,0,6.5,12Z\"/>\n",
              "  </svg>\n",
              "    </button>\n",
              "    <script>\n",
              "      (() => {\n",
              "      const buttonEl =\n",
              "        document.querySelector('#id_6df8e853-6852-4dc2-ae42-1b4f8ce46f5b button.colab-df-generate');\n",
              "      buttonEl.style.display =\n",
              "        google.colab.kernel.accessAllowed ? 'block' : 'none';\n",
              "\n",
              "      buttonEl.onclick = () => {\n",
              "        google.colab.notebook.generateWithVariable('test_train_data');\n",
              "      }\n",
              "      })();\n",
              "    </script>\n",
              "  </div>\n",
              "\n",
              "    </div>\n",
              "  </div>\n"
            ],
            "application/vnd.google.colaboratory.intrinsic+json": {
              "type": "dataframe",
              "variable_name": "test_train_data",
              "summary": "{\n  \"name\": \"test_train_data\",\n  \"rows\": 50504,\n  \"fields\": [\n    {\n      \"column\": \"19.0|11.0|20033.0\",\n      \"properties\": {\n        \"dtype\": \"string\",\n        \"num_unique_values\": 50378,\n        \"samples\": [\n          \"2119731.0|8.0|27556.0\",\n          \"1425227.0|9.0|14210.0\",\n          \"2983434.0|6.0|26103.0\"\n        ],\n        \"semantic_type\": \"\",\n        \"description\": \"\"\n      }\n    },\n    {\n      \"column\": \"6704.0\",\n      \"properties\": {\n        \"dtype\": \"number\",\n        \"std\": 8147.572360275786,\n        \"min\": 3.0,\n        \"max\": 28143.0,\n        \"num_unique_values\": 13162,\n        \"samples\": [\n          21482.0,\n          23785.0,\n          24709.0\n        ],\n        \"semantic_type\": \"\",\n        \"description\": \"\"\n      }\n    },\n    {\n      \"column\": \"20033.0\",\n      \"properties\": {\n        \"dtype\": \"number\",\n        \"std\": 8168.502445992679,\n        \"min\": 3.0,\n        \"max\": 28141.0,\n        \"num_unique_values\": 13197,\n        \"samples\": [\n          18543.0,\n          27761.0,\n          25865.0\n        ],\n        \"semantic_type\": \"\",\n        \"description\": \"\"\n      }\n    },\n    {\n      \"column\": \"6704.0|1.0\",\n      \"properties\": {\n        \"dtype\": \"category\",\n        \"num_unique_values\": 14836,\n        \"samples\": [\n          \"19355.0|32.0\",\n          \"1272.0|1.0\",\n          \"2214.0|1.0\"\n        ],\n        \"semantic_type\": \"\",\n        \"description\": \"\"\n      }\n    },\n    {\n      \"column\": \"1.0\",\n      \"properties\": {\n        \"dtype\": \"number\",\n        \"std\": 1693.822304410348,\n        \"min\": 0.0,\n        \"max\": 76807.0,\n        \"num_unique_values\": 1142,\n        \"samples\": [\n          375.0,\n          11950.0,\n          110.0\n        ],\n        \"semantic_type\": \"\",\n        \"description\": \"\"\n      }\n    },\n    {\n      \"column\": \"1.0.1\",\n      \"properties\": {\n        \"dtype\": \"number\",\n        \"std\": 1284.2699703355297,\n        \"min\": 0.0,\n        \"max\": 79934.0,\n        \"num_unique_values\": 913,\n        \"samples\": [\n          1224.0,\n          560.0,\n          9792.0\n        ],\n        \"semantic_type\": \"\",\n        \"description\": \"\"\n      }\n    },\n    {\n      \"column\": \"1.0.2\",\n      \"properties\": {\n        \"dtype\": \"number\",\n        \"std\": 1715.7760576436638,\n        \"min\": 0.0,\n        \"max\": 76807.0,\n        \"num_unique_values\": 1217,\n        \"samples\": [\n          1457.0,\n          1211.0,\n          9071.0\n        ],\n        \"semantic_type\": \"\",\n        \"description\": \"\"\n      }\n    }\n  ]\n}"
            }
          },
          "metadata": {},
          "execution_count": 28
        }
      ]
    },
    {
      "cell_type": "markdown",
      "metadata": {
        "id": "pBqbNsk8o5oz"
      },
      "source": [
        "## Define metadata"
      ]
    },
    {
      "cell_type": "code",
      "execution_count": 29,
      "metadata": {
        "id": "J2V1frhUo5oz"
      },
      "outputs": [],
      "source": [
        "CSV_HEADER = list(sessions_train.columns)\n",
        "\n",
        "CATEGORICAL_FEATURES_WITH_VOCABULARY = {\n",
        "    \"session_id\": list(sessions_train.session_id.unique()),\n",
        "    \"item_id\": list(item_features.item_id.unique()),\n",
        "    \"item_category\": list(item_features.feature_category_id.unique()),\n",
        "    \"item_category_value\": list(item_features.feature_value_id.unique()),\n",
        "    \"month\": list(sessions_train.month.unique())\n",
        "}\n",
        "\n",
        "OTHER_FEATURES = [\"month\"]\n",
        "\n",
        "ITEM_FEATURES = [\"item_category\", \"item_category_value\"]"
      ]
    },
    {
      "cell_type": "code",
      "source": [
        "CSV_HEADER"
      ],
      "metadata": {
        "id": "kh2IfDmBWocY",
        "colab": {
          "base_uri": "https://localhost:8080/"
        },
        "outputId": "9ba076d9-4410-42ca-e566-ddef9ea7fe86"
      },
      "execution_count": 30,
      "outputs": [
        {
          "output_type": "execute_result",
          "data": {
            "text/plain": [
              "['session_id', 'month', 'sequence_item_ids', 'sequence_durations']"
            ]
          },
          "metadata": {},
          "execution_count": 30
        }
      ]
    },
    {
      "cell_type": "markdown",
      "metadata": {
        "id": "Yr4Oxvx9o5oz"
      },
      "source": [
        "## Create `tf.data.Dataset` for training and evaluation"
      ]
    },
    {
      "cell_type": "code",
      "execution_count": 31,
      "metadata": {
        "id": "2eAG7KDYo5oz"
      },
      "outputs": [],
      "source": [
        "def get_dataset_from_csv(csv_file_path, shuffle=False, batch_size=128):\n",
        "    def process(features):\n",
        "        item_ids_string = features[\"sequence_item_ids\"]\n",
        "        sequence_item_ids = tf.strings.split(item_ids_string, \",\").to_tensor()\n",
        "\n",
        "        # The last movie id in the sequence is the target movie.\n",
        "        features[\"target_item_id\"] = sequence_item_ids[:, -1]\n",
        "        features[\"sequence_item_ids\"] = sequence_item_ids[:, :-1]\n",
        "\n",
        "        durations_string = features[\"sequence_durations\"]\n",
        "        sequence_durations = tf.strings.to_number(\n",
        "            tf.strings.split(durations_string, \",\"), tf.dtypes.float32\n",
        "        ).to_tensor()\n",
        "\n",
        "        # The last durations in the sequence is the target for the model to predict.\n",
        "        target = sequence_durations[:, -1]\n",
        "        features[\"sequence_durations\"] = sequence_durations[:, :-1]\n",
        "\n",
        "        return features, target\n",
        "\n",
        "    dataset = tf.data.experimental.make_csv_dataset(\n",
        "        csv_file_path,\n",
        "        batch_size=batch_size,\n",
        "        column_names=CSV_HEADER,\n",
        "        num_epochs=1,\n",
        "        header=False,\n",
        "        field_delim=\"|\",\n",
        "        shuffle=shuffle,\n",
        "    ).map(process)\n",
        "\n",
        "    return dataset\n"
      ]
    },
    {
      "cell_type": "code",
      "source": [
        "train_dataset = get_dataset_from_csv(\"train_data.csv\", shuffle=True, batch_size=265)"
      ],
      "metadata": {
        "id": "fgheH6C8XgMC"
      },
      "execution_count": 32,
      "outputs": []
    },
    {
      "cell_type": "code",
      "source": [
        "train_dataset"
      ],
      "metadata": {
        "id": "Lx6MpPcDYBpv",
        "colab": {
          "base_uri": "https://localhost:8080/"
        },
        "outputId": "1eaa6847-a22f-45d3-9d0c-4e780d539073"
      },
      "execution_count": 33,
      "outputs": [
        {
          "output_type": "execute_result",
          "data": {
            "text/plain": [
              "<_MapDataset element_spec=(OrderedDict([('session_id', TensorSpec(shape=(None,), dtype=tf.float32, name=None)), ('month', TensorSpec(shape=(None,), dtype=tf.float32, name=None)), ('sequence_item_ids', TensorSpec(shape=(None, None), dtype=tf.string, name=None)), ('sequence_durations', TensorSpec(shape=(None, None), dtype=tf.float32, name=None)), ('target_item_id', TensorSpec(shape=(None,), dtype=tf.string, name=None))]), TensorSpec(shape=(None,), dtype=tf.float32, name=None))>"
            ]
          },
          "metadata": {},
          "execution_count": 33
        }
      ]
    },
    {
      "cell_type": "markdown",
      "metadata": {
        "id": "CV-jhvbMo5oz"
      },
      "source": [
        "## Create model inputs"
      ]
    },
    {
      "cell_type": "code",
      "source": [
        "def create_model_inputs(): #to transform tensor-like object\n",
        "    return {\n",
        "        \"session_id\": keras.Input(name=\"session_id\", shape=(1,), dtype=\"string\"),\n",
        "        \"sequence_item_ids\": keras.Input(\n",
        "            name=\"sequence_item_ids\", shape=(sequence_length - 1,), dtype=\"string\"\n",
        "        ),\n",
        "        \"target_item_id\": keras.Input(\n",
        "            name=\"target_item_id\", shape=(1,), dtype=\"string\"\n",
        "        ),\n",
        "        \"sequence_durations\": keras.Input(\n",
        "            name=\"sequence_durations\", shape=(sequence_length - 1,), dtype=tf.float32\n",
        "        ),\n",
        "        \"month\": keras.Input(name=\"month\", shape=(1,), dtype=\"string\"),\n",
        "    }"
      ],
      "metadata": {
        "id": "BTLAbMenYJou"
      },
      "execution_count": 34,
      "outputs": []
    },
    {
      "cell_type": "code",
      "source": [
        "#Build vocabulary of item features\n",
        "#filter a subset of item_features table just from item from data train\n",
        "dataset = dataset[dataset[\"item_id\"].notnull()]\n",
        "item_features_filtered = item_features.loc[dataset[\"item_id\"]]"
      ],
      "metadata": {
        "id": "bDKFSj0OY21a"
      },
      "execution_count": 35,
      "outputs": []
    },
    {
      "cell_type": "code",
      "source": [
        "item_features_filtered = item_features_filtered.drop(columns = ['feature_value_id'])"
      ],
      "metadata": {
        "id": "FKOsi-aJZgUI"
      },
      "execution_count": 36,
      "outputs": []
    },
    {
      "cell_type": "code",
      "source": [
        "#create one-hot encoding for items(feature_category_id)\n",
        "one_hot_item_features_filtered = pd.get_dummies(item_features_filtered, prefix = 'feature_', columns = ['item_id', 'feature_category_id'])"
      ],
      "metadata": {
        "id": "Gm04ec1vaB9T"
      },
      "execution_count": 37,
      "outputs": []
    },
    {
      "cell_type": "code",
      "source": [
        "one_hot_item_features_filtered.info()"
      ],
      "metadata": {
        "id": "6nDjSyq4aF3B",
        "colab": {
          "base_uri": "https://localhost:8080/"
        },
        "outputId": "9cde0e88-052d-48ca-97b7-e30ff34fcc67"
      },
      "execution_count": 38,
      "outputs": [
        {
          "output_type": "stream",
          "name": "stdout",
          "text": [
            "<class 'pandas.core.frame.DataFrame'>\n",
            "Index: 310166 entries, 4152 to 20713\n",
            "Columns: 1488 entries, feature__2 to feature__73\n",
            "dtypes: bool(1488)\n",
            "memory usage: 442.5 MB\n"
          ]
        }
      ]
    },
    {
      "cell_type": "markdown",
      "metadata": {
        "id": "7BYgzavpo5oz"
      },
      "source": [
        "## Encode input features\n",
        "\n",
        "The `encode_input_features` method works as follows:\n",
        "\n",
        "1. Each categorical other feature (month) is encoded using `layers.Embedding`, with embedding\n",
        "dimension equals to the square root of the vocabulary size of the feature.\n",
        "The embeddings of these features are concatenated to form a single input tensor.\n",
        "\n",
        "2. Each item in the item sequence and the target item is encoded `layers.Embedding`,\n",
        "where the dimension size is the square root of the number of items.\n",
        "\n",
        "3. A multi-hot cates vector for each item is concatenated with its embedding vector,\n",
        "and processed using a non-linear `layers.Dense` to output a vector of the same item\n",
        "embedding dimensions.\n",
        "\n",
        "4. A positional embedding is added to each item embedding in the sequence, and then\n",
        "multiplied by its durations from the durations sequence.\n",
        "\n",
        "5. The target item embedding is concatenated to the sequence item embeddings, producing\n",
        "a tensor with the shape of `[batch size, sequence length, embedding size]`, as expected\n",
        "by the attention layer for the transformer architecture.\n",
        "\n",
        "6. The method returns a tuple of two elements:  `encoded_transformer_features` and\n",
        "`encoded_other_features`."
      ]
    },
    {
      "cell_type": "code",
      "execution_count": 39,
      "metadata": {
        "id": "yfLpgwFjo5oz"
      },
      "outputs": [],
      "source": [
        "def encode_input_features(\n",
        "    inputs,\n",
        "    include_session_id=False,\n",
        "    include_other_features=False,\n",
        "    include_item_features=True,\n",
        "):\n",
        "    encoded_transformer_features = []\n",
        "    encoded_other_features = []\n",
        "\n",
        "    other_feature_names = []\n",
        "    if include_session_id:\n",
        "        other_feature_names.append(\"session_id\")\n",
        "    if include_other_features:\n",
        "        other_feature_names.extend(OTHER_FEATURES) #extend to add item in a list of other features\n",
        "\n",
        "    ## Encode other features\n",
        "    for feature_name in other_feature_names:\n",
        "        # Convert the string input values into integer indices.\n",
        "        vocabulary = [str(i) for i in CATEGORICAL_FEATURES_WITH_VOCABULARY[feature_name]] #add item in a list of other features\n",
        "        print(vocabulary)\n",
        "        idx = StringLookup(vocabulary=vocabulary,\n",
        "                           mask_token=None,\n",
        "                           num_oov_indices=1,\n",
        "                           )(inputs[feature_name])\n",
        "        # Compute embedding dimensions\n",
        "        embedding_dims = int(math.sqrt(len(vocabulary)))\n",
        "        # Create an embedding layer with the specified dimensions.\n",
        "        embedding_encoder = layers.Embedding(\n",
        "            input_dim=len(vocabulary),\n",
        "            output_dim=embedding_dims,\n",
        "            name=f\"{feature_name}_embedding\",\n",
        "        )\n",
        "        # Convert the index values to embedding representations.\n",
        "        encoded_other_features.append(embedding_encoder(idx))\n",
        "\n",
        "    ## Create a single embedding vector for the session features ##Skip\n",
        "    if len(encoded_other_features) > 1:\n",
        "        encoded_other_features = layers.concatenate(encoded_other_features)\n",
        "    elif len(encoded_other_features) == 1:\n",
        "        encoded_other_features = encoded_other_features[0]\n",
        "    else:\n",
        "        encoded_other_features = None\n",
        "\n",
        "    ## Create a item embedding encoder\n",
        "    item_vocabulary = [str(i) for i in CATEGORICAL_FEATURES_WITH_VOCABULARY['item_id']]\n",
        "                      #tf.strings.as_string(CATEGORICAL_FEATURES_WITH_VOCABULARY[\"item_id\"])\n",
        "    item_embedding_dims = int(math.sqrt(len(item_vocabulary)))\n",
        "    #print(item_vocabulary, 'item_vocabulary')\n",
        "    # Create a lookup to convert string values to integer indices.\n",
        "    item_index_lookup = StringLookup(\n",
        "        vocabulary=item_vocabulary,\n",
        "        mask_token=None,\n",
        "        num_oov_indices=1,\n",
        "        name=\"item_index_lookup\",\n",
        "    )\n",
        "    # Create an item embedding layer with the specified dimensions.\n",
        "    item_embedding_encoder = layers.Embedding(\n",
        "        input_dim=len(item_vocabulary),\n",
        "        output_dim=item_embedding_dims,\n",
        "        name=f\"item_embedding\",\n",
        "    )\n",
        "    # Create a vector lookup for item category\n",
        "    #cate_vectors present one-hot-encoding\n",
        "    #input_dim presents a len of unique item_id and output_dim presents a len of unique\n",
        "    cate_vectors = one_hot_item_features_filtered.to_numpy()\n",
        "    # Create a lookup to convert string values to integer indices.\n",
        "    item_cate_lookup = layers.Embedding(\n",
        "        input_dim=cate_vectors.shape[0],\n",
        "        output_dim=cate_vectors.shape[1],\n",
        "        embeddings_initializer=keras.initializers.Constant(cate_vectors),\n",
        "        trainable=False,\n",
        "        name=\"cate_vector\",\n",
        "    )\n",
        "    # Create a processing layer for cate.\n",
        "    item_embedding_dims_embedding_processor = layers.Dense(\n",
        "        units=item_embedding_dims,\n",
        "        activation=\"relu\",\n",
        "        name=\"process_item_embedding_with_cate\",\n",
        "    )\n",
        "\n",
        "    ## Define a function to encode a given item id.\n",
        "    def encode_item(item_id):\n",
        "        # Convert the string input values into integer indices.\n",
        "        item_idx = item_index_lookup(item_id)\n",
        "        # Item embedding\n",
        "        item_embedding = item_embedding_encoder(item_idx)\n",
        "        encoded_item = item_embedding\n",
        "        if include_item_features:\n",
        "            item_cate_vector = item_cate_lookup(item_idx)\n",
        "            encoded_item = item_embedding_dims_embedding_processor (\n",
        "                layers.concatenate([item_embedding, item_cate_vector])\n",
        "            )\n",
        "        return encoded_item\n",
        "\n",
        "    ## Encoding target_item_id\n",
        "    target_item_id = inputs[\"target_item_id\"]\n",
        "    encoded_target_item = encode_item(target_item_id)\n",
        "\n",
        "    ## Encoding sequence item_ids.\n",
        "    sequence_item_ids = inputs[\"sequence_item_ids\"]\n",
        "    encoded_sequence_items = encode_item(sequence_item_ids)\n",
        "    # Create positional embedding.\n",
        "    position_embedding_encoder = layers.Embedding(\n",
        "        input_dim=sequence_length,\n",
        "        output_dim=item_embedding_dims,\n",
        "        name=\"position_embedding\",\n",
        "    )\n",
        "    positions = tf.range(start=0, limit=sequence_length - 1, delta=1)\n",
        "    encodded_positions = position_embedding_encoder(positions)\n",
        "    # Retrieve sequence durations to incorporate them into the encoding of the item.\n",
        "    sequence_durations = inputs[\"sequence_durations\"]\n",
        "    sequence_durations = keras.ops.expand_dims(sequence_durations, -1)\n",
        "    # Add the positional encoding to the item encodings and multiply them by rating.\n",
        "    encoded_sequence_items_with_position_and_rating = layers.Multiply()(\n",
        "        [(encoded_sequence_items + encodded_positions), sequence_durations]\n",
        "    )\n",
        "\n",
        "    # Construct the transformer inputs.\n",
        "    for i in range(sequence_length - 1):\n",
        "        feature = encoded_sequence_items_with_position_and_rating[:, i, ...]\n",
        "        feature = keras.ops.expand_dims(feature, 1)\n",
        "        encoded_transformer_features.append(feature)\n",
        "    encoded_transformer_features.append(encoded_target_item)\n",
        "\n",
        "    encoded_transformer_features = layers.concatenate(\n",
        "        encoded_transformer_features, axis=1\n",
        "    )\n",
        "\n",
        "    return encoded_transformer_features, encoded_other_features\n"
      ]
    },
    {
      "cell_type": "markdown",
      "metadata": {
        "id": "7QGKKydwo5o0"
      },
      "source": [
        "## Create a BST model"
      ]
    },
    {
      "cell_type": "code",
      "execution_count": 40,
      "metadata": {
        "id": "64vsuHOTo5o0"
      },
      "outputs": [],
      "source": [
        "include_session_id = False\n",
        "include_other_features = False\n",
        "include_item_features = True\n",
        "\n",
        "hidden_units = [256, 128]\n",
        "dropout_rate = 0.1\n",
        "num_heads = 3\n",
        "\n",
        "\n",
        "def create_model():\n",
        "    inputs = create_model_inputs()\n",
        "    transformer_features, other_features = encode_input_features(\n",
        "        inputs, include_session_id, include_other_features, include_item_features\n",
        "    )\n",
        "\n",
        "    # Create a multi-headed attention layer.\n",
        "    attention_output = layers.MultiHeadAttention(\n",
        "        num_heads=num_heads, key_dim=transformer_features.shape[2], dropout=dropout_rate\n",
        "    )(transformer_features, transformer_features)\n",
        "\n",
        "    # Transformer block.\n",
        "    attention_output = layers.Dropout(dropout_rate)(attention_output)\n",
        "    x1 = layers.Add()([transformer_features, attention_output])\n",
        "    x1 = layers.LayerNormalization()(x1)\n",
        "    x2 = layers.LeakyReLU()(x1)\n",
        "    x2 = layers.Dense(units=x2.shape[-1])(x2)\n",
        "    x2 = layers.Dropout(dropout_rate)(x2)\n",
        "    transformer_features = layers.Add()([x1, x2])\n",
        "    transformer_features = layers.LayerNormalization()(transformer_features)\n",
        "    features = layers.Flatten()(transformer_features)\n",
        "\n",
        "    # Included the other features.\n",
        "    if other_features is not None:\n",
        "        features = layers.concatenate(\n",
        "            [features, layers.Reshape([other_features.shape[-1]])(other_features)]\n",
        "        )\n",
        "\n",
        "    # Fully-connected layers.\n",
        "    for num_units in hidden_units:\n",
        "        features = layers.Dense(num_units)(features)\n",
        "        features = layers.BatchNormalization()(features)\n",
        "        features = layers.LeakyReLU()(features)\n",
        "        features = layers.Dropout(dropout_rate)(features)\n",
        "\n",
        "    outputs = layers.Dense(units=1)(features)\n",
        "    model = keras.Model(inputs=inputs, outputs=outputs)\n",
        "    return model\n",
        "\n",
        "\n",
        "model = create_model()"
      ]
    },
    {
      "cell_type": "markdown",
      "metadata": {
        "id": "ZU9dj6Zio5o0"
      },
      "source": [
        "## Run training and evaluation experiment"
      ]
    },
    {
      "cell_type": "code",
      "source": [
        "from keras import losses"
      ],
      "metadata": {
        "id": "EzvY1cADAKzd"
      },
      "execution_count": 41,
      "outputs": []
    },
    {
      "cell_type": "code",
      "execution_count": 46,
      "metadata": {
        "id": "D2APw2g-o5o0",
        "colab": {
          "base_uri": "https://localhost:8080/"
        },
        "outputId": "2bca9b6a-8ecb-4050-ff59-692185f71f9d"
      },
      "outputs": [
        {
          "output_type": "stream",
          "name": "stdout",
          "text": [
            "Epoch 1/5\n",
            "\u001b[1m191/191\u001b[0m \u001b[32m━━━━━━━━━━━━━━━━━━━━\u001b[0m\u001b[37m\u001b[0m \u001b[1m10s\u001b[0m 29ms/step - loss: 2.4764e-05 - precision: 0.9999 - recall: 0.5823\n",
            "Epoch 2/5\n",
            "\u001b[1m191/191\u001b[0m \u001b[32m━━━━━━━━━━━━━━━━━━━━\u001b[0m\u001b[37m\u001b[0m \u001b[1m11s\u001b[0m 32ms/step - loss: 2.6836e-05 - precision: 1.0000 - recall: 0.5824\n",
            "Epoch 3/5\n",
            "\u001b[1m191/191\u001b[0m \u001b[32m━━━━━━━━━━━━━━━━━━━━\u001b[0m\u001b[37m\u001b[0m \u001b[1m9s\u001b[0m 27ms/step - loss: 2.5059e-05 - precision: 1.0000 - recall: 0.5828\n",
            "Epoch 4/5\n",
            "\u001b[1m191/191\u001b[0m \u001b[32m━━━━━━━━━━━━━━━━━━━━\u001b[0m\u001b[37m\u001b[0m \u001b[1m6s\u001b[0m 31ms/step - loss: 2.4401e-05 - precision: 0.9999 - recall: 0.5765\n",
            "Epoch 5/5\n",
            "\u001b[1m191/191\u001b[0m \u001b[32m━━━━━━━━━━━━━━━━━━━━\u001b[0m\u001b[37m\u001b[0m \u001b[1m5s\u001b[0m 26ms/step - loss: 2.4429e-05 - precision: 0.9999 - recall: 0.5826\n",
            "Test recall: 0.996\n"
          ]
        }
      ],
      "source": [
        "# Compile the model.\n",
        "model.compile(\n",
        "    optimizer=keras.optimizers.Adagrad(learning_rate=0.01),\n",
        "    loss=keras.losses.CategoricalCrossentropy(label_smoothing=0.1),\n",
        "    metrics=[keras.metrics.Precision(name = 'precision'),\n",
        "             keras.metrics.Recall(name = 'recall')]\n",
        ")\n",
        "\n",
        "# Read the training data.\n",
        "train_dataset = get_dataset_from_csv(\"train_data.csv\", shuffle=True, batch_size=265)\n",
        "\n",
        "# Fit the model with the training data.\n",
        "model.fit(train_dataset, epochs=5)\n",
        "\n",
        "# Read the test data.\n",
        "test_dataset = get_dataset_from_csv(\"test_data.csv\", batch_size=265)\n",
        "\n",
        "# Evaluate the model on the test data.\n",
        "\n",
        "_, precision, recall = model.evaluate(test_dataset, verbose=0)\n",
        "print(f\"Test recall: {round(recall, 3)}\")"
      ]
    }
  ],
  "metadata": {
    "accelerator": "GPU",
    "colab": {
      "provenance": [],
      "toc_visible": true
    },
    "kernelspec": {
      "display_name": "Python 3",
      "language": "python",
      "name": "python3"
    },
    "language_info": {
      "codemirror_mode": {
        "name": "ipython",
        "version": 3
      },
      "file_extension": ".py",
      "mimetype": "text/x-python",
      "name": "python",
      "nbconvert_exporter": "python",
      "pygments_lexer": "ipython3",
      "version": "3.7.0"
    }
  },
  "nbformat": 4,
  "nbformat_minor": 0
}